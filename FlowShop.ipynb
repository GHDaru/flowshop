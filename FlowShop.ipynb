{
 "cells": [
  {
   "cell_type": "markdown",
   "metadata": {},
   "source": [
    "### FLOW SHOP Library\n",
    "calculate_time  \n",
    "makespan  \n",
    "gantt  \n",
    "plot_gantt  \n",
    "palmer  \n",
    "algoritmo_01  \n",
    "algoritmo_02  \n",
    "problem_df  \n",
    "swap  "
   ]
  },
  {
   "cell_type": "code",
   "execution_count": 18,
   "metadata": {},
   "outputs": [],
   "source": [
    "#fonte: https://plot.ly/python/gantt/\n",
    "import plotly.figure_factory as ff\n",
    "import pandas as pd\n",
    "import numpy as np\n",
    "from datetime import datetime, timedelta\n",
    "#Arquivos online\n",
    "#http://people.brunel.ac.uk/~mastjjb/jeb/orlib/flowshopinfo.html\n"
   ]
  },
  {
   "cell_type": "code",
   "execution_count": 50,
   "metadata": {},
   "outputs": [
    {
     "data": {
      "image/png": "[encoded data removed]",
      "text/plain": [
       "<Figure size 1440x72 with 1 Axes>"
      ]
     },
     "metadata": {
      "needs_background": "light"
     },
     "output_type": "display_data"
    }
   ],
   "source": [
    "import seaborn as sns\n",
    "sns.color_palette(\"Set1\", n_colors=20)\n",
    "sns.palplot(sns.color_palette(\"hls\", 20))"
   ]
  },
  {
   "cell_type": "code",
   "execution_count": 51,
   "metadata": {},
   "outputs": [],
   "source": [
    "#Exercício \n",
    "#algoritmo 01 Busca Sequencial sem reinício assume solução * se for melhor e se torna base\n",
    "#algoritmo 02 Busca Sequencial com reinício assume solução * se for melhor e se torna base\n",
    "#Saída melhor solução, makespan, Soluções Testadas e Melhorias Obtidas\n",
    "#passar como entrada a sequencia inicial\n",
    "#Quais melhorias podem ser implementadas no algoritmo de sequenciamento\n",
    "\n",
    "#Example dictionary\n",
    "#4 tasks, 3 machine\n",
    "#Each tasks contains 2 attributes, name and a vector which represents processing time for each machine\n",
    "#Each machine contais 2 atributes, name and start_time\n",
    "dict_problem = { 'Tasks': [],\n",
    "                 'Machines': []}\n",
    "import numpy as np\n",
    "from datetime import datetime, timedelta\n",
    "import math\n",
    "\n",
    "class FlowShopPermutational():\n",
    "    \n",
    "    def __init__(self, num_tasks, num_machines, processing_time, free_time, scheduling):\n",
    "        self.task_quantity = num_tasks\n",
    "        self.machine_quantity = num_machines\n",
    "        #print(free_time)\n",
    "        if len(free_time)!=num_machines:\n",
    "            raise 'Free time dimension is different of the number of machines.'\n",
    "        self.start_time = free_time.copy()\n",
    "        if processing_time.shape != (num_tasks, num_machines):\n",
    "            raise 'Wrong procession time dimension.'\n",
    "        self.job_processing_time = processing_time.copy()\n",
    "        if len(scheduling)!= num_tasks:\n",
    "            raise 'Wrong scheduling dimension'\n",
    "        for i in range(1,num_tasks+1):\n",
    "            if i not in scheduling:\n",
    "                raise 'Wrong Scheduling.  Some operations not scheduled.'\n",
    "        self.job_scheduling = scheduling.copy()\n",
    "        #start time for operations initialized with zeros\n",
    "        self.job_start_time = np.zeros((self.task_quantity,self.machine_quantity))\n",
    "        #start time for operations initialized with zeros                               \n",
    "        self.job_end_time = np.zeros((self.task_quantity,self.machine_quantity))\n",
    "        #Calculate Start Time and End Time for each Task in each Machine based in scheduling\n",
    "        #Calculate makespan and completion time optimization function\n",
    "        self.calculate_time()\n",
    "        #optimization functions start with max float number\n",
    "        #self.completion_time = np.finfo(float).max\n",
    "        #self.makespan = np.finfo(float).max\n",
    "        #tasks name if not informed number order\n",
    "        #if task_name=='':\n",
    "        #    self.task_name = [ \"Task{:03d}\".format(i) for i in range(1,self.task_quantity+1)]\n",
    "        #else:\n",
    "        #    self.task_name = task_name\n",
    "        #machine name if not informed number order\n",
    "        #if machine_name=='':\n",
    "        #    self.machine_name = [ \"Machine{:03d}\".format(i) for i in range(1,self.machine_quantity+1)]\n",
    "        #else:\n",
    "        #    self.machine_name = machine_name\n",
    "        #reference time if not informed now is considered\n",
    "        #if reference_time == '':\n",
    "        #    self.reference_time = datetime.now()\n",
    "        #else:\n",
    "        #    self.reference_time = reference_time\n",
    "        #time unit if not informed min is considered\n",
    "        \n",
    "    def to_dataframe(self, reference_time = datetime.now()):\n",
    "        from datetime import datetime,timedelta\n",
    "        task_name = [ \"Task{:03d}\".format(i) for i in range(1,self.task_quantity+1)]\n",
    "        machine_name = [ \"Machine{:03d}\".format(i) for i in range(1,self.machine_quantity+1)]\n",
    "        dict_df = {'Task':[],'Machine':[],'Start':[],'Finish':[]}\n",
    "        for task in range(self.task_quantity):\n",
    "            for machine in range(self.machine_quantity):\n",
    "                dict_df['Task'].append(task_name[task])\n",
    "                dict_df['Machine'].append(machine_name[machine])\n",
    "                dict_df['Start'].append((reference_time + timedelta(minutes=self.job_start_time[task,machine])))#.strftime(\"%Y-%m-%d %H:%M:%S\")\n",
    "                dict_df['Finish'].append((reference_time + timedelta(minutes=self.job_end_time[task,machine])))#.strftime(\"%Y-%m-%d %H:%M:%S\")\n",
    "        self.df = pd.DataFrame(dict_df)\n",
    "        return self.df.copy()\n",
    "\n",
    "    #def to_dict(self):\n",
    "    #    self.dict['Number of Tasks'] = self.task_quantity\n",
    "    #    self.dict['Number of Machines'] = self.machine_quantity\n",
    "    #    self.dict['Order'] = self.job_scheduling\n",
    "    #    self.dict['Completion Time'] = self.completion_time\n",
    "    #    self.dict['Machines']=[{} for i in range(self.machine_quantity)]\n",
    "    #    for machine in range(self.machine_quantity):\n",
    "    #        self.dict['Machines'][machine]['name'] = 'Machine_' + str(machine)\n",
    "    #        self.dict['Machines'][machine]['start_time'] = self.start_time[machine]\n",
    "    #    self.dict['Tasks'] = [{} for i in range(self.task_quantity)]\n",
    "    #    for task in range(self.task_quantity):\n",
    "    #        self.dict['Tasks'][task]['name'] = 'Task_'+str(task)\n",
    "    #        self.dict['Tasks'][task]['Machines'] = []\n",
    "    #        for machine in range(self.machine_quantity):\n",
    "    #            dict_task = {}\n",
    "    #            dict_task[self.dict['Machines'][machine]['name']] = {}\n",
    "    #            dict_task[self.dict['Machines'][machine]['name']]['Start'] = self.job_start_time[task][machine]\n",
    "    #            dict_task[self.dict['Machines'][machine]['name']]['End'] = self.job_end_time[task][machine]\n",
    "    #            dict_task[self.dict['Machines'][machine]['name']]['Processing Time'] = self.job_processing_time[task][machine]\n",
    "    #            self.dict['Tasks'][task]['Machines'].append(dict_task)\n",
    "    #    return self.dict\n",
    "    #\n",
    "        \n",
    "    def calculate_time(self):\n",
    "        #start_time and end_time is initialized with zeros\n",
    "        self.job_start_time = np.zeros((self.task_quantity,self.machine_quantity))                           \n",
    "        self.job_end_time = np.zeros((self.task_quantity,self.machine_quantity))        \n",
    "        #print(self.job_scheduling)\n",
    "        free_time = self.start_time.copy()\n",
    "        #print('free_time:',free_time)\n",
    "        for ind_o,order in enumerate(self.job_scheduling-1):        \n",
    "            for machine in range(self.machine_quantity):\n",
    "                #print('índice:',ind_o,'ordem:',order,'Máquina:',machine)\n",
    "                #Calcular data de início\n",
    "                #Se é primeira máquina, aloca no tempo disponível da máquina\n",
    "                #Caso contrário maior entre tempo disponível e término da operação na máquina anterior\n",
    "                if machine==0:\n",
    "                    #print(\"Operação:\",order,\"Máquina:\",machine, 'Start Time:',free_time[machine])\n",
    "                    self.job_start_time[order,machine] = free_time[machine]\n",
    "                else:\n",
    "                    self.job_start_time[order,machine] = max(free_time[machine],self.job_end_time[order,machine-1])\n",
    "                    #print(\"Operação:\",order,\"Máquina:\",machine, 'Start Time:',self.job_start_time[order,machine])\n",
    "                    \n",
    "                #Atualiza as datas de término da ordem na máquina\n",
    "                self.job_end_time[order,machine] = self.job_start_time[order,machine] + self.job_processing_time[order,machine]\n",
    "                #print(\"Operação:\",order,\"Máquina:\",machine, 'End Time:',self.job_end_time[order,machine])\n",
    "                \n",
    "                #Atualiza free_time\n",
    "                free_time[machine] = self.job_end_time[order,machine]\n",
    "        self.makespan = max(free_time)\n",
    "        self.completion_time = sum(free_time)\n",
    " \n",
    "    def Palmer(self):\n",
    "        #Develop a slope index Si for each task based in processing time\n",
    "        #Assume that #m is number of machines and Pjm is the processing time for task j at machine m\n",
    "        #Si = (#m-1)*P[j,m] + (#m-3)*P[j,m-1] + ... - (#m-3)*P[j,2] - (#m-1)*P[j,1]\n",
    "        #Example: If #m = 4 then\n",
    "        #Si = 3*P[j,4] + 1*P[j,3]-1*P[j,2]-3*P[j,1]\n",
    "        #Otherwise, a odd number is given by 2*n-1, in the first coefficiente we have #m - 1 or #m - the first odd\n",
    "        #the second coefficient is #m - the second odd, and so.  Then we have #m - (2*n-1) or #m - 2*n + 1.\n",
    "        #But n is machine dependent, the last is the first, the penult is the second, or n = #m + 1 - machine.\n",
    "        #Replacing this value we have #m - 2*(#m + 1 - machine) + 1\n",
    "        #Rearranging #m - 2*#m -2 + 2*machine + 1\n",
    "        #Rearranging 2*machine - #m - 1\n",
    "        #Then the equation for Si based on machine and #m is\n",
    "        #Si = sum((2*machine - #m - 1)*P[j,machine])\n",
    "        #For use in base zero vectors, the position is given by M = machine - 1, or machine = M + 1\n",
    "        #Sim = sum((2*(M+1)-#m - 1)*P[j,M])\n",
    "        #SiM = sum((2*M -#m + 1)*P[j,M])\n",
    "        #operation weight w        \n",
    "        w = np.array([ 2*i-self.machine_quantity+1 for i in range(self.machine_quantity)])\n",
    "        #Si calculus\n",
    "        SiM = w*self.job_processing_time\n",
    "        Si = SiM.sum(axis=1)\n",
    "        #Find the values order, for example [3,12,-6, 4], the order is [2,0,3,1]\n",
    "        order = Si.argsort()\n",
    "        #The scheduling order is the reverse\n",
    "        self.job_scheduling = order[::-1] + 1\n",
    "        return self.job_scheduling.copy()\n",
    "        #palmer['order'] = palmer.score.rank(method='first', ascending=False)\n",
    "        #return self.scheduling+1\n",
    "\n",
    "        \n",
    "    def generate_random(self, sim = 1):\n",
    "        simulation = {'Scheduling':[],'Makespan':[]}\n",
    "        for i in range(sim):\n",
    "            self.random_scheduling()\n",
    "            self.calculate_time()\n",
    "            simulation['Scheduling'].append(self.job_scheduling)\n",
    "            simulation['Makespan'].append(self.makespan)\n",
    "        return simulation\n",
    "    \n",
    "class SolveFlowShop():\n",
    "    def __init__(self):\n",
    "        np.random.seed(123)\n",
    "        self.list_problems = []\n",
    "        self.problem_template = {'Name':'','Number of Tasks':0,'Number of Machines':0, 'Processing Time':[], \n",
    "                                'Start Time':[],'End Time':[], 'Free Time':[],'Scheduling':[], 'Objective Function': {}, \n",
    "                                 'Method':'', 'Flow Shop Object': ''}\n",
    "        \n",
    "    def plot_by_job(self, dict_problem, title = '', sort = True):  \n",
    "        import seaborn as sns\n",
    "        #https://stackoverflow.com/questions/25668828/how-to-create-colour-gradient-in-python\n",
    "        #https://seaborn.pydata.org/generated/seaborn.color_palette.html\n",
    "        #c1='#1f77b4' #blue\n",
    "        #c2='green' #green\n",
    "        #c1=np.array(mpl.colors.to_rgb(c1))\n",
    "        #c2=np.array(mpl.colors.to_rgb(c2))\n",
    "        nm = dict_problem['Number of Machines']\n",
    "        #colors = [mpl.colors.to_hex((1-mix/nm)*c1 + mix/nm*c2) for mix in range(nm)]\n",
    "        colors = sns.color_palette(\"hls\", n_colors=nm)\n",
    "        df = dict_problem['Flow Shop Object'].to_dataframe()\n",
    "        df = df.sort_values(by='Start')\n",
    "        fig = ff.create_gantt(df, index_col='Machine',\n",
    "                     show_colorbar=True, showgrid_x=True, showgrid_y=True, group_tasks=True\n",
    "                   ,bar_width=0.1, colors =  colors)\n",
    "        fig.update_layout(\n",
    "           title={\n",
    "               'text': title + ' Makespan: {:.2f}'.format(dict_problem['Objective Function']['Makespan']) + \\\n",
    "               ' Scheduling:' + str(dict_problem['Scheduling']),\n",
    "               'y':0.95,\n",
    "               'x':0.5,\n",
    "               'xanchor': 'center',\n",
    "               'yanchor': 'top', 'font.size':24})        \n",
    "        fig.show()\n",
    "        \n",
    "    def plot_by_machine(self, dict_problem, title = '', sort = True):  \n",
    "        import seaborn as sns\n",
    "        #https://stackoverflow.com/questions/25668828/how-to-create-colour-gradient-in-python\n",
    "        #https://seaborn.pydata.org/generated/seaborn.color_palette.html\n",
    "        #c1='#1f77b4' #blue\n",
    "        #c2='green' #green\n",
    "        #c1=np.array(mpl.colors.to_rgb(c1))\n",
    "        #c2=np.array(mpl.colors.to_rgb(c2))\n",
    "        nt = dict_problem['Number of Tasks']\n",
    "        #colors = [mpl.colors.to_hex((1-mix/nm)*c1 + mix/nm*c2) for mix in range(nm)]\n",
    "        colors = sns.color_palette(\"hls\", n_colors=nt)\n",
    "        df = dict_problem['Flow Shop Object'].to_dataframe()\n",
    "        df = df.sort_values(by='Start')\n",
    "        df.columns = [ 'Machine', 'Task','Start', 'Finish']\n",
    "        fig = ff.create_gantt(df, index_col='Machine',\n",
    "                     show_colorbar=True, showgrid_x=True, showgrid_y=True, group_tasks=True\n",
    "                   ,bar_width=0.1, colors =  colors)\n",
    "        fig.update_layout(\n",
    "           title={\n",
    "               'text': title + ' Makespan: {:.2f}'.format(dict_problem['Objective Function']['Makespan']) + \\\n",
    "               ' Scheduling:' + str(dict_problem['Scheduling']),\n",
    "               'y':0.95,\n",
    "               'x':0.5,\n",
    "               'xanchor': 'center',\n",
    "               'yanchor': 'top', 'font.size':24})        \n",
    "        fig.show()\n",
    "        \n",
    "        \n",
    "        \n",
    "    def from_csv(self, filepath):\n",
    "        \"\"\"\n",
    "        Funtion csv_to_problem\n",
    "        Load a file to problem structure\n",
    "        arguments\n",
    "        filepath: path and filename\n",
    "        File Format\n",
    "        tasks quantity\n",
    "        machines quantity\n",
    "        machines start time ; separated\n",
    "        task one processing time ; separated\n",
    "        task two processing time ; separated\n",
    "        ...\n",
    "        task n processing time ; separated\n",
    "        \"\"\"        \n",
    "        file = open(filepath, 'r')        \n",
    "        nt = int(file.readline())\n",
    "        nm = int(file.readline())\n",
    "        ft = file.readline()\n",
    "        ft = np.array([float(x) for x in ft.split(';')])\n",
    "        pt = []\n",
    "        for i in range(nt):\n",
    "            pt_aux = file.readline()\n",
    "            pt_aux = [float(x) for x in pt_aux.split(';')]\n",
    "            pt.append(pt_aux)\n",
    "        pt = np.array(pt)\n",
    "        dict_problem = self.problem_template.copy()\n",
    "        dict_problem['Name'] = 'Name{:08d}'.format(np.random.randint(10**8))\n",
    "        dict_problem['Number of Tasks'] = nt        \n",
    "        dict_problem['Number of Machines'] = nm\n",
    "        dict_problem['Free Time'] = ft \n",
    "        dict_problem['Processing Time'] = pt\n",
    "        dict_problem['Scheduling'] = np.random.permutation(nt)+1\n",
    "        #create a flow shop object\n",
    "        Obj_flow = FlowShopPermutational(nt, nm, dict_problem['Processing Time'], \n",
    "                                         dict_problem['Free Time'], dict_problem['Scheduling'])\n",
    "        dict_problem['Start Time'] = Obj_flow.job_start_time.copy()\n",
    "        dict_problem['End Time'] = Obj_flow.job_end_time.copy()\n",
    "        dict_problem['Objective Function']['Makespan'] = Obj_flow.makespan\n",
    "        dict_problem['Objective Function']['Completion Time'] = Obj_flow.completion_time\n",
    "        dict_problem['Method'] = 'Manual'\n",
    "        dict_problem['Flow Shop Object'] = Obj_flow\n",
    "        return dict_problem\n",
    "        \n",
    "    def generate_problem(self, name = '', number_of_tasks = 4, number_of_machines = 3, \n",
    "                                processing_time='', free_time='', scheduling=''):\n",
    "        \"\"\"\n",
    "        Function: generate a flow shop permutation random problem\n",
    "        Parameters:\n",
    "            name: a problem's name, if not informed a ten number generated\n",
    "            number_of_tasks: number of tasks for the problem\n",
    "                if not informed use 4            \n",
    "            number_of_machines number of machines or resources\n",
    "                if not informed use 3            \n",
    "            processing_time: task time duration at a specific machine\n",
    "                if empty use a random between (1,100)\n",
    "                if tuple with (low, high) generate processing type between this values\n",
    "                if informed, format is a matrix with dimension number of tasks x number of machines\n",
    "            free_time start time for each machine\n",
    "                if empty use 0 for each machine\n",
    "            scheduling tasks sequencing\n",
    "                if empty use a random permutation               \n",
    "        \"\"\"\n",
    "        nt = number_of_tasks\n",
    "        nm = number_of_machines\n",
    "        dict_problem = self.problem_template.copy()\n",
    "        dict_problem['Name'] = 'Name{:08d}'.format(np.random.randint(10**8))\n",
    "        dict_problem['Number of Tasks'] = number_of_tasks        \n",
    "        dict_problem['Number of Machines'] = number_of_machines\n",
    "        if processing_time == '':\n",
    "            dict_problem['Processing Time'] = np.random.randint(1,100,nt*nm).reshape(nt,nm)\n",
    "        elif type(processing_time)==type(tuple()):\n",
    "            pt = processing_time\n",
    "            dict_problem['Processing Time'] = np.random.randint(pt[0],pt[1],nt*nm).reshape(nt,nm)\n",
    "        else:\n",
    "            dict_problem['Processing Time'] = processing_time\n",
    "        if free_time=='':\n",
    "            dict_problem['Free Time'] = np.zeros(nm)\n",
    "        else:\n",
    "            dict_problem['Free Time'] = free_time\n",
    "        print(free_time)\n",
    "        if scheduling == '':\n",
    "            dict_problem['Scheduling'] = np.random.permutation(nt)+1\n",
    "        else:\n",
    "            dict_problem['Scheduling'] = scheduling\n",
    "        #create a flow shop object\n",
    "        Obj_flow = FlowShopPermutational(nt, nm, dict_problem['Processing Time'], \n",
    "                                         dict_problem['Free Time'], dict_problem['Scheduling'])\n",
    "        dict_problem['Start Time'] = Obj_flow.job_start_time.copy()\n",
    "        dict_problem['End Time'] = Obj_flow.job_end_time.copy()\n",
    "        dict_problem['Objective Function']['Makespan'] = Obj_flow.makespan\n",
    "        dict_problem['Objective Function']['Completion Time'] = Obj_flow.completion_time\n",
    "        dict_problem['Method'] = 'Manual'\n",
    "        dict_problem['Flow Shop Object'] = Obj_flow\n",
    "        return dict_problem\n",
    "    \n",
    "    def PalmerSolution(self, dict_problem):\n",
    "        dict_problem['Scheduling'] = dict_problem['Flow Shop Object'].Palmer()\n",
    "        dict_problem['Flow Shop Object'].calculate_time()\n",
    "        dict_problem['Start Time'] = dict_problem['Flow Shop Object'].job_start_time.copy()\n",
    "        dict_problem['End Time'] = dict_problem['Flow Shop Object'].job_end_time.copy()\n",
    "        dict_problem['Objective Function']['Makespan'] = dict_problem['Flow Shop Object'].makespan\n",
    "        dict_problem['Objective Function']['Completion Time'] = dict_problem['Flow Shop Object'].completion_time\n",
    "        dict_problem['Method'] = 'Palmer'\n",
    "        return dict_problem\n",
    "    \n",
    "    def BruteForce(self, dict_problem, objective = 'makespan'):\n",
    "        from itertools import permutations\n",
    "        map_objective = {'makespan':'Makespan','comptime':'Completion Time'}\n",
    "        obj_flow = dict_problem['Flow Shop Object']\n",
    "        best_scheduling = dict_problem['Scheduling'].copy()\n",
    "        best_value = dict_problem['Objective Function'][map_objective[objective]]\n",
    "        start_time = datetime.now()\n",
    "        print(start_time)\n",
    "        num_iterations = math.factorial(len(best_scheduling))        \n",
    "        #list_perm = list(permutations(best_scheduling))\n",
    "        cont = 0\n",
    "        for perm in permutations(best_scheduling):\n",
    "            obj_flow.job_scheduling = np.array(perm)\n",
    "            obj_flow.calculate_time()\n",
    "            cur_value = obj_flow.makespan if objective == 'makespan' else obj_flow.completion_time\n",
    "            if cur_value < best_value:\n",
    "                best_value = cur_value\n",
    "                best_scheduling = obj_flow.job_scheduling.copy()\n",
    "            cont+=1\n",
    "        duration = datetime.now() - start_time\n",
    "        print('Duração:',duration.total_seconds())\n",
    "        print('Iterações:', cont)\n",
    "        print('Iterações / s', cont / duration.total_seconds())\n",
    "        obj_flow.job_scheduling = best_scheduling\n",
    "        obj_flow.calculate_time()\n",
    "        dict_problem['Scheduling'] = best_scheduling \n",
    "        dict_problem['Start Time'] = dict_problem['Flow Shop Object'].job_start_time.copy()\n",
    "        dict_problem['End Time'] = dict_problem['Flow Shop Object'].job_end_time.copy()\n",
    "        dict_problem['Objective Function']['Makespan'] = dict_problem['Flow Shop Object'].makespan\n",
    "        dict_problem['Objective Function']['Completion Time'] = dict_problem['Flow Shop Object'].completion_time\n",
    "        dict_problem['Method'] = 'Brute Force'\n",
    "        return dict_problem\n",
    "    \n",
    "    def Simulate(self, dict_problem, objective = 'makespan', population = 50):\n",
    "        dict_solutions = {'Scheduling':[], 'Objective':[]}\n",
    "        obj_flow = dict_problem['Flow Shop Object']\n",
    "        #generate population simulations\n",
    "        for i in range(population):\n",
    "            obj_flow.job_scheduling = np.random.permutation(dict_problem['Number of Tasks'])+1\n",
    "            obj_flow.calculate_time()\n",
    "            dict_solutions['Scheduling'].append(obj_flow.job_scheduling.copy())\n",
    "            dict_solutions['Objective'].append(obj_flow.makespan)\n",
    "        df = pd.DataFrame(dict_solutions)\n",
    "        return df\n",
    "    \n",
    "    #def DispatchRuleBasedTOC(self, dict_problem, objective = 'makespan')\n",
    "    \n",
    "    def NeighborBest(self, dict_problem, scheduling = '', objective = 'makespan'):\n",
    "        obj_flow = dict_problem['Flow Shop Object']\n",
    "        if scheduling == '':\n",
    "            scheduling = dict_problem['Scheduling']\n",
    "        #print('scheduling', scheduling)\n",
    "        obj_flow.job_scheduling = scheduling\n",
    "        obj_flow.calculate_time()\n",
    "        makespan = obj_flow.makespan                \n",
    "        nt = dict_problem['Number of Tasks']\n",
    "        nm = dict_problem['Number of Machines']\n",
    "        scheduling_aux = np.copy(scheduling)\n",
    "        flag = True\n",
    "        while flag:\n",
    "            dict_neigh = self.NeighborSearch(dict_problem, scheduling = scheduling_aux)\n",
    "            print('Current makespan:',makespan)\n",
    "            print(dict_neigh)\n",
    "            if dict_neigh['makespan'] < makespan:\n",
    "                scheduling_aux = np.copy(dict_neigh['schedule'])\n",
    "                makespan = dict_neigh['makespan']\n",
    "            else:\n",
    "                flag = False\n",
    "        print('Makespan: {}, Sequencia:{}'.format(scheduling_aux, makespan))\n",
    "        obj_flow.job_scheduling = scheduling_aux\n",
    "        dict_problem['Scheduling'] = scheduling_aux\n",
    "        dict_problem['Flow Shop Object'].calculate_time()\n",
    "        dict_problem['Start Time'] = dict_problem['Flow Shop Object'].job_start_time.copy()\n",
    "        dict_problem['End Time'] = dict_problem['Flow Shop Object'].job_end_time.copy()\n",
    "        dict_problem['Objective Function']['Makespan'] = dict_problem['Flow Shop Object'].makespan\n",
    "        dict_problem['Objective Function']['Completion Time'] = dict_problem['Flow Shop Object'].completion_time\n",
    "        dict_problem['Method'] = 'NeighborBest'\n",
    "        return dict_problem\n",
    "        #return scheduling_aux\n",
    "        \n",
    "    \n",
    "    def NeighborSearch(self, dict_problem, scheduling = '', objective = 'makespan', ):\n",
    "        obj_flow = dict_problem['Flow Shop Object']\n",
    "        if scheduling == '':\n",
    "            scheduling = dict_problem['Scheduling']\n",
    "        #print('scheduling', scheduling)\n",
    "        obj_flow.job_scheduling = scheduling\n",
    "        obj_flow.calculate_time()\n",
    "        makespan = obj_flow.makespan                \n",
    "        nt = dict_problem['Number of Tasks']\n",
    "        nm = dict_problem['Number of Machines']\n",
    "        troca = [1,1]\n",
    "        scheduling_best = np.copy(scheduling)        \n",
    "        for i in range(nt-1):\n",
    "            for j in range(i+1,nt):                \n",
    "                scheduling_aux = np.copy(scheduling)\n",
    "                #print('Scheduling Aux:',scheduling_aux)\n",
    "                scheduling_aux[i] = scheduling[j]\n",
    "                scheduling_aux[j] = scheduling[i]\n",
    "                obj_flow.job_scheduling = np.copy(scheduling_aux)\n",
    "                obj_flow.calculate_time()\n",
    "                if obj_flow.makespan < makespan:\n",
    "                    scheduling_best = np.copy(scheduling_aux)\n",
    "                    makespan = obj_flow.makespan\n",
    "                    troca = [i,j]\n",
    "                #print('Scheduling Troca {} com {}: {} makespan {}'.format(i,j,scheduling_aux,obj_flow.makespan))\n",
    "                #print('Scheduling Best {}: {} makespan {}'.format(troca,scheduling_best,makespan))            \n",
    "            #print('Scheduling Best {}: {} makespan {}'.format(troca,scheduling_best,makespan))            \n",
    "        dict_sol = {'schedule':scheduling_best, 'swap':troca, 'makespan':makespan}\n",
    "        return dict_sol\n",
    "    \n",
    "    def DecisionTree(self, dict_problem, objective = 'makespan', population = 50, iterations = 10):\n",
    "        #Prepair structured informations \n",
    "        nt = dict_problem['Number of Tasks']\n",
    "        nm = dict_problem['Number of Machines']\n",
    "        pt = dict_problem['Processing Time']\n",
    "        domain = np.array([ [i for i in range(1, nt+1)] for i in range(nt)])\n",
    "        #Generate random population\n",
    "        obj_flow = dict_problem['Flow Shop Object']\n",
    "        for iteration in range(iterations):\n",
    "            #print('Initial',domain)\n",
    "            df = pd.DataFrame(columns = ['t'+str(i) for i in range(1,nt+1)]+['makespan'])\n",
    "            for i in range(population):\n",
    "                #print(dir())\n",
    "                #print('domain antes chamda scheduling:',domain)\n",
    "                scheduling_temp = self.random_domain_scheduling(domain)\n",
    "                scheduling_temp = self.NeighborBest(dict_problem, scheduling_temp)\n",
    "                obj_flow.job_scheduling = scheduling_temp                \n",
    "                #print('domain após chamada scheduling:',domain)\n",
    "                obj_flow.calculate_time()\n",
    "                df.loc[i] = [ np.where(obj_flow.job_scheduling==[i])[0][0]+1 for i in range(1,10)] + [obj_flow.makespan]\n",
    "                #display(df)\n",
    "            df = df.sort_values(by='makespan')\n",
    "            quantile = list(df.makespan.quantile([.50]))\n",
    "            df['class'] = df['makespan'].map(lambda x: 0 if x < quantile[0] else 1)\n",
    "            #display(df)\n",
    "            dt = problem.generate_tree(df)            \n",
    "            domain = problem.restrict_domain(dt, domain)\n",
    "        #print('Final:',domain)        \n",
    "        return df\n",
    "    \n",
    "    def random_domain_scheduling(self,domain):\n",
    "        schedule_domain = np.copy(domain)\n",
    "        #print(dir())\n",
    "        #print('Func random Domain Antes:',schedule_domain)\n",
    "        nt = len(schedule_domain)\n",
    "        sc = np.zeros(nt).astype(int)\n",
    "        for i in range(nt):\n",
    "            #select more restrive task\n",
    "            o = np.count_nonzero(schedule_domain,axis=1)\n",
    "            #print(o)\n",
    "            #select task to scheduling\n",
    "            t = np.where( o == o.min())[0][0]\n",
    "            #print(t)\n",
    "            #select domain for this task\n",
    "            values = [schedule_domain[t,j] for j in range(nt) if schedule_domain[t,j]>0 ]\n",
    "            #print(values)\n",
    "            #select random value\n",
    "            sc[t] = np.random.choice(values)\n",
    "            #eliminate for other tasks this position\n",
    "            schedule_domain[:,sc[t]-1]=0\n",
    "            #update task \n",
    "            schedule_domain[t,:]=nt+1\n",
    "        #print('Depois:',schedule_domain)\n",
    "       # print('Scheduling',sc)\n",
    "        #print(dir())\n",
    "        return sc\n",
    "    \n",
    "    def restrict_domain(self, decision_tree, domain):\n",
    "        initial_domain = np.copy(domain)\n",
    "        #print('Func restrict',initial_domain)\n",
    "        left = decision_tree.tree_.children_left\n",
    "        right = decision_tree.tree_.children_right\n",
    "        feature = decision_tree.tree_.feature\n",
    "        threshold = decision_tree.tree_.threshold\n",
    "        value = decision_tree.tree_.value\n",
    "        samples = sum(value[0][0])\n",
    "        odd = np.array(list(map(lambda x: x[0][0]/(sum(x[0][1:])+1),value)))\n",
    "        sam_sub = np.array(list(map(lambda x: sum(x[0])/samples,value)))\n",
    "        of = odd*sam_sub\n",
    "        order = of.argsort()\n",
    "        node = np.array([order[-1]] if order[-1]!=0 else [order[-2]])\n",
    "        #node = np.where(of == of.max())[0]\n",
    "        #print(of, node)\n",
    "        while len(node) > 0:\n",
    "            #Verifica se é esquerda de alguém\n",
    "            node_left = np.where(left == node[0])[0]\n",
    "            #Verifica se é direita de alguém\n",
    "            node_right = np.where(right == node[0])[0]\n",
    "            if len(node_left)>0:\n",
    "                #Se é esquerda de alguém então <=\n",
    "                node = node_left\n",
    "                task = feature[node[0]]\n",
    "                limit = int(threshold[node[0]])\n",
    "                print('Aplicando ', task, '<=', limit)\n",
    "                initial_domain[task,limit:] = 0\n",
    "            elif len(node_right)>0:\n",
    "                #Se é direita de alguém então >= \n",
    "                node = node_right\n",
    "                task = feature[node[0]]\n",
    "                limit = int(threshold[node[0]])\n",
    "                print('Aplicando ', task, '>', limit)\n",
    "                initial_domain[task,:limit] = 0\n",
    "            else:\n",
    "                node = np.array([])\n",
    "            print(initial_domain)\n",
    "        return initial_domain\n",
    "\n",
    "    def generate_tree(self, df):\n",
    "        import numpy as np\n",
    "        import matplotlib.pyplot as plt\n",
    "        #https://stackoverflow.com/questions/20224526/how-to-extract-the-decision-rules-from-scikit-learn-decision-tree\n",
    "        #https://github.com/nok/sklearn-porter\n",
    "        from sklearn.datasets import load_iris\n",
    "        from sklearn.tree import DecisionTreeClassifier, plot_tree\n",
    "        feature_names = df_all.columns[:-2]\n",
    "        X = df.iloc[:,:-2].values\n",
    "        y = df.iloc[:,-1].values\n",
    "        clf = DecisionTreeClassifier(max_depth=3).fit(X, y)\n",
    "        plt.figure(num=None, figsize=(8, 6), dpi=80, facecolor='w', edgecolor='k')\n",
    "        plt.figure(figsize=(15,15))\n",
    "        plot_tree(clf, filled=True, feature_names = feature_names, class_names=['P50','P100'])\n",
    "        plt.show()\n",
    "        return clf\n",
    "\n",
    "        "
   ]
  },
  {
   "cell_type": "code",
   "execution_count": 36,
   "metadata": {},
   "outputs": [
    {
     "data": {
      "text/plain": [
       "Index(['Task', 'Machine', 'Start', 'Finish'], dtype='object')"
      ]
     },
     "execution_count": 36,
     "metadata": {},
     "output_type": "execute_result"
    }
   ],
   "source": [
    "df = dict_01['Flow Shop Object'].to_dataframe()\n",
    "df.columns"
   ]
  },
  {
   "cell_type": "code",
   "execution_count": 58,
   "metadata": {},
   "outputs": [
    {
     "name": "stderr",
     "output_type": "stream",
     "text": [
      "D:\\ANACONDA\\lib\\site-packages\\ipykernel_launcher.py:387: FutureWarning:\n",
      "\n",
      "elementwise comparison failed; returning scalar instead, but in the future will perform elementwise comparison\n",
      "\n",
      "D:\\ANACONDA\\lib\\site-packages\\ipykernel_launcher.py:421: FutureWarning:\n",
      "\n",
      "elementwise comparison failed; returning scalar instead, but in the future will perform elementwise comparison\n",
      "\n"
     ]
    },
    {
     "name": "stdout",
     "output_type": "stream",
     "text": [
      "Current makespan: 349.0\n",
      "{'schedule': array([10,  2,  3,  4,  5,  6,  7,  8,  9,  1, 11, 12, 13, 14, 15, 16, 17,\n",
      "       18]), 'swap': [0, 9], 'makespan': 339.0}\n",
      "Current makespan: 339.0\n",
      "{'schedule': array([10,  2,  3,  4,  5,  6,  7, 13,  9,  1, 11, 12,  8, 14, 15, 16, 17,\n",
      "       18]), 'swap': [7, 12], 'makespan': 321.0}\n",
      "Current makespan: 321.0\n",
      "{'schedule': array([10,  2,  3, 17,  5,  6,  7, 13,  9,  1, 11, 12,  8, 14, 15, 16,  4,\n",
      "       18]), 'swap': [3, 16], 'makespan': 315.0}\n",
      "Current makespan: 315.0\n",
      "{'schedule': array([ 2, 10,  3, 17,  5,  6,  7, 13,  9,  1, 11, 12,  8, 14, 15, 16,  4,\n",
      "       18]), 'swap': [0, 1], 'makespan': 313.0}\n",
      "Current makespan: 313.0\n",
      "{'schedule': array([ 2, 10,  3, 17, 15,  6,  7, 13,  9,  1, 11, 12,  8, 14,  5, 16,  4,\n",
      "       18]), 'swap': [4, 14], 'makespan': 312.0}\n",
      "Current makespan: 312.0\n",
      "{'schedule': array([ 2,  3, 10, 17, 15,  6,  7, 13,  9,  1, 11, 12,  8, 14,  5, 16,  4,\n",
      "       18]), 'swap': [1, 2], 'makespan': 309.0}\n",
      "Current makespan: 309.0\n",
      "{'schedule': array([ 2,  3, 10, 17, 15,  6,  7, 13,  9,  1,  4, 12,  8, 14,  5, 16, 11,\n",
      "       18]), 'swap': [10, 16], 'makespan': 307.0}\n",
      "Current makespan: 307.0\n",
      "{'schedule': array([ 2,  3,  6, 17, 15, 10,  7, 13,  9,  1,  4, 12,  8, 14,  5, 16, 11,\n",
      "       18]), 'swap': [2, 5], 'makespan': 304.0}\n",
      "Current makespan: 304.0\n",
      "{'schedule': array([ 2,  3,  6, 17, 15, 10,  7, 13,  9,  1,  4, 12,  8, 14,  5, 11, 16,\n",
      "       18]), 'swap': [15, 16], 'makespan': 303.0}\n",
      "Current makespan: 303.0\n",
      "{'schedule': array([ 2,  3,  6, 17, 15, 10,  7, 13,  9,  1,  8, 12,  4, 14,  5, 11, 16,\n",
      "       18]), 'swap': [10, 12], 'makespan': 302.0}\n",
      "Current makespan: 302.0\n",
      "{'schedule': array([ 2,  3,  6, 17, 15, 10,  7, 13,  9,  1,  8, 12,  4, 14,  5, 11, 16,\n",
      "       18]), 'swap': [1, 1], 'makespan': 302.0}\n",
      "Makespan: [ 2  3  6 17 15 10  7 13  9  1  8 12  4 14  5 11 16 18], Sequencia:302.0\n"
     ]
    },
    {
     "data": {
      "application/vnd.plotly.v1+json": {
       "config": {
        "plotlyServerURL": "https://plot.ly"
       },
       "data": [
        {
         "fill": "toself",
         "fillcolor": "rgb(123, 219, 87)",
         "hoverinfo": "name",
         "legendgroup": "rgb(123, 219, 87)",
         "mode": "none",
         "name": "Task006",
         "showlegend": true,
         "type": "scatter",
         "x": [
          "2020-05-31T23:34:48.943397",
          "2020-05-31T23:40:48.943397",
          "2020-05-31T23:40:48.943397",
          "2020-05-31T23:34:48.943397",
          "2020-05-31T23:34:48.943397",
          "2020-05-31T23:43:48.943397",
          "2020-05-31T23:46:48.943397",
          "2020-05-31T23:46:48.943397",
          "2020-05-31T23:43:48.943397",
          "2020-05-31T23:43:48.943397",
          "2020-05-31T23:46:48.943397",
          "2020-05-31T23:58:48.943397",
          "2020-05-31T23:58:48.943397",
          "2020-05-31T23:46:48.943397",
          "2020-05-31T23:46:48.943397",
          "2020-05-31T23:58:48.943397",
          "2020-06-01T00:21:48.943397",
          "2020-06-01T00:21:48.943397",
          "2020-05-31T23:58:48.943397",
          "2020-05-31T23:58:48.943397",
          "2020-06-01T00:22:48.943397",
          "2020-06-01T00:34:48.943397",
          "2020-06-01T00:34:48.943397",
          "2020-06-01T00:22:48.943397"
         ],
         "y": [
          3.9,
          3.9,
          4.1,
          4.1,
          null,
          2.9,
          2.9,
          3.1,
          3.1,
          null,
          1.9,
          1.9,
          2.1,
          2.1,
          null,
          0.9,
          0.9,
          1.1,
          1.1,
          null,
          -0.1,
          -0.1,
          0.1,
          0.1
         ]
        },
        {
         "fill": "toself",
         "fillcolor": "rgb(139, 87, 219)",
         "hoverinfo": "name",
         "legendgroup": "rgb(139, 87, 219)",
         "mode": "none",
         "name": "Task014",
         "showlegend": true,
         "type": "scatter",
         "x": [
          "2020-06-01T02:05:48.943397",
          "2020-06-01T02:16:48.943397",
          "2020-06-01T02:16:48.943397",
          "2020-06-01T02:05:48.943397",
          "2020-06-01T02:05:48.943397",
          "2020-06-01T02:34:48.943397",
          "2020-06-01T02:37:48.943397",
          "2020-06-01T02:37:48.943397",
          "2020-06-01T02:34:48.943397",
          "2020-06-01T02:34:48.943397",
          "2020-06-01T03:03:48.943397",
          "2020-06-01T03:06:48.943397",
          "2020-06-01T03:06:48.943397",
          "2020-06-01T03:03:48.943397",
          "2020-06-01T03:03:48.943397",
          "2020-06-01T03:06:48.943397",
          "2020-06-01T03:14:48.943397",
          "2020-06-01T03:14:48.943397",
          "2020-06-01T03:06:48.943397",
          "2020-06-01T03:06:48.943397",
          "2020-06-01T03:32:48.943397",
          "2020-06-01T03:39:48.943397",
          "2020-06-01T03:39:48.943397",
          "2020-06-01T03:32:48.943397"
         ],
         "y": [
          3.9,
          3.9,
          4.1,
          4.1,
          null,
          2.9,
          2.9,
          3.1,
          3.1,
          null,
          1.9,
          1.9,
          2.1,
          2.1,
          null,
          0.9,
          0.9,
          1.1,
          1.1,
          null,
          -0.1,
          -0.1,
          0.1,
          0.1
         ]
        },
        {
         "fill": "toself",
         "fillcolor": "rgb(167, 219, 87)",
         "hoverinfo": "name",
         "legendgroup": "rgb(167, 219, 87)",
         "mode": "none",
         "name": "Task005",
         "showlegend": true,
         "type": "scatter",
         "x": [
          "2020-06-01T02:16:48.943397",
          "2020-06-01T02:41:48.943397",
          "2020-06-01T02:41:48.943397",
          "2020-06-01T02:16:48.943397",
          "2020-06-01T02:16:48.943397",
          "2020-06-01T02:41:48.943397",
          "2020-06-01T02:57:48.943397",
          "2020-06-01T02:57:48.943397",
          "2020-06-01T02:41:48.943397",
          "2020-06-01T02:41:48.943397",
          "2020-06-01T03:06:48.943397",
          "2020-06-01T03:14:48.943397",
          "2020-06-01T03:14:48.943397",
          "2020-06-01T03:06:48.943397",
          "2020-06-01T03:06:48.943397",
          "2020-06-01T03:14:48.943397",
          "2020-06-01T03:37:48.943397",
          "2020-06-01T03:37:48.943397",
          "2020-06-01T03:14:48.943397",
          "2020-06-01T03:14:48.943397",
          "2020-06-01T03:39:48.943397",
          "2020-06-01T03:48:48.943397",
          "2020-06-01T03:48:48.943397",
          "2020-06-01T03:39:48.943397"
         ],
         "y": [
          3.9,
          3.9,
          4.1,
          4.1,
          null,
          2.9,
          2.9,
          3.1,
          3.1,
          null,
          1.9,
          1.9,
          2.1,
          2.1,
          null,
          0.9,
          0.9,
          1.1,
          1.1,
          null,
          -0.1,
          -0.1,
          0.1,
          0.1
         ]
        },
        {
         "fill": "toself",
         "fillcolor": "rgb(183, 87, 219)",
         "hoverinfo": "name",
         "legendgroup": "rgb(183, 87, 219)",
         "mode": "none",
         "name": "Task015",
         "showlegend": true,
         "type": "scatter",
         "x": [
          "2020-05-31T23:49:48.943397",
          "2020-05-31T23:53:48.943397",
          "2020-05-31T23:53:48.943397",
          "2020-05-31T23:49:48.943397",
          "2020-05-31T23:49:48.943397",
          "2020-05-31T23:56:48.943397",
          "2020-06-01T00:12:48.943397",
          "2020-06-01T00:12:48.943397",
          "2020-05-31T23:56:48.943397",
          "2020-05-31T23:56:48.943397",
          "2020-06-01T00:23:48.943397",
          "2020-06-01T00:25:48.943397",
          "2020-06-01T00:25:48.943397",
          "2020-06-01T00:23:48.943397",
          "2020-06-01T00:23:48.943397",
          "2020-06-01T00:28:48.943397",
          "2020-06-01T00:42:48.943397",
          "2020-06-01T00:42:48.943397",
          "2020-06-01T00:28:48.943397",
          "2020-06-01T00:28:48.943397",
          "2020-06-01T00:53:48.943397",
          "2020-06-01T01:01:48.943397",
          "2020-06-01T01:01:48.943397",
          "2020-06-01T00:53:48.943397"
         ],
         "y": [
          3.9,
          3.9,
          4.1,
          4.1,
          null,
          2.9,
          2.9,
          3.1,
          3.1,
          null,
          1.9,
          1.9,
          2.1,
          2.1,
          null,
          0.9,
          0.9,
          1.1,
          1.1,
          null,
          -0.1,
          -0.1,
          0.1,
          0.1
         ]
        },
        {
         "fill": "toself",
         "fillcolor": "rgb(211, 219, 87)",
         "hoverinfo": "name",
         "legendgroup": "rgb(211, 219, 87)",
         "mode": "none",
         "name": "Task004",
         "showlegend": true,
         "type": "scatter",
         "x": [
          "2020-06-01T01:48:48.943397",
          "2020-06-01T02:05:48.943397",
          "2020-06-01T02:05:48.943397",
          "2020-06-01T01:48:48.943397",
          "2020-06-01T01:48:48.943397",
          "2020-06-01T02:12:48.943397",
          "2020-06-01T02:34:48.943397",
          "2020-06-01T02:34:48.943397",
          "2020-06-01T02:12:48.943397",
          "2020-06-01T02:12:48.943397",
          "2020-06-01T02:46:48.943397",
          "2020-06-01T03:03:48.943397",
          "2020-06-01T03:03:48.943397",
          "2020-06-01T02:46:48.943397",
          "2020-06-01T02:46:48.943397",
          "2020-06-01T03:03:48.943397",
          "2020-06-01T03:06:48.943397",
          "2020-06-01T03:06:48.943397",
          "2020-06-01T03:03:48.943397",
          "2020-06-01T03:03:48.943397",
          "2020-06-01T03:16:48.943397",
          "2020-06-01T03:32:48.943397",
          "2020-06-01T03:32:48.943397",
          "2020-06-01T03:16:48.943397"
         ],
         "y": [
          3.9,
          3.9,
          4.1,
          4.1,
          null,
          2.9,
          2.9,
          3.1,
          3.1,
          null,
          1.9,
          1.9,
          2.1,
          2.1,
          null,
          0.9,
          0.9,
          1.1,
          1.1,
          null,
          -0.1,
          -0.1,
          0.1,
          0.1
         ]
        },
        {
         "fill": "toself",
         "fillcolor": "rgb(219, 139, 87)",
         "hoverinfo": "name",
         "legendgroup": "rgb(219, 139, 87)",
         "mode": "none",
         "name": "Task002",
         "showlegend": true,
         "type": "scatter",
         "x": [
          "2020-05-31T23:20:48.943397",
          "2020-05-31T23:24:48.943397",
          "2020-05-31T23:24:48.943397",
          "2020-05-31T23:20:48.943397",
          "2020-05-31T23:20:48.943397",
          "2020-05-31T23:24:48.943397",
          "2020-05-31T23:32:48.943397",
          "2020-05-31T23:32:48.943397",
          "2020-05-31T23:24:48.943397",
          "2020-05-31T23:24:48.943397",
          "2020-05-31T23:32:48.943397",
          "2020-05-31T23:40:48.943397",
          "2020-05-31T23:40:48.943397",
          "2020-05-31T23:32:48.943397",
          "2020-05-31T23:32:48.943397",
          "2020-05-31T23:40:48.943397",
          "2020-05-31T23:46:48.943397",
          "2020-05-31T23:46:48.943397",
          "2020-05-31T23:40:48.943397",
          "2020-05-31T23:40:48.943397",
          "2020-05-31T23:46:48.943397",
          "2020-06-01T00:00:48.943397",
          "2020-06-01T00:00:48.943397",
          "2020-05-31T23:46:48.943397"
         ],
         "y": [
          3.9,
          3.9,
          4.1,
          4.1,
          null,
          2.9,
          2.9,
          3.1,
          3.1,
          null,
          1.9,
          1.9,
          2.1,
          2.1,
          null,
          0.9,
          0.9,
          1.1,
          1.1,
          null,
          -0.1,
          -0.1,
          0.1,
          0.1
         ]
        },
        {
         "fill": "toself",
         "fillcolor": "rgb(219, 183, 87)",
         "hoverinfo": "name",
         "legendgroup": "rgb(219, 183, 87)",
         "mode": "none",
         "name": "Task003",
         "showlegend": true,
         "type": "scatter",
         "x": [
          "2020-05-31T23:24:48.943397",
          "2020-05-31T23:34:48.943397",
          "2020-05-31T23:34:48.943397",
          "2020-05-31T23:24:48.943397",
          "2020-05-31T23:24:48.943397",
          "2020-05-31T23:34:48.943397",
          "2020-05-31T23:43:48.943397",
          "2020-05-31T23:43:48.943397",
          "2020-05-31T23:34:48.943397",
          "2020-05-31T23:34:48.943397",
          "2020-05-31T23:43:48.943397",
          "2020-05-31T23:45:48.943397",
          "2020-05-31T23:45:48.943397",
          "2020-05-31T23:43:48.943397",
          "2020-05-31T23:43:48.943397",
          "2020-05-31T23:46:48.943397",
          "2020-05-31T23:50:48.943397",
          "2020-05-31T23:50:48.943397",
          "2020-05-31T23:46:48.943397",
          "2020-05-31T23:46:48.943397",
          "2020-06-01T00:00:48.943397",
          "2020-06-01T00:22:48.943397",
          "2020-06-01T00:22:48.943397",
          "2020-06-01T00:00:48.943397"
         ],
         "y": [
          3.9,
          3.9,
          4.1,
          4.1,
          null,
          2.9,
          2.9,
          3.1,
          3.1,
          null,
          1.9,
          1.9,
          2.1,
          2.1,
          null,
          0.9,
          0.9,
          1.1,
          1.1,
          null,
          -0.1,
          -0.1,
          0.1,
          0.1
         ]
        },
        {
         "fill": "toself",
         "fillcolor": "rgb(219, 87, 123)",
         "hoverinfo": "name",
         "legendgroup": "rgb(219, 87, 123)",
         "mode": "none",
         "name": "Task018",
         "showlegend": true,
         "type": "scatter",
         "x": [
          "2020-06-01T03:16:48.943397",
          "2020-06-01T03:33:48.943397",
          "2020-06-01T03:33:48.943397",
          "2020-06-01T03:16:48.943397",
          "2020-06-01T03:16:48.943397",
          "2020-06-01T03:33:48.943397",
          "2020-06-01T03:35:48.943397",
          "2020-06-01T03:35:48.943397",
          "2020-06-01T03:33:48.943397",
          "2020-06-01T03:33:48.943397",
          "2020-06-01T03:48:48.943397",
          "2020-06-01T04:04:48.943397",
          "2020-06-01T04:04:48.943397",
          "2020-06-01T03:48:48.943397",
          "2020-06-01T03:48:48.943397",
          "2020-06-01T04:04:48.943397",
          "2020-06-01T04:14:48.943397",
          "2020-06-01T04:14:48.943397",
          "2020-06-01T04:04:48.943397",
          "2020-06-01T04:04:48.943397",
          "2020-06-01T04:14:48.943397",
          "2020-06-01T04:22:48.943397",
          "2020-06-01T04:22:48.943397",
          "2020-06-01T04:14:48.943397"
         ],
         "y": [
          3.9,
          3.9,
          4.1,
          4.1,
          null,
          2.9,
          2.9,
          3.1,
          3.1,
          null,
          1.9,
          1.9,
          2.1,
          2.1,
          null,
          0.9,
          0.9,
          1.1,
          1.1,
          null,
          -0.1,
          -0.1,
          0.1,
          0.1
         ]
        },
        {
         "fill": "toself",
         "fillcolor": "rgb(219, 87, 167)",
         "hoverinfo": "name",
         "legendgroup": "rgb(219, 87, 167)",
         "mode": "none",
         "name": "Task017",
         "showlegend": true,
         "type": "scatter",
         "x": [
          "2020-05-31T23:40:48.943397",
          "2020-05-31T23:49:48.943397",
          "2020-05-31T23:49:48.943397",
          "2020-05-31T23:40:48.943397",
          "2020-05-31T23:40:48.943397",
          "2020-05-31T23:49:48.943397",
          "2020-05-31T23:56:48.943397",
          "2020-05-31T23:56:48.943397",
          "2020-05-31T23:49:48.943397",
          "2020-05-31T23:49:48.943397",
          "2020-05-31T23:58:48.943397",
          "2020-06-01T00:23:48.943397",
          "2020-06-01T00:23:48.943397",
          "2020-05-31T23:58:48.943397",
          "2020-05-31T23:58:48.943397",
          "2020-06-01T00:23:48.943397",
          "2020-06-01T00:28:48.943397",
          "2020-06-01T00:28:48.943397",
          "2020-06-01T00:23:48.943397",
          "2020-06-01T00:23:48.943397",
          "2020-06-01T00:34:48.943397",
          "2020-06-01T00:53:48.943397",
          "2020-06-01T00:53:48.943397",
          "2020-06-01T00:34:48.943397"
         ],
         "y": [
          3.9,
          3.9,
          4.1,
          4.1,
          null,
          2.9,
          2.9,
          3.1,
          3.1,
          null,
          1.9,
          1.9,
          2.1,
          2.1,
          null,
          0.9,
          0.9,
          1.1,
          1.1,
          null,
          -0.1,
          -0.1,
          0.1,
          0.1
         ]
        },
        {
         "fill": "toself",
         "fillcolor": "rgb(219, 87, 211)",
         "hoverinfo": "name",
         "legendgroup": "rgb(219, 87, 211)",
         "mode": "none",
         "name": "Task016",
         "showlegend": true,
         "type": "scatter",
         "x": [
          "2020-06-01T02:57:48.943397",
          "2020-06-01T03:16:48.943397",
          "2020-06-01T03:16:48.943397",
          "2020-06-01T02:57:48.943397",
          "2020-06-01T02:57:48.943397",
          "2020-06-01T03:16:48.943397",
          "2020-06-01T03:29:48.943397",
          "2020-06-01T03:29:48.943397",
          "2020-06-01T03:16:48.943397",
          "2020-06-01T03:16:48.943397",
          "2020-06-01T03:34:48.943397",
          "2020-06-01T03:48:48.943397",
          "2020-06-01T03:48:48.943397",
          "2020-06-01T03:34:48.943397",
          "2020-06-01T03:34:48.943397",
          "2020-06-01T03:48:48.943397",
          "2020-06-01T03:51:48.943397",
          "2020-06-01T03:51:48.943397",
          "2020-06-01T03:48:48.943397",
          "2020-06-01T03:48:48.943397",
          "2020-06-01T04:05:48.943397",
          "2020-06-01T04:14:48.943397",
          "2020-06-01T04:14:48.943397",
          "2020-06-01T04:05:48.943397"
         ],
         "y": [
          3.9,
          3.9,
          4.1,
          4.1,
          null,
          2.9,
          2.9,
          3.1,
          3.1,
          null,
          1.9,
          1.9,
          2.1,
          2.1,
          null,
          0.9,
          0.9,
          1.1,
          1.1,
          null,
          -0.1,
          -0.1,
          0.1,
          0.1
         ]
        },
        {
         "fill": "toself",
         "fillcolor": "rgb(219, 95, 87)",
         "hoverinfo": "name",
         "legendgroup": "rgb(219, 95, 87)",
         "mode": "none",
         "name": "Task001",
         "showlegend": true,
         "type": "scatter",
         "x": [
          "2020-06-01T00:43:48.943397",
          "2020-06-01T00:59:48.943397",
          "2020-06-01T00:59:48.943397",
          "2020-06-01T00:43:48.943397",
          "2020-06-01T00:43:48.943397",
          "2020-06-01T01:19:48.943397",
          "2020-06-01T01:29:48.943397",
          "2020-06-01T01:29:48.943397",
          "2020-06-01T01:19:48.943397",
          "2020-06-01T01:19:48.943397",
          "2020-06-01T01:40:48.943397",
          "2020-06-01T02:03:48.943397",
          "2020-06-01T02:03:48.943397",
          "2020-06-01T01:40:48.943397",
          "2020-06-01T01:40:48.943397",
          "2020-06-01T02:03:48.943397",
          "2020-06-01T02:20:48.943397",
          "2020-06-01T02:20:48.943397",
          "2020-06-01T02:03:48.943397",
          "2020-06-01T02:03:48.943397",
          "2020-06-01T02:33:48.943397",
          "2020-06-01T02:52:48.943397",
          "2020-06-01T02:52:48.943397",
          "2020-06-01T02:33:48.943397"
         ],
         "y": [
          3.9,
          3.9,
          4.1,
          4.1,
          null,
          2.9,
          2.9,
          3.1,
          3.1,
          null,
          1.9,
          1.9,
          2.1,
          2.1,
          null,
          0.9,
          0.9,
          1.1,
          1.1,
          null,
          -0.1,
          -0.1,
          0.1,
          0.1
         ]
        },
        {
         "fill": "toself",
         "fillcolor": "rgb(87, 123, 219)",
         "hoverinfo": "name",
         "legendgroup": "rgb(87, 123, 219)",
         "mode": "none",
         "name": "Task012",
         "showlegend": true,
         "type": "scatter",
         "x": [
          "2020-06-01T01:23:48.943397",
          "2020-06-01T01:48:48.943397",
          "2020-06-01T01:48:48.943397",
          "2020-06-01T01:23:48.943397",
          "2020-06-01T01:23:48.943397",
          "2020-06-01T01:52:48.943397",
          "2020-06-01T02:12:48.943397",
          "2020-06-01T02:12:48.943397",
          "2020-06-01T01:52:48.943397",
          "2020-06-01T01:52:48.943397",
          "2020-06-01T02:28:48.943397",
          "2020-06-01T02:46:48.943397",
          "2020-06-01T02:46:48.943397",
          "2020-06-01T02:28:48.943397",
          "2020-06-01T02:28:48.943397",
          "2020-06-01T02:46:48.943397",
          "2020-06-01T02:53:48.943397",
          "2020-06-01T02:53:48.943397",
          "2020-06-01T02:46:48.943397",
          "2020-06-01T02:46:48.943397",
          "2020-06-01T03:06:48.943397",
          "2020-06-01T03:16:48.943397",
          "2020-06-01T03:16:48.943397",
          "2020-06-01T03:06:48.943397"
         ],
         "y": [
          3.9,
          3.9,
          4.1,
          4.1,
          null,
          2.9,
          2.9,
          3.1,
          3.1,
          null,
          1.9,
          1.9,
          2.1,
          2.1,
          null,
          0.9,
          0.9,
          1.1,
          1.1,
          null,
          -0.1,
          -0.1,
          0.1,
          0.1
         ]
        },
        {
         "fill": "toself",
         "fillcolor": "rgb(87, 167, 219)",
         "hoverinfo": "name",
         "legendgroup": "rgb(87, 167, 219)",
         "mode": "none",
         "name": "Task011",
         "showlegend": true,
         "type": "scatter",
         "x": [
          "2020-06-01T02:41:48.943397",
          "2020-06-01T02:57:48.943397",
          "2020-06-01T02:57:48.943397",
          "2020-06-01T02:41:48.943397",
          "2020-06-01T02:41:48.943397",
          "2020-06-01T02:57:48.943397",
          "2020-06-01T03:10:48.943397",
          "2020-06-01T03:10:48.943397",
          "2020-06-01T02:57:48.943397",
          "2020-06-01T02:57:48.943397",
          "2020-06-01T03:14:48.943397",
          "2020-06-01T03:34:48.943397",
          "2020-06-01T03:34:48.943397",
          "2020-06-01T03:14:48.943397",
          "2020-06-01T03:14:48.943397",
          "2020-06-01T03:37:48.943397",
          "2020-06-01T03:47:48.943397",
          "2020-06-01T03:47:48.943397",
          "2020-06-01T03:37:48.943397",
          "2020-06-01T03:37:48.943397",
          "2020-06-01T03:48:48.943397",
          "2020-06-01T04:05:48.943397",
          "2020-06-01T04:05:48.943397",
          "2020-06-01T03:48:48.943397"
         ],
         "y": [
          3.9,
          3.9,
          4.1,
          4.1,
          null,
          2.9,
          2.9,
          3.1,
          3.1,
          null,
          1.9,
          1.9,
          2.1,
          2.1,
          null,
          0.9,
          0.9,
          1.1,
          1.1,
          null,
          -0.1,
          -0.1,
          0.1,
          0.1
         ]
        },
        {
         "fill": "toself",
         "fillcolor": "rgb(87, 211, 219)",
         "hoverinfo": "name",
         "legendgroup": "rgb(87, 211, 219)",
         "mode": "none",
         "name": "Task010",
         "showlegend": true,
         "type": "scatter",
         "x": [
          "2020-05-31T23:53:48.943397",
          "2020-05-31T23:55:48.943397",
          "2020-05-31T23:55:48.943397",
          "2020-05-31T23:53:48.943397",
          "2020-05-31T23:53:48.943397",
          "2020-06-01T00:12:48.943397",
          "2020-06-01T00:19:48.943397",
          "2020-06-01T00:19:48.943397",
          "2020-06-01T00:12:48.943397",
          "2020-06-01T00:12:48.943397",
          "2020-06-01T00:25:48.943397",
          "2020-06-01T00:44:48.943397",
          "2020-06-01T00:44:48.943397",
          "2020-06-01T00:25:48.943397",
          "2020-06-01T00:25:48.943397",
          "2020-06-01T00:44:48.943397",
          "2020-06-01T00:55:48.943397",
          "2020-06-01T00:55:48.943397",
          "2020-06-01T00:44:48.943397",
          "2020-06-01T00:44:48.943397",
          "2020-06-01T01:01:48.943397",
          "2020-06-01T01:24:48.943397",
          "2020-06-01T01:24:48.943397",
          "2020-06-01T01:01:48.943397"
         ],
         "y": [
          3.9,
          3.9,
          4.1,
          4.1,
          null,
          2.9,
          2.9,
          3.1,
          3.1,
          null,
          1.9,
          1.9,
          2.1,
          2.1,
          null,
          0.9,
          0.9,
          1.1,
          1.1,
          null,
          -0.1,
          -0.1,
          0.1,
          0.1
         ]
        },
        {
         "fill": "toself",
         "fillcolor": "rgb(87, 219, 139)",
         "hoverinfo": "name",
         "legendgroup": "rgb(87, 219, 139)",
         "mode": "none",
         "name": "Task008",
         "showlegend": true,
         "type": "scatter",
         "x": [
          "2020-06-01T00:59:48.943397",
          "2020-06-01T01:23:48.943397",
          "2020-06-01T01:23:48.943397",
          "2020-06-01T00:59:48.943397",
          "2020-06-01T00:59:48.943397",
          "2020-06-01T01:29:48.943397",
          "2020-06-01T01:52:48.943397",
          "2020-06-01T01:52:48.943397",
          "2020-06-01T01:29:48.943397",
          "2020-06-01T01:29:48.943397",
          "2020-06-01T02:03:48.943397",
          "2020-06-01T02:28:48.943397",
          "2020-06-01T02:28:48.943397",
          "2020-06-01T02:03:48.943397",
          "2020-06-01T02:03:48.943397",
          "2020-06-01T02:28:48.943397",
          "2020-06-01T02:33:48.943397",
          "2020-06-01T02:33:48.943397",
          "2020-06-01T02:28:48.943397",
          "2020-06-01T02:28:48.943397",
          "2020-06-01T02:52:48.943397",
          "2020-06-01T03:06:48.943397",
          "2020-06-01T03:06:48.943397",
          "2020-06-01T02:52:48.943397"
         ],
         "y": [
          3.9,
          3.9,
          4.1,
          4.1,
          null,
          2.9,
          2.9,
          3.1,
          3.1,
          null,
          1.9,
          1.9,
          2.1,
          2.1,
          null,
          0.9,
          0.9,
          1.1,
          1.1,
          null,
          -0.1,
          -0.1,
          0.1,
          0.1
         ]
        },
        {
         "fill": "toself",
         "fillcolor": "rgb(87, 219, 183)",
         "hoverinfo": "name",
         "legendgroup": "rgb(87, 219, 183)",
         "mode": "none",
         "name": "Task009",
         "showlegend": true,
         "type": "scatter",
         "x": [
          "2020-06-01T00:22:48.943397",
          "2020-06-01T00:43:48.943397",
          "2020-06-01T00:43:48.943397",
          "2020-06-01T00:22:48.943397",
          "2020-06-01T00:22:48.943397",
          "2020-06-01T01:02:48.943397",
          "2020-06-01T01:19:48.943397",
          "2020-06-01T01:19:48.943397",
          "2020-06-01T01:02:48.943397",
          "2020-06-01T01:02:48.943397",
          "2020-06-01T01:20:48.943397",
          "2020-06-01T01:40:48.943397",
          "2020-06-01T01:40:48.943397",
          "2020-06-01T01:20:48.943397",
          "2020-06-01T01:20:48.943397",
          "2020-06-01T01:40:48.943397",
          "2020-06-01T01:51:48.943397",
          "2020-06-01T01:51:48.943397",
          "2020-06-01T01:40:48.943397",
          "2020-06-01T01:40:48.943397",
          "2020-06-01T02:13:48.943397",
          "2020-06-01T02:33:48.943397",
          "2020-06-01T02:33:48.943397",
          "2020-06-01T02:13:48.943397"
         ],
         "y": [
          3.9,
          3.9,
          4.1,
          4.1,
          null,
          2.9,
          2.9,
          3.1,
          3.1,
          null,
          1.9,
          1.9,
          2.1,
          2.1,
          null,
          0.9,
          0.9,
          1.1,
          1.1,
          null,
          -0.1,
          -0.1,
          0.1,
          0.1
         ]
        },
        {
         "fill": "toself",
         "fillcolor": "rgb(87, 219, 95)",
         "hoverinfo": "name",
         "legendgroup": "rgb(87, 219, 95)",
         "mode": "none",
         "name": "Task007",
         "showlegend": true,
         "type": "scatter",
         "x": [
          "2020-05-31T23:55:48.943397",
          "2020-06-01T00:06:48.943397",
          "2020-06-01T00:06:48.943397",
          "2020-05-31T23:55:48.943397",
          "2020-05-31T23:55:48.943397",
          "2020-06-01T00:19:48.943397",
          "2020-06-01T00:41:48.943397",
          "2020-06-01T00:41:48.943397",
          "2020-06-01T00:19:48.943397",
          "2020-06-01T00:19:48.943397",
          "2020-06-01T00:44:48.943397",
          "2020-06-01T01:05:48.943397",
          "2020-06-01T01:05:48.943397",
          "2020-06-01T00:44:48.943397",
          "2020-06-01T00:44:48.943397",
          "2020-06-01T01:05:48.943397",
          "2020-06-01T01:09:48.943397",
          "2020-06-01T01:09:48.943397",
          "2020-06-01T01:05:48.943397",
          "2020-06-01T01:05:48.943397",
          "2020-06-01T01:24:48.943397",
          "2020-06-01T01:48:48.943397",
          "2020-06-01T01:48:48.943397",
          "2020-06-01T01:24:48.943397"
         ],
         "y": [
          3.9,
          3.9,
          4.1,
          4.1,
          null,
          2.9,
          2.9,
          3.1,
          3.1,
          null,
          1.9,
          1.9,
          2.1,
          2.1,
          null,
          0.9,
          0.9,
          1.1,
          1.1,
          null,
          -0.1,
          -0.1,
          0.1,
          0.1
         ]
        },
        {
         "fill": "toself",
         "fillcolor": "rgb(95, 87, 219)",
         "hoverinfo": "name",
         "legendgroup": "rgb(95, 87, 219)",
         "mode": "none",
         "name": "Task013",
         "showlegend": true,
         "type": "scatter",
         "x": [
          "2020-06-01T00:06:48.943397",
          "2020-06-01T00:22:48.943397",
          "2020-06-01T00:22:48.943397",
          "2020-06-01T00:06:48.943397",
          "2020-06-01T00:06:48.943397",
          "2020-06-01T00:41:48.943397",
          "2020-06-01T01:02:48.943397",
          "2020-06-01T01:02:48.943397",
          "2020-06-01T00:41:48.943397",
          "2020-06-01T00:41:48.943397",
          "2020-06-01T01:05:48.943397",
          "2020-06-01T01:20:48.943397",
          "2020-06-01T01:20:48.943397",
          "2020-06-01T01:05:48.943397",
          "2020-06-01T01:05:48.943397",
          "2020-06-01T01:20:48.943397",
          "2020-06-01T01:40:48.943397",
          "2020-06-01T01:40:48.943397",
          "2020-06-01T01:20:48.943397",
          "2020-06-01T01:20:48.943397",
          "2020-06-01T01:48:48.943397",
          "2020-06-01T02:13:48.943397",
          "2020-06-01T02:13:48.943397",
          "2020-06-01T01:48:48.943397"
         ],
         "y": [
          3.9,
          3.9,
          4.1,
          4.1,
          null,
          2.9,
          2.9,
          3.1,
          3.1,
          null,
          1.9,
          1.9,
          2.1,
          2.1,
          null,
          0.9,
          0.9,
          1.1,
          1.1,
          null,
          -0.1,
          -0.1,
          0.1,
          0.1
         ]
        },
        {
         "legendgroup": "rgb(123, 219, 87)",
         "marker": {
          "color": "rgb(123, 219, 87)",
          "opacity": 0,
          "size": 1
         },
         "mode": "markers",
         "name": "",
         "showlegend": false,
         "text": [
          null,
          null,
          null,
          null,
          null,
          null,
          null,
          null,
          null,
          null
         ],
         "type": "scatter",
         "x": [
          "2020-05-31T23:34:48.943397",
          "2020-05-31T23:40:48.943397",
          "2020-05-31T23:43:48.943397",
          "2020-05-31T23:46:48.943397",
          "2020-05-31T23:46:48.943397",
          "2020-05-31T23:58:48.943397",
          "2020-05-31T23:58:48.943397",
          "2020-06-01T00:21:48.943397",
          "2020-06-01T00:22:48.943397",
          "2020-06-01T00:34:48.943397"
         ],
         "y": [
          4,
          4,
          3,
          3,
          2,
          2,
          1,
          1,
          0,
          0
         ]
        },
        {
         "legendgroup": "rgb(139, 87, 219)",
         "marker": {
          "color": "rgb(139, 87, 219)",
          "opacity": 0,
          "size": 1
         },
         "mode": "markers",
         "name": "",
         "showlegend": false,
         "text": [
          null,
          null,
          null,
          null,
          null,
          null,
          null,
          null,
          null,
          null
         ],
         "type": "scatter",
         "x": [
          "2020-06-01T02:05:48.943397",
          "2020-06-01T02:16:48.943397",
          "2020-06-01T02:34:48.943397",
          "2020-06-01T02:37:48.943397",
          "2020-06-01T03:03:48.943397",
          "2020-06-01T03:06:48.943397",
          "2020-06-01T03:06:48.943397",
          "2020-06-01T03:14:48.943397",
          "2020-06-01T03:32:48.943397",
          "2020-06-01T03:39:48.943397"
         ],
         "y": [
          4,
          4,
          3,
          3,
          2,
          2,
          1,
          1,
          0,
          0
         ]
        },
        {
         "legendgroup": "rgb(167, 219, 87)",
         "marker": {
          "color": "rgb(167, 219, 87)",
          "opacity": 0,
          "size": 1
         },
         "mode": "markers",
         "name": "",
         "showlegend": false,
         "text": [
          null,
          null,
          null,
          null,
          null,
          null,
          null,
          null,
          null,
          null
         ],
         "type": "scatter",
         "x": [
          "2020-06-01T02:16:48.943397",
          "2020-06-01T02:41:48.943397",
          "2020-06-01T02:41:48.943397",
          "2020-06-01T02:57:48.943397",
          "2020-06-01T03:06:48.943397",
          "2020-06-01T03:14:48.943397",
          "2020-06-01T03:14:48.943397",
          "2020-06-01T03:37:48.943397",
          "2020-06-01T03:39:48.943397",
          "2020-06-01T03:48:48.943397"
         ],
         "y": [
          4,
          4,
          3,
          3,
          2,
          2,
          1,
          1,
          0,
          0
         ]
        },
        {
         "legendgroup": "rgb(183, 87, 219)",
         "marker": {
          "color": "rgb(183, 87, 219)",
          "opacity": 0,
          "size": 1
         },
         "mode": "markers",
         "name": "",
         "showlegend": false,
         "text": [
          null,
          null,
          null,
          null,
          null,
          null,
          null,
          null,
          null,
          null
         ],
         "type": "scatter",
         "x": [
          "2020-05-31T23:49:48.943397",
          "2020-05-31T23:53:48.943397",
          "2020-05-31T23:56:48.943397",
          "2020-06-01T00:12:48.943397",
          "2020-06-01T00:23:48.943397",
          "2020-06-01T00:25:48.943397",
          "2020-06-01T00:28:48.943397",
          "2020-06-01T00:42:48.943397",
          "2020-06-01T00:53:48.943397",
          "2020-06-01T01:01:48.943397"
         ],
         "y": [
          4,
          4,
          3,
          3,
          2,
          2,
          1,
          1,
          0,
          0
         ]
        },
        {
         "legendgroup": "rgb(211, 219, 87)",
         "marker": {
          "color": "rgb(211, 219, 87)",
          "opacity": 0,
          "size": 1
         },
         "mode": "markers",
         "name": "",
         "showlegend": false,
         "text": [
          null,
          null,
          null,
          null,
          null,
          null,
          null,
          null,
          null,
          null
         ],
         "type": "scatter",
         "x": [
          "2020-06-01T01:48:48.943397",
          "2020-06-01T02:05:48.943397",
          "2020-06-01T02:12:48.943397",
          "2020-06-01T02:34:48.943397",
          "2020-06-01T02:46:48.943397",
          "2020-06-01T03:03:48.943397",
          "2020-06-01T03:03:48.943397",
          "2020-06-01T03:06:48.943397",
          "2020-06-01T03:16:48.943397",
          "2020-06-01T03:32:48.943397"
         ],
         "y": [
          4,
          4,
          3,
          3,
          2,
          2,
          1,
          1,
          0,
          0
         ]
        },
        {
         "legendgroup": "rgb(219, 139, 87)",
         "marker": {
          "color": "rgb(219, 139, 87)",
          "opacity": 0,
          "size": 1
         },
         "mode": "markers",
         "name": "",
         "showlegend": false,
         "text": [
          null,
          null,
          null,
          null,
          null,
          null,
          null,
          null,
          null,
          null
         ],
         "type": "scatter",
         "x": [
          "2020-05-31T23:20:48.943397",
          "2020-05-31T23:24:48.943397",
          "2020-05-31T23:24:48.943397",
          "2020-05-31T23:32:48.943397",
          "2020-05-31T23:32:48.943397",
          "2020-05-31T23:40:48.943397",
          "2020-05-31T23:40:48.943397",
          "2020-05-31T23:46:48.943397",
          "2020-05-31T23:46:48.943397",
          "2020-06-01T00:00:48.943397"
         ],
         "y": [
          4,
          4,
          3,
          3,
          2,
          2,
          1,
          1,
          0,
          0
         ]
        },
        {
         "legendgroup": "rgb(219, 183, 87)",
         "marker": {
          "color": "rgb(219, 183, 87)",
          "opacity": 0,
          "size": 1
         },
         "mode": "markers",
         "name": "",
         "showlegend": false,
         "text": [
          null,
          null,
          null,
          null,
          null,
          null,
          null,
          null,
          null,
          null
         ],
         "type": "scatter",
         "x": [
          "2020-05-31T23:24:48.943397",
          "2020-05-31T23:34:48.943397",
          "2020-05-31T23:34:48.943397",
          "2020-05-31T23:43:48.943397",
          "2020-05-31T23:43:48.943397",
          "2020-05-31T23:45:48.943397",
          "2020-05-31T23:46:48.943397",
          "2020-05-31T23:50:48.943397",
          "2020-06-01T00:00:48.943397",
          "2020-06-01T00:22:48.943397"
         ],
         "y": [
          4,
          4,
          3,
          3,
          2,
          2,
          1,
          1,
          0,
          0
         ]
        },
        {
         "legendgroup": "rgb(219, 87, 123)",
         "marker": {
          "color": "rgb(219, 87, 123)",
          "opacity": 0,
          "size": 1
         },
         "mode": "markers",
         "name": "",
         "showlegend": false,
         "text": [
          null,
          null,
          null,
          null,
          null,
          null,
          null,
          null,
          null,
          null
         ],
         "type": "scatter",
         "x": [
          "2020-06-01T03:16:48.943397",
          "2020-06-01T03:33:48.943397",
          "2020-06-01T03:33:48.943397",
          "2020-06-01T03:35:48.943397",
          "2020-06-01T03:48:48.943397",
          "2020-06-01T04:04:48.943397",
          "2020-06-01T04:04:48.943397",
          "2020-06-01T04:14:48.943397",
          "2020-06-01T04:14:48.943397",
          "2020-06-01T04:22:48.943397"
         ],
         "y": [
          4,
          4,
          3,
          3,
          2,
          2,
          1,
          1,
          0,
          0
         ]
        },
        {
         "legendgroup": "rgb(219, 87, 167)",
         "marker": {
          "color": "rgb(219, 87, 167)",
          "opacity": 0,
          "size": 1
         },
         "mode": "markers",
         "name": "",
         "showlegend": false,
         "text": [
          null,
          null,
          null,
          null,
          null,
          null,
          null,
          null,
          null,
          null
         ],
         "type": "scatter",
         "x": [
          "2020-05-31T23:40:48.943397",
          "2020-05-31T23:49:48.943397",
          "2020-05-31T23:49:48.943397",
          "2020-05-31T23:56:48.943397",
          "2020-05-31T23:58:48.943397",
          "2020-06-01T00:23:48.943397",
          "2020-06-01T00:23:48.943397",
          "2020-06-01T00:28:48.943397",
          "2020-06-01T00:34:48.943397",
          "2020-06-01T00:53:48.943397"
         ],
         "y": [
          4,
          4,
          3,
          3,
          2,
          2,
          1,
          1,
          0,
          0
         ]
        },
        {
         "legendgroup": "rgb(219, 87, 211)",
         "marker": {
          "color": "rgb(219, 87, 211)",
          "opacity": 0,
          "size": 1
         },
         "mode": "markers",
         "name": "",
         "showlegend": false,
         "text": [
          null,
          null,
          null,
          null,
          null,
          null,
          null,
          null,
          null,
          null
         ],
         "type": "scatter",
         "x": [
          "2020-06-01T02:57:48.943397",
          "2020-06-01T03:16:48.943397",
          "2020-06-01T03:16:48.943397",
          "2020-06-01T03:29:48.943397",
          "2020-06-01T03:34:48.943397",
          "2020-06-01T03:48:48.943397",
          "2020-06-01T03:48:48.943397",
          "2020-06-01T03:51:48.943397",
          "2020-06-01T04:05:48.943397",
          "2020-06-01T04:14:48.943397"
         ],
         "y": [
          4,
          4,
          3,
          3,
          2,
          2,
          1,
          1,
          0,
          0
         ]
        },
        {
         "legendgroup": "rgb(219, 95, 87)",
         "marker": {
          "color": "rgb(219, 95, 87)",
          "opacity": 0,
          "size": 1
         },
         "mode": "markers",
         "name": "",
         "showlegend": false,
         "text": [
          null,
          null,
          null,
          null,
          null,
          null,
          null,
          null,
          null,
          null
         ],
         "type": "scatter",
         "x": [
          "2020-06-01T00:43:48.943397",
          "2020-06-01T00:59:48.943397",
          "2020-06-01T01:19:48.943397",
          "2020-06-01T01:29:48.943397",
          "2020-06-01T01:40:48.943397",
          "2020-06-01T02:03:48.943397",
          "2020-06-01T02:03:48.943397",
          "2020-06-01T02:20:48.943397",
          "2020-06-01T02:33:48.943397",
          "2020-06-01T02:52:48.943397"
         ],
         "y": [
          4,
          4,
          3,
          3,
          2,
          2,
          1,
          1,
          0,
          0
         ]
        },
        {
         "legendgroup": "rgb(87, 123, 219)",
         "marker": {
          "color": "rgb(87, 123, 219)",
          "opacity": 0,
          "size": 1
         },
         "mode": "markers",
         "name": "",
         "showlegend": false,
         "text": [
          null,
          null,
          null,
          null,
          null,
          null,
          null,
          null,
          null,
          null
         ],
         "type": "scatter",
         "x": [
          "2020-06-01T01:23:48.943397",
          "2020-06-01T01:48:48.943397",
          "2020-06-01T01:52:48.943397",
          "2020-06-01T02:12:48.943397",
          "2020-06-01T02:28:48.943397",
          "2020-06-01T02:46:48.943397",
          "2020-06-01T02:46:48.943397",
          "2020-06-01T02:53:48.943397",
          "2020-06-01T03:06:48.943397",
          "2020-06-01T03:16:48.943397"
         ],
         "y": [
          4,
          4,
          3,
          3,
          2,
          2,
          1,
          1,
          0,
          0
         ]
        },
        {
         "legendgroup": "rgb(87, 167, 219)",
         "marker": {
          "color": "rgb(87, 167, 219)",
          "opacity": 0,
          "size": 1
         },
         "mode": "markers",
         "name": "",
         "showlegend": false,
         "text": [
          null,
          null,
          null,
          null,
          null,
          null,
          null,
          null,
          null,
          null
         ],
         "type": "scatter",
         "x": [
          "2020-06-01T02:41:48.943397",
          "2020-06-01T02:57:48.943397",
          "2020-06-01T02:57:48.943397",
          "2020-06-01T03:10:48.943397",
          "2020-06-01T03:14:48.943397",
          "2020-06-01T03:34:48.943397",
          "2020-06-01T03:37:48.943397",
          "2020-06-01T03:47:48.943397",
          "2020-06-01T03:48:48.943397",
          "2020-06-01T04:05:48.943397"
         ],
         "y": [
          4,
          4,
          3,
          3,
          2,
          2,
          1,
          1,
          0,
          0
         ]
        },
        {
         "legendgroup": "rgb(87, 211, 219)",
         "marker": {
          "color": "rgb(87, 211, 219)",
          "opacity": 0,
          "size": 1
         },
         "mode": "markers",
         "name": "",
         "showlegend": false,
         "text": [
          null,
          null,
          null,
          null,
          null,
          null,
          null,
          null,
          null,
          null
         ],
         "type": "scatter",
         "x": [
          "2020-05-31T23:53:48.943397",
          "2020-05-31T23:55:48.943397",
          "2020-06-01T00:12:48.943397",
          "2020-06-01T00:19:48.943397",
          "2020-06-01T00:25:48.943397",
          "2020-06-01T00:44:48.943397",
          "2020-06-01T00:44:48.943397",
          "2020-06-01T00:55:48.943397",
          "2020-06-01T01:01:48.943397",
          "2020-06-01T01:24:48.943397"
         ],
         "y": [
          4,
          4,
          3,
          3,
          2,
          2,
          1,
          1,
          0,
          0
         ]
        },
        {
         "legendgroup": "rgb(87, 219, 139)",
         "marker": {
          "color": "rgb(87, 219, 139)",
          "opacity": 0,
          "size": 1
         },
         "mode": "markers",
         "name": "",
         "showlegend": false,
         "text": [
          null,
          null,
          null,
          null,
          null,
          null,
          null,
          null,
          null,
          null
         ],
         "type": "scatter",
         "x": [
          "2020-06-01T00:59:48.943397",
          "2020-06-01T01:23:48.943397",
          "2020-06-01T01:29:48.943397",
          "2020-06-01T01:52:48.943397",
          "2020-06-01T02:03:48.943397",
          "2020-06-01T02:28:48.943397",
          "2020-06-01T02:28:48.943397",
          "2020-06-01T02:33:48.943397",
          "2020-06-01T02:52:48.943397",
          "2020-06-01T03:06:48.943397"
         ],
         "y": [
          4,
          4,
          3,
          3,
          2,
          2,
          1,
          1,
          0,
          0
         ]
        },
        {
         "legendgroup": "rgb(87, 219, 183)",
         "marker": {
          "color": "rgb(87, 219, 183)",
          "opacity": 0,
          "size": 1
         },
         "mode": "markers",
         "name": "",
         "showlegend": false,
         "text": [
          null,
          null,
          null,
          null,
          null,
          null,
          null,
          null,
          null,
          null
         ],
         "type": "scatter",
         "x": [
          "2020-06-01T00:22:48.943397",
          "2020-06-01T00:43:48.943397",
          "2020-06-01T01:02:48.943397",
          "2020-06-01T01:19:48.943397",
          "2020-06-01T01:20:48.943397",
          "2020-06-01T01:40:48.943397",
          "2020-06-01T01:40:48.943397",
          "2020-06-01T01:51:48.943397",
          "2020-06-01T02:13:48.943397",
          "2020-06-01T02:33:48.943397"
         ],
         "y": [
          4,
          4,
          3,
          3,
          2,
          2,
          1,
          1,
          0,
          0
         ]
        },
        {
         "legendgroup": "rgb(87, 219, 95)",
         "marker": {
          "color": "rgb(87, 219, 95)",
          "opacity": 0,
          "size": 1
         },
         "mode": "markers",
         "name": "",
         "showlegend": false,
         "text": [
          null,
          null,
          null,
          null,
          null,
          null,
          null,
          null,
          null,
          null
         ],
         "type": "scatter",
         "x": [
          "2020-05-31T23:55:48.943397",
          "2020-06-01T00:06:48.943397",
          "2020-06-01T00:19:48.943397",
          "2020-06-01T00:41:48.943397",
          "2020-06-01T00:44:48.943397",
          "2020-06-01T01:05:48.943397",
          "2020-06-01T01:05:48.943397",
          "2020-06-01T01:09:48.943397",
          "2020-06-01T01:24:48.943397",
          "2020-06-01T01:48:48.943397"
         ],
         "y": [
          4,
          4,
          3,
          3,
          2,
          2,
          1,
          1,
          0,
          0
         ]
        },
        {
         "legendgroup": "rgb(95, 87, 219)",
         "marker": {
          "color": "rgb(95, 87, 219)",
          "opacity": 0,
          "size": 1
         },
         "mode": "markers",
         "name": "",
         "showlegend": false,
         "text": [
          null,
          null,
          null,
          null,
          null,
          null,
          null,
          null,
          null,
          null
         ],
         "type": "scatter",
         "x": [
          "2020-06-01T00:06:48.943397",
          "2020-06-01T00:22:48.943397",
          "2020-06-01T00:41:48.943397",
          "2020-06-01T01:02:48.943397",
          "2020-06-01T01:05:48.943397",
          "2020-06-01T01:20:48.943397",
          "2020-06-01T01:20:48.943397",
          "2020-06-01T01:40:48.943397",
          "2020-06-01T01:48:48.943397",
          "2020-06-01T02:13:48.943397"
         ],
         "y": [
          4,
          4,
          3,
          3,
          2,
          2,
          1,
          1,
          0,
          0
         ]
        }
       ],
       "layout": {
        "height": 600,
        "hovermode": "closest",
        "showlegend": true,
        "template": {
         "data": {
          "bar": [
           {
            "error_x": {
             "color": "#2a3f5f"
            },
            "error_y": {
             "color": "#2a3f5f"
            },
            "marker": {
             "line": {
              "color": "#E5ECF6",
              "width": 0.5
             }
            },
            "type": "bar"
           }
          ],
          "barpolar": [
           {
            "marker": {
             "line": {
              "color": "#E5ECF6",
              "width": 0.5
             }
            },
            "type": "barpolar"
           }
          ],
          "carpet": [
           {
            "aaxis": {
             "endlinecolor": "#2a3f5f",
             "gridcolor": "white",
             "linecolor": "white",
             "minorgridcolor": "white",
             "startlinecolor": "#2a3f5f"
            },
            "baxis": {
             "endlinecolor": "#2a3f5f",
             "gridcolor": "white",
             "linecolor": "white",
             "minorgridcolor": "white",
             "startlinecolor": "#2a3f5f"
            },
            "type": "carpet"
           }
          ],
          "choropleth": [
           {
            "colorbar": {
             "outlinewidth": 0,
             "ticks": ""
            },
            "type": "choropleth"
           }
          ],
          "contour": [
           {
            "colorbar": {
             "outlinewidth": 0,
             "ticks": ""
            },
            "colorscale": [
             [
              0,
              "#0d0887"
             ],
             [
              0.1111111111111111,
              "#46039f"
             ],
             [
              0.2222222222222222,
              "#7201a8"
             ],
             [
              0.3333333333333333,
              "#9c179e"
             ],
             [
              0.4444444444444444,
              "#bd3786"
             ],
             [
              0.5555555555555556,
              "#d8576b"
             ],
             [
              0.6666666666666666,
              "#ed7953"
             ],
             [
              0.7777777777777778,
              "#fb9f3a"
             ],
             [
              0.8888888888888888,
              "#fdca26"
             ],
             [
              1,
              "#f0f921"
             ]
            ],
            "type": "contour"
           }
          ],
          "contourcarpet": [
           {
            "colorbar": {
             "outlinewidth": 0,
             "ticks": ""
            },
            "type": "contourcarpet"
           }
          ],
          "heatmap": [
           {
            "colorbar": {
             "outlinewidth": 0,
             "ticks": ""
            },
            "colorscale": [
             [
              0,
              "#0d0887"
             ],
             [
              0.1111111111111111,
              "#46039f"
             ],
             [
              0.2222222222222222,
              "#7201a8"
             ],
             [
              0.3333333333333333,
              "#9c179e"
             ],
             [
              0.4444444444444444,
              "#bd3786"
             ],
             [
              0.5555555555555556,
              "#d8576b"
             ],
             [
              0.6666666666666666,
              "#ed7953"
             ],
             [
              0.7777777777777778,
              "#fb9f3a"
             ],
             [
              0.8888888888888888,
              "#fdca26"
             ],
             [
              1,
              "#f0f921"
             ]
            ],
            "type": "heatmap"
           }
          ],
          "heatmapgl": [
           {
            "colorbar": {
             "outlinewidth": 0,
             "ticks": ""
            },
            "colorscale": [
             [
              0,
              "#0d0887"
             ],
             [
              0.1111111111111111,
              "#46039f"
             ],
             [
              0.2222222222222222,
              "#7201a8"
             ],
             [
              0.3333333333333333,
              "#9c179e"
             ],
             [
              0.4444444444444444,
              "#bd3786"
             ],
             [
              0.5555555555555556,
              "#d8576b"
             ],
             [
              0.6666666666666666,
              "#ed7953"
             ],
             [
              0.7777777777777778,
              "#fb9f3a"
             ],
             [
              0.8888888888888888,
              "#fdca26"
             ],
             [
              1,
              "#f0f921"
             ]
            ],
            "type": "heatmapgl"
           }
          ],
          "histogram": [
           {
            "marker": {
             "colorbar": {
              "outlinewidth": 0,
              "ticks": ""
             }
            },
            "type": "histogram"
           }
          ],
          "histogram2d": [
           {
            "colorbar": {
             "outlinewidth": 0,
             "ticks": ""
            },
            "colorscale": [
             [
              0,
              "#0d0887"
             ],
             [
              0.1111111111111111,
              "#46039f"
             ],
             [
              0.2222222222222222,
              "#7201a8"
             ],
             [
              0.3333333333333333,
              "#9c179e"
             ],
             [
              0.4444444444444444,
              "#bd3786"
             ],
             [
              0.5555555555555556,
              "#d8576b"
             ],
             [
              0.6666666666666666,
              "#ed7953"
             ],
             [
              0.7777777777777778,
              "#fb9f3a"
             ],
             [
              0.8888888888888888,
              "#fdca26"
             ],
             [
              1,
              "#f0f921"
             ]
            ],
            "type": "histogram2d"
           }
          ],
          "histogram2dcontour": [
           {
            "colorbar": {
             "outlinewidth": 0,
             "ticks": ""
            },
            "colorscale": [
             [
              0,
              "#0d0887"
             ],
             [
              0.1111111111111111,
              "#46039f"
             ],
             [
              0.2222222222222222,
              "#7201a8"
             ],
             [
              0.3333333333333333,
              "#9c179e"
             ],
             [
              0.4444444444444444,
              "#bd3786"
             ],
             [
              0.5555555555555556,
              "#d8576b"
             ],
             [
              0.6666666666666666,
              "#ed7953"
             ],
             [
              0.7777777777777778,
              "#fb9f3a"
             ],
             [
              0.8888888888888888,
              "#fdca26"
             ],
             [
              1,
              "#f0f921"
             ]
            ],
            "type": "histogram2dcontour"
           }
          ],
          "mesh3d": [
           {
            "colorbar": {
             "outlinewidth": 0,
             "ticks": ""
            },
            "type": "mesh3d"
           }
          ],
          "parcoords": [
           {
            "line": {
             "colorbar": {
              "outlinewidth": 0,
              "ticks": ""
             }
            },
            "type": "parcoords"
           }
          ],
          "pie": [
           {
            "automargin": true,
            "type": "pie"
           }
          ],
          "scatter": [
           {
            "marker": {
             "colorbar": {
              "outlinewidth": 0,
              "ticks": ""
             }
            },
            "type": "scatter"
           }
          ],
          "scatter3d": [
           {
            "line": {
             "colorbar": {
              "outlinewidth": 0,
              "ticks": ""
             }
            },
            "marker": {
             "colorbar": {
              "outlinewidth": 0,
              "ticks": ""
             }
            },
            "type": "scatter3d"
           }
          ],
          "scattercarpet": [
           {
            "marker": {
             "colorbar": {
              "outlinewidth": 0,
              "ticks": ""
             }
            },
            "type": "scattercarpet"
           }
          ],
          "scattergeo": [
           {
            "marker": {
             "colorbar": {
              "outlinewidth": 0,
              "ticks": ""
             }
            },
            "type": "scattergeo"
           }
          ],
          "scattergl": [
           {
            "marker": {
             "colorbar": {
              "outlinewidth": 0,
              "ticks": ""
             }
            },
            "type": "scattergl"
           }
          ],
          "scattermapbox": [
           {
            "marker": {
             "colorbar": {
              "outlinewidth": 0,
              "ticks": ""
             }
            },
            "type": "scattermapbox"
           }
          ],
          "scatterpolar": [
           {
            "marker": {
             "colorbar": {
              "outlinewidth": 0,
              "ticks": ""
             }
            },
            "type": "scatterpolar"
           }
          ],
          "scatterpolargl": [
           {
            "marker": {
             "colorbar": {
              "outlinewidth": 0,
              "ticks": ""
             }
            },
            "type": "scatterpolargl"
           }
          ],
          "scatterternary": [
           {
            "marker": {
             "colorbar": {
              "outlinewidth": 0,
              "ticks": ""
             }
            },
            "type": "scatterternary"
           }
          ],
          "surface": [
           {
            "colorbar": {
             "outlinewidth": 0,
             "ticks": ""
            },
            "colorscale": [
             [
              0,
              "#0d0887"
             ],
             [
              0.1111111111111111,
              "#46039f"
             ],
             [
              0.2222222222222222,
              "#7201a8"
             ],
             [
              0.3333333333333333,
              "#9c179e"
             ],
             [
              0.4444444444444444,
              "#bd3786"
             ],
             [
              0.5555555555555556,
              "#d8576b"
             ],
             [
              0.6666666666666666,
              "#ed7953"
             ],
             [
              0.7777777777777778,
              "#fb9f3a"
             ],
             [
              0.8888888888888888,
              "#fdca26"
             ],
             [
              1,
              "#f0f921"
             ]
            ],
            "type": "surface"
           }
          ],
          "table": [
           {
            "cells": {
             "fill": {
              "color": "#EBF0F8"
             },
             "line": {
              "color": "white"
             }
            },
            "header": {
             "fill": {
              "color": "#C8D4E3"
             },
             "line": {
              "color": "white"
             }
            },
            "type": "table"
           }
          ]
         },
         "layout": {
          "annotationdefaults": {
           "arrowcolor": "#2a3f5f",
           "arrowhead": 0,
           "arrowwidth": 1
          },
          "coloraxis": {
           "colorbar": {
            "outlinewidth": 0,
            "ticks": ""
           }
          },
          "colorscale": {
           "diverging": [
            [
             0,
             "#8e0152"
            ],
            [
             0.1,
             "#c51b7d"
            ],
            [
             0.2,
             "#de77ae"
            ],
            [
             0.3,
             "#f1b6da"
            ],
            [
             0.4,
             "#fde0ef"
            ],
            [
             0.5,
             "#f7f7f7"
            ],
            [
             0.6,
             "#e6f5d0"
            ],
            [
             0.7,
             "#b8e186"
            ],
            [
             0.8,
             "#7fbc41"
            ],
            [
             0.9,
             "#4d9221"
            ],
            [
             1,
             "#276419"
            ]
           ],
           "sequential": [
            [
             0,
             "#0d0887"
            ],
            [
             0.1111111111111111,
             "#46039f"
            ],
            [
             0.2222222222222222,
             "#7201a8"
            ],
            [
             0.3333333333333333,
             "#9c179e"
            ],
            [
             0.4444444444444444,
             "#bd3786"
            ],
            [
             0.5555555555555556,
             "#d8576b"
            ],
            [
             0.6666666666666666,
             "#ed7953"
            ],
            [
             0.7777777777777778,
             "#fb9f3a"
            ],
            [
             0.8888888888888888,
             "#fdca26"
            ],
            [
             1,
             "#f0f921"
            ]
           ],
           "sequentialminus": [
            [
             0,
             "#0d0887"
            ],
            [
             0.1111111111111111,
             "#46039f"
            ],
            [
             0.2222222222222222,
             "#7201a8"
            ],
            [
             0.3333333333333333,
             "#9c179e"
            ],
            [
             0.4444444444444444,
             "#bd3786"
            ],
            [
             0.5555555555555556,
             "#d8576b"
            ],
            [
             0.6666666666666666,
             "#ed7953"
            ],
            [
             0.7777777777777778,
             "#fb9f3a"
            ],
            [
             0.8888888888888888,
             "#fdca26"
            ],
            [
             1,
             "#f0f921"
            ]
           ]
          },
          "colorway": [
           "#636efa",
           "#EF553B",
           "#00cc96",
           "#ab63fa",
           "#FFA15A",
           "#19d3f3",
           "#FF6692",
           "#B6E880",
           "#FF97FF",
           "#FECB52"
          ],
          "font": {
           "color": "#2a3f5f"
          },
          "geo": {
           "bgcolor": "white",
           "lakecolor": "white",
           "landcolor": "#E5ECF6",
           "showlakes": true,
           "showland": true,
           "subunitcolor": "white"
          },
          "hoverlabel": {
           "align": "left"
          },
          "hovermode": "closest",
          "mapbox": {
           "style": "light"
          },
          "paper_bgcolor": "white",
          "plot_bgcolor": "#E5ECF6",
          "polar": {
           "angularaxis": {
            "gridcolor": "white",
            "linecolor": "white",
            "ticks": ""
           },
           "bgcolor": "#E5ECF6",
           "radialaxis": {
            "gridcolor": "white",
            "linecolor": "white",
            "ticks": ""
           }
          },
          "scene": {
           "xaxis": {
            "backgroundcolor": "#E5ECF6",
            "gridcolor": "white",
            "gridwidth": 2,
            "linecolor": "white",
            "showbackground": true,
            "ticks": "",
            "zerolinecolor": "white"
           },
           "yaxis": {
            "backgroundcolor": "#E5ECF6",
            "gridcolor": "white",
            "gridwidth": 2,
            "linecolor": "white",
            "showbackground": true,
            "ticks": "",
            "zerolinecolor": "white"
           },
           "zaxis": {
            "backgroundcolor": "#E5ECF6",
            "gridcolor": "white",
            "gridwidth": 2,
            "linecolor": "white",
            "showbackground": true,
            "ticks": "",
            "zerolinecolor": "white"
           }
          },
          "shapedefaults": {
           "line": {
            "color": "#2a3f5f"
           }
          },
          "ternary": {
           "aaxis": {
            "gridcolor": "white",
            "linecolor": "white",
            "ticks": ""
           },
           "baxis": {
            "gridcolor": "white",
            "linecolor": "white",
            "ticks": ""
           },
           "bgcolor": "#E5ECF6",
           "caxis": {
            "gridcolor": "white",
            "linecolor": "white",
            "ticks": ""
           }
          },
          "title": {
           "x": 0.05
          },
          "xaxis": {
           "automargin": true,
           "gridcolor": "white",
           "linecolor": "white",
           "ticks": "",
           "title": {
            "standoff": 15
           },
           "zerolinecolor": "white",
           "zerolinewidth": 2
          },
          "yaxis": {
           "automargin": true,
           "gridcolor": "white",
           "linecolor": "white",
           "ticks": "",
           "title": {
            "standoff": 15
           },
           "zerolinecolor": "white",
           "zerolinewidth": 2
          }
         }
        },
        "title": {
         "font": {
          "size": 24
         },
         "text": " Makespan: 302.00 Scheduling:[ 2  3  6 17 15 10  7 13  9  1  8 12  4 14  5 11 16 18]",
         "x": 0.5,
         "xanchor": "center",
         "y": 0.95,
         "yanchor": "top"
        },
        "xaxis": {
         "rangeselector": {
          "buttons": [
           {
            "count": 7,
            "label": "1w",
            "step": "day",
            "stepmode": "backward"
           },
           {
            "count": 1,
            "label": "1m",
            "step": "month",
            "stepmode": "backward"
           },
           {
            "count": 6,
            "label": "6m",
            "step": "month",
            "stepmode": "backward"
           },
           {
            "count": 1,
            "label": "YTD",
            "step": "year",
            "stepmode": "todate"
           },
           {
            "count": 1,
            "label": "1y",
            "step": "year",
            "stepmode": "backward"
           },
           {
            "step": "all"
           }
          ]
         },
         "showgrid": true,
         "type": "date",
         "zeroline": false
        },
        "yaxis": {
         "autorange": false,
         "range": [
          -1,
          6
         ],
         "showgrid": true,
         "ticktext": [
          "Machine005",
          "Machine004",
          "Machine003",
          "Machine002",
          "Machine001"
         ],
         "tickvals": [
          0,
          1,
          2,
          3,
          4
         ],
         "zeroline": false
        }
       }
      },
      "text/html": [
       "<div>\n",
       "        \n",
       "        \n",
       "            <div id=\"530237f8-1ff7-49e7-9daa-71875400795b\" class=\"plotly-graph-div\" style=\"height:600px; width:100%;\"></div>\n",
       "            <script type=\"text/javascript\">\n",
       "                require([\"plotly\"], function(Plotly) {\n",
       "                    window.PLOTLYENV=window.PLOTLYENV || {};\n",
       "                    \n",
       "                if (document.getElementById(\"530237f8-1ff7-49e7-9daa-71875400795b\")) {\n",
       "                    Plotly.newPlot(\n",
       "                        '530237f8-1ff7-49e7-9daa-71875400795b',\n",
       "                        [{\"fill\": \"toself\", \"fillcolor\": \"rgb(123, 219, 87)\", \"hoverinfo\": \"name\", \"legendgroup\": \"rgb(123, 219, 87)\", \"mode\": \"none\", \"name\": \"Task006\", \"showlegend\": true, \"type\": \"scatter\", \"x\": [\"2020-05-31T23:34:48.943397\", \"2020-05-31T23:40:48.943397\", \"2020-05-31T23:40:48.943397\", \"2020-05-31T23:34:48.943397\", \"2020-05-31T23:34:48.943397\", \"2020-05-31T23:43:48.943397\", \"2020-05-31T23:46:48.943397\", \"2020-05-31T23:46:48.943397\", \"2020-05-31T23:43:48.943397\", \"2020-05-31T23:43:48.943397\", \"2020-05-31T23:46:48.943397\", \"2020-05-31T23:58:48.943397\", \"2020-05-31T23:58:48.943397\", \"2020-05-31T23:46:48.943397\", \"2020-05-31T23:46:48.943397\", \"2020-05-31T23:58:48.943397\", \"2020-06-01T00:21:48.943397\", \"2020-06-01T00:21:48.943397\", \"2020-05-31T23:58:48.943397\", \"2020-05-31T23:58:48.943397\", \"2020-06-01T00:22:48.943397\", \"2020-06-01T00:34:48.943397\", \"2020-06-01T00:34:48.943397\", \"2020-06-01T00:22:48.943397\"], \"y\": [3.9, 3.9, 4.1, 4.1, null, 2.9, 2.9, 3.1, 3.1, null, 1.9, 1.9, 2.1, 2.1, null, 0.9, 0.9, 1.1, 1.1, null, -0.1, -0.1, 0.1, 0.1]}, {\"fill\": \"toself\", \"fillcolor\": \"rgb(139, 87, 219)\", \"hoverinfo\": \"name\", \"legendgroup\": \"rgb(139, 87, 219)\", \"mode\": \"none\", \"name\": \"Task014\", \"showlegend\": true, \"type\": \"scatter\", \"x\": [\"2020-06-01T02:05:48.943397\", \"2020-06-01T02:16:48.943397\", \"2020-06-01T02:16:48.943397\", \"2020-06-01T02:05:48.943397\", \"2020-06-01T02:05:48.943397\", \"2020-06-01T02:34:48.943397\", \"2020-06-01T02:37:48.943397\", \"2020-06-01T02:37:48.943397\", \"2020-06-01T02:34:48.943397\", \"2020-06-01T02:34:48.943397\", \"2020-06-01T03:03:48.943397\", \"2020-06-01T03:06:48.943397\", \"2020-06-01T03:06:48.943397\", \"2020-06-01T03:03:48.943397\", \"2020-06-01T03:03:48.943397\", \"2020-06-01T03:06:48.943397\", \"2020-06-01T03:14:48.943397\", \"2020-06-01T03:14:48.943397\", \"2020-06-01T03:06:48.943397\", \"2020-06-01T03:06:48.943397\", \"2020-06-01T03:32:48.943397\", \"2020-06-01T03:39:48.943397\", \"2020-06-01T03:39:48.943397\", \"2020-06-01T03:32:48.943397\"], \"y\": [3.9, 3.9, 4.1, 4.1, null, 2.9, 2.9, 3.1, 3.1, null, 1.9, 1.9, 2.1, 2.1, null, 0.9, 0.9, 1.1, 1.1, null, -0.1, -0.1, 0.1, 0.1]}, {\"fill\": \"toself\", \"fillcolor\": \"rgb(167, 219, 87)\", \"hoverinfo\": \"name\", \"legendgroup\": \"rgb(167, 219, 87)\", \"mode\": \"none\", \"name\": \"Task005\", \"showlegend\": true, \"type\": \"scatter\", \"x\": [\"2020-06-01T02:16:48.943397\", \"2020-06-01T02:41:48.943397\", \"2020-06-01T02:41:48.943397\", \"2020-06-01T02:16:48.943397\", \"2020-06-01T02:16:48.943397\", \"2020-06-01T02:41:48.943397\", \"2020-06-01T02:57:48.943397\", \"2020-06-01T02:57:48.943397\", \"2020-06-01T02:41:48.943397\", \"2020-06-01T02:41:48.943397\", \"2020-06-01T03:06:48.943397\", \"2020-06-01T03:14:48.943397\", \"2020-06-01T03:14:48.943397\", \"2020-06-01T03:06:48.943397\", \"2020-06-01T03:06:48.943397\", \"2020-06-01T03:14:48.943397\", \"2020-06-01T03:37:48.943397\", \"2020-06-01T03:37:48.943397\", \"2020-06-01T03:14:48.943397\", \"2020-06-01T03:14:48.943397\", \"2020-06-01T03:39:48.943397\", \"2020-06-01T03:48:48.943397\", \"2020-06-01T03:48:48.943397\", \"2020-06-01T03:39:48.943397\"], \"y\": [3.9, 3.9, 4.1, 4.1, null, 2.9, 2.9, 3.1, 3.1, null, 1.9, 1.9, 2.1, 2.1, null, 0.9, 0.9, 1.1, 1.1, null, -0.1, -0.1, 0.1, 0.1]}, {\"fill\": \"toself\", \"fillcolor\": \"rgb(183, 87, 219)\", \"hoverinfo\": \"name\", \"legendgroup\": \"rgb(183, 87, 219)\", \"mode\": \"none\", \"name\": \"Task015\", \"showlegend\": true, \"type\": \"scatter\", \"x\": [\"2020-05-31T23:49:48.943397\", \"2020-05-31T23:53:48.943397\", \"2020-05-31T23:53:48.943397\", \"2020-05-31T23:49:48.943397\", \"2020-05-31T23:49:48.943397\", \"2020-05-31T23:56:48.943397\", \"2020-06-01T00:12:48.943397\", \"2020-06-01T00:12:48.943397\", \"2020-05-31T23:56:48.943397\", \"2020-05-31T23:56:48.943397\", \"2020-06-01T00:23:48.943397\", \"2020-06-01T00:25:48.943397\", \"2020-06-01T00:25:48.943397\", \"2020-06-01T00:23:48.943397\", \"2020-06-01T00:23:48.943397\", \"2020-06-01T00:28:48.943397\", \"2020-06-01T00:42:48.943397\", \"2020-06-01T00:42:48.943397\", \"2020-06-01T00:28:48.943397\", \"2020-06-01T00:28:48.943397\", \"2020-06-01T00:53:48.943397\", \"2020-06-01T01:01:48.943397\", \"2020-06-01T01:01:48.943397\", \"2020-06-01T00:53:48.943397\"], \"y\": [3.9, 3.9, 4.1, 4.1, null, 2.9, 2.9, 3.1, 3.1, null, 1.9, 1.9, 2.1, 2.1, null, 0.9, 0.9, 1.1, 1.1, null, -0.1, -0.1, 0.1, 0.1]}, {\"fill\": \"toself\", \"fillcolor\": \"rgb(211, 219, 87)\", \"hoverinfo\": \"name\", \"legendgroup\": \"rgb(211, 219, 87)\", \"mode\": \"none\", \"name\": \"Task004\", \"showlegend\": true, \"type\": \"scatter\", \"x\": [\"2020-06-01T01:48:48.943397\", \"2020-06-01T02:05:48.943397\", \"2020-06-01T02:05:48.943397\", \"2020-06-01T01:48:48.943397\", \"2020-06-01T01:48:48.943397\", \"2020-06-01T02:12:48.943397\", \"2020-06-01T02:34:48.943397\", \"2020-06-01T02:34:48.943397\", \"2020-06-01T02:12:48.943397\", \"2020-06-01T02:12:48.943397\", \"2020-06-01T02:46:48.943397\", \"2020-06-01T03:03:48.943397\", \"2020-06-01T03:03:48.943397\", \"2020-06-01T02:46:48.943397\", \"2020-06-01T02:46:48.943397\", \"2020-06-01T03:03:48.943397\", \"2020-06-01T03:06:48.943397\", \"2020-06-01T03:06:48.943397\", \"2020-06-01T03:03:48.943397\", \"2020-06-01T03:03:48.943397\", \"2020-06-01T03:16:48.943397\", \"2020-06-01T03:32:48.943397\", \"2020-06-01T03:32:48.943397\", \"2020-06-01T03:16:48.943397\"], \"y\": [3.9, 3.9, 4.1, 4.1, null, 2.9, 2.9, 3.1, 3.1, null, 1.9, 1.9, 2.1, 2.1, null, 0.9, 0.9, 1.1, 1.1, null, -0.1, -0.1, 0.1, 0.1]}, {\"fill\": \"toself\", \"fillcolor\": \"rgb(219, 139, 87)\", \"hoverinfo\": \"name\", \"legendgroup\": \"rgb(219, 139, 87)\", \"mode\": \"none\", \"name\": \"Task002\", \"showlegend\": true, \"type\": \"scatter\", \"x\": [\"2020-05-31T23:20:48.943397\", \"2020-05-31T23:24:48.943397\", \"2020-05-31T23:24:48.943397\", \"2020-05-31T23:20:48.943397\", \"2020-05-31T23:20:48.943397\", \"2020-05-31T23:24:48.943397\", \"2020-05-31T23:32:48.943397\", \"2020-05-31T23:32:48.943397\", \"2020-05-31T23:24:48.943397\", \"2020-05-31T23:24:48.943397\", \"2020-05-31T23:32:48.943397\", \"2020-05-31T23:40:48.943397\", \"2020-05-31T23:40:48.943397\", \"2020-05-31T23:32:48.943397\", \"2020-05-31T23:32:48.943397\", \"2020-05-31T23:40:48.943397\", \"2020-05-31T23:46:48.943397\", \"2020-05-31T23:46:48.943397\", \"2020-05-31T23:40:48.943397\", \"2020-05-31T23:40:48.943397\", \"2020-05-31T23:46:48.943397\", \"2020-06-01T00:00:48.943397\", \"2020-06-01T00:00:48.943397\", \"2020-05-31T23:46:48.943397\"], \"y\": [3.9, 3.9, 4.1, 4.1, null, 2.9, 2.9, 3.1, 3.1, null, 1.9, 1.9, 2.1, 2.1, null, 0.9, 0.9, 1.1, 1.1, null, -0.1, -0.1, 0.1, 0.1]}, {\"fill\": \"toself\", \"fillcolor\": \"rgb(219, 183, 87)\", \"hoverinfo\": \"name\", \"legendgroup\": \"rgb(219, 183, 87)\", \"mode\": \"none\", \"name\": \"Task003\", \"showlegend\": true, \"type\": \"scatter\", \"x\": [\"2020-05-31T23:24:48.943397\", \"2020-05-31T23:34:48.943397\", \"2020-05-31T23:34:48.943397\", \"2020-05-31T23:24:48.943397\", \"2020-05-31T23:24:48.943397\", \"2020-05-31T23:34:48.943397\", \"2020-05-31T23:43:48.943397\", \"2020-05-31T23:43:48.943397\", \"2020-05-31T23:34:48.943397\", \"2020-05-31T23:34:48.943397\", \"2020-05-31T23:43:48.943397\", \"2020-05-31T23:45:48.943397\", \"2020-05-31T23:45:48.943397\", \"2020-05-31T23:43:48.943397\", \"2020-05-31T23:43:48.943397\", \"2020-05-31T23:46:48.943397\", \"2020-05-31T23:50:48.943397\", \"2020-05-31T23:50:48.943397\", \"2020-05-31T23:46:48.943397\", \"2020-05-31T23:46:48.943397\", \"2020-06-01T00:00:48.943397\", \"2020-06-01T00:22:48.943397\", \"2020-06-01T00:22:48.943397\", \"2020-06-01T00:00:48.943397\"], \"y\": [3.9, 3.9, 4.1, 4.1, null, 2.9, 2.9, 3.1, 3.1, null, 1.9, 1.9, 2.1, 2.1, null, 0.9, 0.9, 1.1, 1.1, null, -0.1, -0.1, 0.1, 0.1]}, {\"fill\": \"toself\", \"fillcolor\": \"rgb(219, 87, 123)\", \"hoverinfo\": \"name\", \"legendgroup\": \"rgb(219, 87, 123)\", \"mode\": \"none\", \"name\": \"Task018\", \"showlegend\": true, \"type\": \"scatter\", \"x\": [\"2020-06-01T03:16:48.943397\", \"2020-06-01T03:33:48.943397\", \"2020-06-01T03:33:48.943397\", \"2020-06-01T03:16:48.943397\", \"2020-06-01T03:16:48.943397\", \"2020-06-01T03:33:48.943397\", \"2020-06-01T03:35:48.943397\", \"2020-06-01T03:35:48.943397\", \"2020-06-01T03:33:48.943397\", \"2020-06-01T03:33:48.943397\", \"2020-06-01T03:48:48.943397\", \"2020-06-01T04:04:48.943397\", \"2020-06-01T04:04:48.943397\", \"2020-06-01T03:48:48.943397\", \"2020-06-01T03:48:48.943397\", \"2020-06-01T04:04:48.943397\", \"2020-06-01T04:14:48.943397\", \"2020-06-01T04:14:48.943397\", \"2020-06-01T04:04:48.943397\", \"2020-06-01T04:04:48.943397\", \"2020-06-01T04:14:48.943397\", \"2020-06-01T04:22:48.943397\", \"2020-06-01T04:22:48.943397\", \"2020-06-01T04:14:48.943397\"], \"y\": [3.9, 3.9, 4.1, 4.1, null, 2.9, 2.9, 3.1, 3.1, null, 1.9, 1.9, 2.1, 2.1, null, 0.9, 0.9, 1.1, 1.1, null, -0.1, -0.1, 0.1, 0.1]}, {\"fill\": \"toself\", \"fillcolor\": \"rgb(219, 87, 167)\", \"hoverinfo\": \"name\", \"legendgroup\": \"rgb(219, 87, 167)\", \"mode\": \"none\", \"name\": \"Task017\", \"showlegend\": true, \"type\": \"scatter\", \"x\": [\"2020-05-31T23:40:48.943397\", \"2020-05-31T23:49:48.943397\", \"2020-05-31T23:49:48.943397\", \"2020-05-31T23:40:48.943397\", \"2020-05-31T23:40:48.943397\", \"2020-05-31T23:49:48.943397\", \"2020-05-31T23:56:48.943397\", \"2020-05-31T23:56:48.943397\", \"2020-05-31T23:49:48.943397\", \"2020-05-31T23:49:48.943397\", \"2020-05-31T23:58:48.943397\", \"2020-06-01T00:23:48.943397\", \"2020-06-01T00:23:48.943397\", \"2020-05-31T23:58:48.943397\", \"2020-05-31T23:58:48.943397\", \"2020-06-01T00:23:48.943397\", \"2020-06-01T00:28:48.943397\", \"2020-06-01T00:28:48.943397\", \"2020-06-01T00:23:48.943397\", \"2020-06-01T00:23:48.943397\", \"2020-06-01T00:34:48.943397\", \"2020-06-01T00:53:48.943397\", \"2020-06-01T00:53:48.943397\", \"2020-06-01T00:34:48.943397\"], \"y\": [3.9, 3.9, 4.1, 4.1, null, 2.9, 2.9, 3.1, 3.1, null, 1.9, 1.9, 2.1, 2.1, null, 0.9, 0.9, 1.1, 1.1, null, -0.1, -0.1, 0.1, 0.1]}, {\"fill\": \"toself\", \"fillcolor\": \"rgb(219, 87, 211)\", \"hoverinfo\": \"name\", \"legendgroup\": \"rgb(219, 87, 211)\", \"mode\": \"none\", \"name\": \"Task016\", \"showlegend\": true, \"type\": \"scatter\", \"x\": [\"2020-06-01T02:57:48.943397\", \"2020-06-01T03:16:48.943397\", \"2020-06-01T03:16:48.943397\", \"2020-06-01T02:57:48.943397\", \"2020-06-01T02:57:48.943397\", \"2020-06-01T03:16:48.943397\", \"2020-06-01T03:29:48.943397\", \"2020-06-01T03:29:48.943397\", \"2020-06-01T03:16:48.943397\", \"2020-06-01T03:16:48.943397\", \"2020-06-01T03:34:48.943397\", \"2020-06-01T03:48:48.943397\", \"2020-06-01T03:48:48.943397\", \"2020-06-01T03:34:48.943397\", \"2020-06-01T03:34:48.943397\", \"2020-06-01T03:48:48.943397\", \"2020-06-01T03:51:48.943397\", \"2020-06-01T03:51:48.943397\", \"2020-06-01T03:48:48.943397\", \"2020-06-01T03:48:48.943397\", \"2020-06-01T04:05:48.943397\", \"2020-06-01T04:14:48.943397\", \"2020-06-01T04:14:48.943397\", \"2020-06-01T04:05:48.943397\"], \"y\": [3.9, 3.9, 4.1, 4.1, null, 2.9, 2.9, 3.1, 3.1, null, 1.9, 1.9, 2.1, 2.1, null, 0.9, 0.9, 1.1, 1.1, null, -0.1, -0.1, 0.1, 0.1]}, {\"fill\": \"toself\", \"fillcolor\": \"rgb(219, 95, 87)\", \"hoverinfo\": \"name\", \"legendgroup\": \"rgb(219, 95, 87)\", \"mode\": \"none\", \"name\": \"Task001\", \"showlegend\": true, \"type\": \"scatter\", \"x\": [\"2020-06-01T00:43:48.943397\", \"2020-06-01T00:59:48.943397\", \"2020-06-01T00:59:48.943397\", \"2020-06-01T00:43:48.943397\", \"2020-06-01T00:43:48.943397\", \"2020-06-01T01:19:48.943397\", \"2020-06-01T01:29:48.943397\", \"2020-06-01T01:29:48.943397\", \"2020-06-01T01:19:48.943397\", \"2020-06-01T01:19:48.943397\", \"2020-06-01T01:40:48.943397\", \"2020-06-01T02:03:48.943397\", \"2020-06-01T02:03:48.943397\", \"2020-06-01T01:40:48.943397\", \"2020-06-01T01:40:48.943397\", \"2020-06-01T02:03:48.943397\", \"2020-06-01T02:20:48.943397\", \"2020-06-01T02:20:48.943397\", \"2020-06-01T02:03:48.943397\", \"2020-06-01T02:03:48.943397\", \"2020-06-01T02:33:48.943397\", \"2020-06-01T02:52:48.943397\", \"2020-06-01T02:52:48.943397\", \"2020-06-01T02:33:48.943397\"], \"y\": [3.9, 3.9, 4.1, 4.1, null, 2.9, 2.9, 3.1, 3.1, null, 1.9, 1.9, 2.1, 2.1, null, 0.9, 0.9, 1.1, 1.1, null, -0.1, -0.1, 0.1, 0.1]}, {\"fill\": \"toself\", \"fillcolor\": \"rgb(87, 123, 219)\", \"hoverinfo\": \"name\", \"legendgroup\": \"rgb(87, 123, 219)\", \"mode\": \"none\", \"name\": \"Task012\", \"showlegend\": true, \"type\": \"scatter\", \"x\": [\"2020-06-01T01:23:48.943397\", \"2020-06-01T01:48:48.943397\", \"2020-06-01T01:48:48.943397\", \"2020-06-01T01:23:48.943397\", \"2020-06-01T01:23:48.943397\", \"2020-06-01T01:52:48.943397\", \"2020-06-01T02:12:48.943397\", \"2020-06-01T02:12:48.943397\", \"2020-06-01T01:52:48.943397\", \"2020-06-01T01:52:48.943397\", \"2020-06-01T02:28:48.943397\", \"2020-06-01T02:46:48.943397\", \"2020-06-01T02:46:48.943397\", \"2020-06-01T02:28:48.943397\", \"2020-06-01T02:28:48.943397\", \"2020-06-01T02:46:48.943397\", \"2020-06-01T02:53:48.943397\", \"2020-06-01T02:53:48.943397\", \"2020-06-01T02:46:48.943397\", \"2020-06-01T02:46:48.943397\", \"2020-06-01T03:06:48.943397\", \"2020-06-01T03:16:48.943397\", \"2020-06-01T03:16:48.943397\", \"2020-06-01T03:06:48.943397\"], \"y\": [3.9, 3.9, 4.1, 4.1, null, 2.9, 2.9, 3.1, 3.1, null, 1.9, 1.9, 2.1, 2.1, null, 0.9, 0.9, 1.1, 1.1, null, -0.1, -0.1, 0.1, 0.1]}, {\"fill\": \"toself\", \"fillcolor\": \"rgb(87, 167, 219)\", \"hoverinfo\": \"name\", \"legendgroup\": \"rgb(87, 167, 219)\", \"mode\": \"none\", \"name\": \"Task011\", \"showlegend\": true, \"type\": \"scatter\", \"x\": [\"2020-06-01T02:41:48.943397\", \"2020-06-01T02:57:48.943397\", \"2020-06-01T02:57:48.943397\", \"2020-06-01T02:41:48.943397\", \"2020-06-01T02:41:48.943397\", \"2020-06-01T02:57:48.943397\", \"2020-06-01T03:10:48.943397\", \"2020-06-01T03:10:48.943397\", \"2020-06-01T02:57:48.943397\", \"2020-06-01T02:57:48.943397\", \"2020-06-01T03:14:48.943397\", \"2020-06-01T03:34:48.943397\", \"2020-06-01T03:34:48.943397\", \"2020-06-01T03:14:48.943397\", \"2020-06-01T03:14:48.943397\", \"2020-06-01T03:37:48.943397\", \"2020-06-01T03:47:48.943397\", \"2020-06-01T03:47:48.943397\", \"2020-06-01T03:37:48.943397\", \"2020-06-01T03:37:48.943397\", \"2020-06-01T03:48:48.943397\", \"2020-06-01T04:05:48.943397\", \"2020-06-01T04:05:48.943397\", \"2020-06-01T03:48:48.943397\"], \"y\": [3.9, 3.9, 4.1, 4.1, null, 2.9, 2.9, 3.1, 3.1, null, 1.9, 1.9, 2.1, 2.1, null, 0.9, 0.9, 1.1, 1.1, null, -0.1, -0.1, 0.1, 0.1]}, {\"fill\": \"toself\", \"fillcolor\": \"rgb(87, 211, 219)\", \"hoverinfo\": \"name\", \"legendgroup\": \"rgb(87, 211, 219)\", \"mode\": \"none\", \"name\": \"Task010\", \"showlegend\": true, \"type\": \"scatter\", \"x\": [\"2020-05-31T23:53:48.943397\", \"2020-05-31T23:55:48.943397\", \"2020-05-31T23:55:48.943397\", \"2020-05-31T23:53:48.943397\", \"2020-05-31T23:53:48.943397\", \"2020-06-01T00:12:48.943397\", \"2020-06-01T00:19:48.943397\", \"2020-06-01T00:19:48.943397\", \"2020-06-01T00:12:48.943397\", \"2020-06-01T00:12:48.943397\", \"2020-06-01T00:25:48.943397\", \"2020-06-01T00:44:48.943397\", \"2020-06-01T00:44:48.943397\", \"2020-06-01T00:25:48.943397\", \"2020-06-01T00:25:48.943397\", \"2020-06-01T00:44:48.943397\", \"2020-06-01T00:55:48.943397\", \"2020-06-01T00:55:48.943397\", \"2020-06-01T00:44:48.943397\", \"2020-06-01T00:44:48.943397\", \"2020-06-01T01:01:48.943397\", \"2020-06-01T01:24:48.943397\", \"2020-06-01T01:24:48.943397\", \"2020-06-01T01:01:48.943397\"], \"y\": [3.9, 3.9, 4.1, 4.1, null, 2.9, 2.9, 3.1, 3.1, null, 1.9, 1.9, 2.1, 2.1, null, 0.9, 0.9, 1.1, 1.1, null, -0.1, -0.1, 0.1, 0.1]}, {\"fill\": \"toself\", \"fillcolor\": \"rgb(87, 219, 139)\", \"hoverinfo\": \"name\", \"legendgroup\": \"rgb(87, 219, 139)\", \"mode\": \"none\", \"name\": \"Task008\", \"showlegend\": true, \"type\": \"scatter\", \"x\": [\"2020-06-01T00:59:48.943397\", \"2020-06-01T01:23:48.943397\", \"2020-06-01T01:23:48.943397\", \"2020-06-01T00:59:48.943397\", \"2020-06-01T00:59:48.943397\", \"2020-06-01T01:29:48.943397\", \"2020-06-01T01:52:48.943397\", \"2020-06-01T01:52:48.943397\", \"2020-06-01T01:29:48.943397\", \"2020-06-01T01:29:48.943397\", \"2020-06-01T02:03:48.943397\", \"2020-06-01T02:28:48.943397\", \"2020-06-01T02:28:48.943397\", \"2020-06-01T02:03:48.943397\", \"2020-06-01T02:03:48.943397\", \"2020-06-01T02:28:48.943397\", \"2020-06-01T02:33:48.943397\", \"2020-06-01T02:33:48.943397\", \"2020-06-01T02:28:48.943397\", \"2020-06-01T02:28:48.943397\", \"2020-06-01T02:52:48.943397\", \"2020-06-01T03:06:48.943397\", \"2020-06-01T03:06:48.943397\", \"2020-06-01T02:52:48.943397\"], \"y\": [3.9, 3.9, 4.1, 4.1, null, 2.9, 2.9, 3.1, 3.1, null, 1.9, 1.9, 2.1, 2.1, null, 0.9, 0.9, 1.1, 1.1, null, -0.1, -0.1, 0.1, 0.1]}, {\"fill\": \"toself\", \"fillcolor\": \"rgb(87, 219, 183)\", \"hoverinfo\": \"name\", \"legendgroup\": \"rgb(87, 219, 183)\", \"mode\": \"none\", \"name\": \"Task009\", \"showlegend\": true, \"type\": \"scatter\", \"x\": [\"2020-06-01T00:22:48.943397\", \"2020-06-01T00:43:48.943397\", \"2020-06-01T00:43:48.943397\", \"2020-06-01T00:22:48.943397\", \"2020-06-01T00:22:48.943397\", \"2020-06-01T01:02:48.943397\", \"2020-06-01T01:19:48.943397\", \"2020-06-01T01:19:48.943397\", \"2020-06-01T01:02:48.943397\", \"2020-06-01T01:02:48.943397\", \"2020-06-01T01:20:48.943397\", \"2020-06-01T01:40:48.943397\", \"2020-06-01T01:40:48.943397\", \"2020-06-01T01:20:48.943397\", \"2020-06-01T01:20:48.943397\", \"2020-06-01T01:40:48.943397\", \"2020-06-01T01:51:48.943397\", \"2020-06-01T01:51:48.943397\", \"2020-06-01T01:40:48.943397\", \"2020-06-01T01:40:48.943397\", \"2020-06-01T02:13:48.943397\", \"2020-06-01T02:33:48.943397\", \"2020-06-01T02:33:48.943397\", \"2020-06-01T02:13:48.943397\"], \"y\": [3.9, 3.9, 4.1, 4.1, null, 2.9, 2.9, 3.1, 3.1, null, 1.9, 1.9, 2.1, 2.1, null, 0.9, 0.9, 1.1, 1.1, null, -0.1, -0.1, 0.1, 0.1]}, {\"fill\": \"toself\", \"fillcolor\": \"rgb(87, 219, 95)\", \"hoverinfo\": \"name\", \"legendgroup\": \"rgb(87, 219, 95)\", \"mode\": \"none\", \"name\": \"Task007\", \"showlegend\": true, \"type\": \"scatter\", \"x\": [\"2020-05-31T23:55:48.943397\", \"2020-06-01T00:06:48.943397\", \"2020-06-01T00:06:48.943397\", \"2020-05-31T23:55:48.943397\", \"2020-05-31T23:55:48.943397\", \"2020-06-01T00:19:48.943397\", \"2020-06-01T00:41:48.943397\", \"2020-06-01T00:41:48.943397\", \"2020-06-01T00:19:48.943397\", \"2020-06-01T00:19:48.943397\", \"2020-06-01T00:44:48.943397\", \"2020-06-01T01:05:48.943397\", \"2020-06-01T01:05:48.943397\", \"2020-06-01T00:44:48.943397\", \"2020-06-01T00:44:48.943397\", \"2020-06-01T01:05:48.943397\", \"2020-06-01T01:09:48.943397\", \"2020-06-01T01:09:48.943397\", \"2020-06-01T01:05:48.943397\", \"2020-06-01T01:05:48.943397\", \"2020-06-01T01:24:48.943397\", \"2020-06-01T01:48:48.943397\", \"2020-06-01T01:48:48.943397\", \"2020-06-01T01:24:48.943397\"], \"y\": [3.9, 3.9, 4.1, 4.1, null, 2.9, 2.9, 3.1, 3.1, null, 1.9, 1.9, 2.1, 2.1, null, 0.9, 0.9, 1.1, 1.1, null, -0.1, -0.1, 0.1, 0.1]}, {\"fill\": \"toself\", \"fillcolor\": \"rgb(95, 87, 219)\", \"hoverinfo\": \"name\", \"legendgroup\": \"rgb(95, 87, 219)\", \"mode\": \"none\", \"name\": \"Task013\", \"showlegend\": true, \"type\": \"scatter\", \"x\": [\"2020-06-01T00:06:48.943397\", \"2020-06-01T00:22:48.943397\", \"2020-06-01T00:22:48.943397\", \"2020-06-01T00:06:48.943397\", \"2020-06-01T00:06:48.943397\", \"2020-06-01T00:41:48.943397\", \"2020-06-01T01:02:48.943397\", \"2020-06-01T01:02:48.943397\", \"2020-06-01T00:41:48.943397\", \"2020-06-01T00:41:48.943397\", \"2020-06-01T01:05:48.943397\", \"2020-06-01T01:20:48.943397\", \"2020-06-01T01:20:48.943397\", \"2020-06-01T01:05:48.943397\", \"2020-06-01T01:05:48.943397\", \"2020-06-01T01:20:48.943397\", \"2020-06-01T01:40:48.943397\", \"2020-06-01T01:40:48.943397\", \"2020-06-01T01:20:48.943397\", \"2020-06-01T01:20:48.943397\", \"2020-06-01T01:48:48.943397\", \"2020-06-01T02:13:48.943397\", \"2020-06-01T02:13:48.943397\", \"2020-06-01T01:48:48.943397\"], \"y\": [3.9, 3.9, 4.1, 4.1, null, 2.9, 2.9, 3.1, 3.1, null, 1.9, 1.9, 2.1, 2.1, null, 0.9, 0.9, 1.1, 1.1, null, -0.1, -0.1, 0.1, 0.1]}, {\"legendgroup\": \"rgb(123, 219, 87)\", \"marker\": {\"color\": \"rgb(123, 219, 87)\", \"opacity\": 0, \"size\": 1}, \"mode\": \"markers\", \"name\": \"\", \"showlegend\": false, \"text\": [null, null, null, null, null, null, null, null, null, null], \"type\": \"scatter\", \"x\": [\"2020-05-31T23:34:48.943397\", \"2020-05-31T23:40:48.943397\", \"2020-05-31T23:43:48.943397\", \"2020-05-31T23:46:48.943397\", \"2020-05-31T23:46:48.943397\", \"2020-05-31T23:58:48.943397\", \"2020-05-31T23:58:48.943397\", \"2020-06-01T00:21:48.943397\", \"2020-06-01T00:22:48.943397\", \"2020-06-01T00:34:48.943397\"], \"y\": [4, 4, 3, 3, 2, 2, 1, 1, 0, 0]}, {\"legendgroup\": \"rgb(139, 87, 219)\", \"marker\": {\"color\": \"rgb(139, 87, 219)\", \"opacity\": 0, \"size\": 1}, \"mode\": \"markers\", \"name\": \"\", \"showlegend\": false, \"text\": [null, null, null, null, null, null, null, null, null, null], \"type\": \"scatter\", \"x\": [\"2020-06-01T02:05:48.943397\", \"2020-06-01T02:16:48.943397\", \"2020-06-01T02:34:48.943397\", \"2020-06-01T02:37:48.943397\", \"2020-06-01T03:03:48.943397\", \"2020-06-01T03:06:48.943397\", \"2020-06-01T03:06:48.943397\", \"2020-06-01T03:14:48.943397\", \"2020-06-01T03:32:48.943397\", \"2020-06-01T03:39:48.943397\"], \"y\": [4, 4, 3, 3, 2, 2, 1, 1, 0, 0]}, {\"legendgroup\": \"rgb(167, 219, 87)\", \"marker\": {\"color\": \"rgb(167, 219, 87)\", \"opacity\": 0, \"size\": 1}, \"mode\": \"markers\", \"name\": \"\", \"showlegend\": false, \"text\": [null, null, null, null, null, null, null, null, null, null], \"type\": \"scatter\", \"x\": [\"2020-06-01T02:16:48.943397\", \"2020-06-01T02:41:48.943397\", \"2020-06-01T02:41:48.943397\", \"2020-06-01T02:57:48.943397\", \"2020-06-01T03:06:48.943397\", \"2020-06-01T03:14:48.943397\", \"2020-06-01T03:14:48.943397\", \"2020-06-01T03:37:48.943397\", \"2020-06-01T03:39:48.943397\", \"2020-06-01T03:48:48.943397\"], \"y\": [4, 4, 3, 3, 2, 2, 1, 1, 0, 0]}, {\"legendgroup\": \"rgb(183, 87, 219)\", \"marker\": {\"color\": \"rgb(183, 87, 219)\", \"opacity\": 0, \"size\": 1}, \"mode\": \"markers\", \"name\": \"\", \"showlegend\": false, \"text\": [null, null, null, null, null, null, null, null, null, null], \"type\": \"scatter\", \"x\": [\"2020-05-31T23:49:48.943397\", \"2020-05-31T23:53:48.943397\", \"2020-05-31T23:56:48.943397\", \"2020-06-01T00:12:48.943397\", \"2020-06-01T00:23:48.943397\", \"2020-06-01T00:25:48.943397\", \"2020-06-01T00:28:48.943397\", \"2020-06-01T00:42:48.943397\", \"2020-06-01T00:53:48.943397\", \"2020-06-01T01:01:48.943397\"], \"y\": [4, 4, 3, 3, 2, 2, 1, 1, 0, 0]}, {\"legendgroup\": \"rgb(211, 219, 87)\", \"marker\": {\"color\": \"rgb(211, 219, 87)\", \"opacity\": 0, \"size\": 1}, \"mode\": \"markers\", \"name\": \"\", \"showlegend\": false, \"text\": [null, null, null, null, null, null, null, null, null, null], \"type\": \"scatter\", \"x\": [\"2020-06-01T01:48:48.943397\", \"2020-06-01T02:05:48.943397\", \"2020-06-01T02:12:48.943397\", \"2020-06-01T02:34:48.943397\", \"2020-06-01T02:46:48.943397\", \"2020-06-01T03:03:48.943397\", \"2020-06-01T03:03:48.943397\", \"2020-06-01T03:06:48.943397\", \"2020-06-01T03:16:48.943397\", \"2020-06-01T03:32:48.943397\"], \"y\": [4, 4, 3, 3, 2, 2, 1, 1, 0, 0]}, {\"legendgroup\": \"rgb(219, 139, 87)\", \"marker\": {\"color\": \"rgb(219, 139, 87)\", \"opacity\": 0, \"size\": 1}, \"mode\": \"markers\", \"name\": \"\", \"showlegend\": false, \"text\": [null, null, null, null, null, null, null, null, null, null], \"type\": \"scatter\", \"x\": [\"2020-05-31T23:20:48.943397\", \"2020-05-31T23:24:48.943397\", \"2020-05-31T23:24:48.943397\", \"2020-05-31T23:32:48.943397\", \"2020-05-31T23:32:48.943397\", \"2020-05-31T23:40:48.943397\", \"2020-05-31T23:40:48.943397\", \"2020-05-31T23:46:48.943397\", \"2020-05-31T23:46:48.943397\", \"2020-06-01T00:00:48.943397\"], \"y\": [4, 4, 3, 3, 2, 2, 1, 1, 0, 0]}, {\"legendgroup\": \"rgb(219, 183, 87)\", \"marker\": {\"color\": \"rgb(219, 183, 87)\", \"opacity\": 0, \"size\": 1}, \"mode\": \"markers\", \"name\": \"\", \"showlegend\": false, \"text\": [null, null, null, null, null, null, null, null, null, null], \"type\": \"scatter\", \"x\": [\"2020-05-31T23:24:48.943397\", \"2020-05-31T23:34:48.943397\", \"2020-05-31T23:34:48.943397\", \"2020-05-31T23:43:48.943397\", \"2020-05-31T23:43:48.943397\", \"2020-05-31T23:45:48.943397\", \"2020-05-31T23:46:48.943397\", \"2020-05-31T23:50:48.943397\", \"2020-06-01T00:00:48.943397\", \"2020-06-01T00:22:48.943397\"], \"y\": [4, 4, 3, 3, 2, 2, 1, 1, 0, 0]}, {\"legendgroup\": \"rgb(219, 87, 123)\", \"marker\": {\"color\": \"rgb(219, 87, 123)\", \"opacity\": 0, \"size\": 1}, \"mode\": \"markers\", \"name\": \"\", \"showlegend\": false, \"text\": [null, null, null, null, null, null, null, null, null, null], \"type\": \"scatter\", \"x\": [\"2020-06-01T03:16:48.943397\", \"2020-06-01T03:33:48.943397\", \"2020-06-01T03:33:48.943397\", \"2020-06-01T03:35:48.943397\", \"2020-06-01T03:48:48.943397\", \"2020-06-01T04:04:48.943397\", \"2020-06-01T04:04:48.943397\", \"2020-06-01T04:14:48.943397\", \"2020-06-01T04:14:48.943397\", \"2020-06-01T04:22:48.943397\"], \"y\": [4, 4, 3, 3, 2, 2, 1, 1, 0, 0]}, {\"legendgroup\": \"rgb(219, 87, 167)\", \"marker\": {\"color\": \"rgb(219, 87, 167)\", \"opacity\": 0, \"size\": 1}, \"mode\": \"markers\", \"name\": \"\", \"showlegend\": false, \"text\": [null, null, null, null, null, null, null, null, null, null], \"type\": \"scatter\", \"x\": [\"2020-05-31T23:40:48.943397\", \"2020-05-31T23:49:48.943397\", \"2020-05-31T23:49:48.943397\", \"2020-05-31T23:56:48.943397\", \"2020-05-31T23:58:48.943397\", \"2020-06-01T00:23:48.943397\", \"2020-06-01T00:23:48.943397\", \"2020-06-01T00:28:48.943397\", \"2020-06-01T00:34:48.943397\", \"2020-06-01T00:53:48.943397\"], \"y\": [4, 4, 3, 3, 2, 2, 1, 1, 0, 0]}, {\"legendgroup\": \"rgb(219, 87, 211)\", \"marker\": {\"color\": \"rgb(219, 87, 211)\", \"opacity\": 0, \"size\": 1}, \"mode\": \"markers\", \"name\": \"\", \"showlegend\": false, \"text\": [null, null, null, null, null, null, null, null, null, null], \"type\": \"scatter\", \"x\": [\"2020-06-01T02:57:48.943397\", \"2020-06-01T03:16:48.943397\", \"2020-06-01T03:16:48.943397\", \"2020-06-01T03:29:48.943397\", \"2020-06-01T03:34:48.943397\", \"2020-06-01T03:48:48.943397\", \"2020-06-01T03:48:48.943397\", \"2020-06-01T03:51:48.943397\", \"2020-06-01T04:05:48.943397\", \"2020-06-01T04:14:48.943397\"], \"y\": [4, 4, 3, 3, 2, 2, 1, 1, 0, 0]}, {\"legendgroup\": \"rgb(219, 95, 87)\", \"marker\": {\"color\": \"rgb(219, 95, 87)\", \"opacity\": 0, \"size\": 1}, \"mode\": \"markers\", \"name\": \"\", \"showlegend\": false, \"text\": [null, null, null, null, null, null, null, null, null, null], \"type\": \"scatter\", \"x\": [\"2020-06-01T00:43:48.943397\", \"2020-06-01T00:59:48.943397\", \"2020-06-01T01:19:48.943397\", \"2020-06-01T01:29:48.943397\", \"2020-06-01T01:40:48.943397\", \"2020-06-01T02:03:48.943397\", \"2020-06-01T02:03:48.943397\", \"2020-06-01T02:20:48.943397\", \"2020-06-01T02:33:48.943397\", \"2020-06-01T02:52:48.943397\"], \"y\": [4, 4, 3, 3, 2, 2, 1, 1, 0, 0]}, {\"legendgroup\": \"rgb(87, 123, 219)\", \"marker\": {\"color\": \"rgb(87, 123, 219)\", \"opacity\": 0, \"size\": 1}, \"mode\": \"markers\", \"name\": \"\", \"showlegend\": false, \"text\": [null, null, null, null, null, null, null, null, null, null], \"type\": \"scatter\", \"x\": [\"2020-06-01T01:23:48.943397\", \"2020-06-01T01:48:48.943397\", \"2020-06-01T01:52:48.943397\", \"2020-06-01T02:12:48.943397\", \"2020-06-01T02:28:48.943397\", \"2020-06-01T02:46:48.943397\", \"2020-06-01T02:46:48.943397\", \"2020-06-01T02:53:48.943397\", \"2020-06-01T03:06:48.943397\", \"2020-06-01T03:16:48.943397\"], \"y\": [4, 4, 3, 3, 2, 2, 1, 1, 0, 0]}, {\"legendgroup\": \"rgb(87, 167, 219)\", \"marker\": {\"color\": \"rgb(87, 167, 219)\", \"opacity\": 0, \"size\": 1}, \"mode\": \"markers\", \"name\": \"\", \"showlegend\": false, \"text\": [null, null, null, null, null, null, null, null, null, null], \"type\": \"scatter\", \"x\": [\"2020-06-01T02:41:48.943397\", \"2020-06-01T02:57:48.943397\", \"2020-06-01T02:57:48.943397\", \"2020-06-01T03:10:48.943397\", \"2020-06-01T03:14:48.943397\", \"2020-06-01T03:34:48.943397\", \"2020-06-01T03:37:48.943397\", \"2020-06-01T03:47:48.943397\", \"2020-06-01T03:48:48.943397\", \"2020-06-01T04:05:48.943397\"], \"y\": [4, 4, 3, 3, 2, 2, 1, 1, 0, 0]}, {\"legendgroup\": \"rgb(87, 211, 219)\", \"marker\": {\"color\": \"rgb(87, 211, 219)\", \"opacity\": 0, \"size\": 1}, \"mode\": \"markers\", \"name\": \"\", \"showlegend\": false, \"text\": [null, null, null, null, null, null, null, null, null, null], \"type\": \"scatter\", \"x\": [\"2020-05-31T23:53:48.943397\", \"2020-05-31T23:55:48.943397\", \"2020-06-01T00:12:48.943397\", \"2020-06-01T00:19:48.943397\", \"2020-06-01T00:25:48.943397\", \"2020-06-01T00:44:48.943397\", \"2020-06-01T00:44:48.943397\", \"2020-06-01T00:55:48.943397\", \"2020-06-01T01:01:48.943397\", \"2020-06-01T01:24:48.943397\"], \"y\": [4, 4, 3, 3, 2, 2, 1, 1, 0, 0]}, {\"legendgroup\": \"rgb(87, 219, 139)\", \"marker\": {\"color\": \"rgb(87, 219, 139)\", \"opacity\": 0, \"size\": 1}, \"mode\": \"markers\", \"name\": \"\", \"showlegend\": false, \"text\": [null, null, null, null, null, null, null, null, null, null], \"type\": \"scatter\", \"x\": [\"2020-06-01T00:59:48.943397\", \"2020-06-01T01:23:48.943397\", \"2020-06-01T01:29:48.943397\", \"2020-06-01T01:52:48.943397\", \"2020-06-01T02:03:48.943397\", \"2020-06-01T02:28:48.943397\", \"2020-06-01T02:28:48.943397\", \"2020-06-01T02:33:48.943397\", \"2020-06-01T02:52:48.943397\", \"2020-06-01T03:06:48.943397\"], \"y\": [4, 4, 3, 3, 2, 2, 1, 1, 0, 0]}, {\"legendgroup\": \"rgb(87, 219, 183)\", \"marker\": {\"color\": \"rgb(87, 219, 183)\", \"opacity\": 0, \"size\": 1}, \"mode\": \"markers\", \"name\": \"\", \"showlegend\": false, \"text\": [null, null, null, null, null, null, null, null, null, null], \"type\": \"scatter\", \"x\": [\"2020-06-01T00:22:48.943397\", \"2020-06-01T00:43:48.943397\", \"2020-06-01T01:02:48.943397\", \"2020-06-01T01:19:48.943397\", \"2020-06-01T01:20:48.943397\", \"2020-06-01T01:40:48.943397\", \"2020-06-01T01:40:48.943397\", \"2020-06-01T01:51:48.943397\", \"2020-06-01T02:13:48.943397\", \"2020-06-01T02:33:48.943397\"], \"y\": [4, 4, 3, 3, 2, 2, 1, 1, 0, 0]}, {\"legendgroup\": \"rgb(87, 219, 95)\", \"marker\": {\"color\": \"rgb(87, 219, 95)\", \"opacity\": 0, \"size\": 1}, \"mode\": \"markers\", \"name\": \"\", \"showlegend\": false, \"text\": [null, null, null, null, null, null, null, null, null, null], \"type\": \"scatter\", \"x\": [\"2020-05-31T23:55:48.943397\", \"2020-06-01T00:06:48.943397\", \"2020-06-01T00:19:48.943397\", \"2020-06-01T00:41:48.943397\", \"2020-06-01T00:44:48.943397\", \"2020-06-01T01:05:48.943397\", \"2020-06-01T01:05:48.943397\", \"2020-06-01T01:09:48.943397\", \"2020-06-01T01:24:48.943397\", \"2020-06-01T01:48:48.943397\"], \"y\": [4, 4, 3, 3, 2, 2, 1, 1, 0, 0]}, {\"legendgroup\": \"rgb(95, 87, 219)\", \"marker\": {\"color\": \"rgb(95, 87, 219)\", \"opacity\": 0, \"size\": 1}, \"mode\": \"markers\", \"name\": \"\", \"showlegend\": false, \"text\": [null, null, null, null, null, null, null, null, null, null], \"type\": \"scatter\", \"x\": [\"2020-06-01T00:06:48.943397\", \"2020-06-01T00:22:48.943397\", \"2020-06-01T00:41:48.943397\", \"2020-06-01T01:02:48.943397\", \"2020-06-01T01:05:48.943397\", \"2020-06-01T01:20:48.943397\", \"2020-06-01T01:20:48.943397\", \"2020-06-01T01:40:48.943397\", \"2020-06-01T01:48:48.943397\", \"2020-06-01T02:13:48.943397\"], \"y\": [4, 4, 3, 3, 2, 2, 1, 1, 0, 0]}],\n",
       "                        {\"height\": 600, \"hovermode\": \"closest\", \"showlegend\": true, \"template\": {\"data\": {\"bar\": [{\"error_x\": {\"color\": \"#2a3f5f\"}, \"error_y\": {\"color\": \"#2a3f5f\"}, \"marker\": {\"line\": {\"color\": \"#E5ECF6\", \"width\": 0.5}}, \"type\": \"bar\"}], \"barpolar\": [{\"marker\": {\"line\": {\"color\": \"#E5ECF6\", \"width\": 0.5}}, \"type\": \"barpolar\"}], \"carpet\": [{\"aaxis\": {\"endlinecolor\": \"#2a3f5f\", \"gridcolor\": \"white\", \"linecolor\": \"white\", \"minorgridcolor\": \"white\", \"startlinecolor\": \"#2a3f5f\"}, \"baxis\": {\"endlinecolor\": \"#2a3f5f\", \"gridcolor\": \"white\", \"linecolor\": \"white\", \"minorgridcolor\": \"white\", \"startlinecolor\": \"#2a3f5f\"}, \"type\": \"carpet\"}], \"choropleth\": [{\"colorbar\": {\"outlinewidth\": 0, \"ticks\": \"\"}, \"type\": \"choropleth\"}], \"contour\": [{\"colorbar\": {\"outlinewidth\": 0, \"ticks\": \"\"}, \"colorscale\": [[0.0, \"#0d0887\"], [0.1111111111111111, \"#46039f\"], [0.2222222222222222, \"#7201a8\"], [0.3333333333333333, \"#9c179e\"], [0.4444444444444444, \"#bd3786\"], [0.5555555555555556, \"#d8576b\"], [0.6666666666666666, \"#ed7953\"], [0.7777777777777778, \"#fb9f3a\"], [0.8888888888888888, \"#fdca26\"], [1.0, \"#f0f921\"]], \"type\": \"contour\"}], \"contourcarpet\": [{\"colorbar\": {\"outlinewidth\": 0, \"ticks\": \"\"}, \"type\": \"contourcarpet\"}], \"heatmap\": [{\"colorbar\": {\"outlinewidth\": 0, \"ticks\": \"\"}, \"colorscale\": [[0.0, \"#0d0887\"], [0.1111111111111111, \"#46039f\"], [0.2222222222222222, \"#7201a8\"], [0.3333333333333333, \"#9c179e\"], [0.4444444444444444, \"#bd3786\"], [0.5555555555555556, \"#d8576b\"], [0.6666666666666666, \"#ed7953\"], [0.7777777777777778, \"#fb9f3a\"], [0.8888888888888888, \"#fdca26\"], [1.0, \"#f0f921\"]], \"type\": \"heatmap\"}], \"heatmapgl\": [{\"colorbar\": {\"outlinewidth\": 0, \"ticks\": \"\"}, \"colorscale\": [[0.0, \"#0d0887\"], [0.1111111111111111, \"#46039f\"], [0.2222222222222222, \"#7201a8\"], [0.3333333333333333, \"#9c179e\"], [0.4444444444444444, \"#bd3786\"], [0.5555555555555556, \"#d8576b\"], [0.6666666666666666, \"#ed7953\"], [0.7777777777777778, \"#fb9f3a\"], [0.8888888888888888, \"#fdca26\"], [1.0, \"#f0f921\"]], \"type\": \"heatmapgl\"}], \"histogram\": [{\"marker\": {\"colorbar\": {\"outlinewidth\": 0, \"ticks\": \"\"}}, \"type\": \"histogram\"}], \"histogram2d\": [{\"colorbar\": {\"outlinewidth\": 0, \"ticks\": \"\"}, \"colorscale\": [[0.0, \"#0d0887\"], [0.1111111111111111, \"#46039f\"], [0.2222222222222222, \"#7201a8\"], [0.3333333333333333, \"#9c179e\"], [0.4444444444444444, \"#bd3786\"], [0.5555555555555556, \"#d8576b\"], [0.6666666666666666, \"#ed7953\"], [0.7777777777777778, \"#fb9f3a\"], [0.8888888888888888, \"#fdca26\"], [1.0, \"#f0f921\"]], \"type\": \"histogram2d\"}], \"histogram2dcontour\": [{\"colorbar\": {\"outlinewidth\": 0, \"ticks\": \"\"}, \"colorscale\": [[0.0, \"#0d0887\"], [0.1111111111111111, \"#46039f\"], [0.2222222222222222, \"#7201a8\"], [0.3333333333333333, \"#9c179e\"], [0.4444444444444444, \"#bd3786\"], [0.5555555555555556, \"#d8576b\"], [0.6666666666666666, \"#ed7953\"], [0.7777777777777778, \"#fb9f3a\"], [0.8888888888888888, \"#fdca26\"], [1.0, \"#f0f921\"]], \"type\": \"histogram2dcontour\"}], \"mesh3d\": [{\"colorbar\": {\"outlinewidth\": 0, \"ticks\": \"\"}, \"type\": \"mesh3d\"}], \"parcoords\": [{\"line\": {\"colorbar\": {\"outlinewidth\": 0, \"ticks\": \"\"}}, \"type\": \"parcoords\"}], \"pie\": [{\"automargin\": true, \"type\": \"pie\"}], \"scatter\": [{\"marker\": {\"colorbar\": {\"outlinewidth\": 0, \"ticks\": \"\"}}, \"type\": \"scatter\"}], \"scatter3d\": [{\"line\": {\"colorbar\": {\"outlinewidth\": 0, \"ticks\": \"\"}}, \"marker\": {\"colorbar\": {\"outlinewidth\": 0, \"ticks\": \"\"}}, \"type\": \"scatter3d\"}], \"scattercarpet\": [{\"marker\": {\"colorbar\": {\"outlinewidth\": 0, \"ticks\": \"\"}}, \"type\": \"scattercarpet\"}], \"scattergeo\": [{\"marker\": {\"colorbar\": {\"outlinewidth\": 0, \"ticks\": \"\"}}, \"type\": \"scattergeo\"}], \"scattergl\": [{\"marker\": {\"colorbar\": {\"outlinewidth\": 0, \"ticks\": \"\"}}, \"type\": \"scattergl\"}], \"scattermapbox\": [{\"marker\": {\"colorbar\": {\"outlinewidth\": 0, \"ticks\": \"\"}}, \"type\": \"scattermapbox\"}], \"scatterpolar\": [{\"marker\": {\"colorbar\": {\"outlinewidth\": 0, \"ticks\": \"\"}}, \"type\": \"scatterpolar\"}], \"scatterpolargl\": [{\"marker\": {\"colorbar\": {\"outlinewidth\": 0, \"ticks\": \"\"}}, \"type\": \"scatterpolargl\"}], \"scatterternary\": [{\"marker\": {\"colorbar\": {\"outlinewidth\": 0, \"ticks\": \"\"}}, \"type\": \"scatterternary\"}], \"surface\": [{\"colorbar\": {\"outlinewidth\": 0, \"ticks\": \"\"}, \"colorscale\": [[0.0, \"#0d0887\"], [0.1111111111111111, \"#46039f\"], [0.2222222222222222, \"#7201a8\"], [0.3333333333333333, \"#9c179e\"], [0.4444444444444444, \"#bd3786\"], [0.5555555555555556, \"#d8576b\"], [0.6666666666666666, \"#ed7953\"], [0.7777777777777778, \"#fb9f3a\"], [0.8888888888888888, \"#fdca26\"], [1.0, \"#f0f921\"]], \"type\": \"surface\"}], \"table\": [{\"cells\": {\"fill\": {\"color\": \"#EBF0F8\"}, \"line\": {\"color\": \"white\"}}, \"header\": {\"fill\": {\"color\": \"#C8D4E3\"}, \"line\": {\"color\": \"white\"}}, \"type\": \"table\"}]}, \"layout\": {\"annotationdefaults\": {\"arrowcolor\": \"#2a3f5f\", \"arrowhead\": 0, \"arrowwidth\": 1}, \"coloraxis\": {\"colorbar\": {\"outlinewidth\": 0, \"ticks\": \"\"}}, \"colorscale\": {\"diverging\": [[0, \"#8e0152\"], [0.1, \"#c51b7d\"], [0.2, \"#de77ae\"], [0.3, \"#f1b6da\"], [0.4, \"#fde0ef\"], [0.5, \"#f7f7f7\"], [0.6, \"#e6f5d0\"], [0.7, \"#b8e186\"], [0.8, \"#7fbc41\"], [0.9, \"#4d9221\"], [1, \"#276419\"]], \"sequential\": [[0.0, \"#0d0887\"], [0.1111111111111111, \"#46039f\"], [0.2222222222222222, \"#7201a8\"], [0.3333333333333333, \"#9c179e\"], [0.4444444444444444, \"#bd3786\"], [0.5555555555555556, \"#d8576b\"], [0.6666666666666666, \"#ed7953\"], [0.7777777777777778, \"#fb9f3a\"], [0.8888888888888888, \"#fdca26\"], [1.0, \"#f0f921\"]], \"sequentialminus\": [[0.0, \"#0d0887\"], [0.1111111111111111, \"#46039f\"], [0.2222222222222222, \"#7201a8\"], [0.3333333333333333, \"#9c179e\"], [0.4444444444444444, \"#bd3786\"], [0.5555555555555556, \"#d8576b\"], [0.6666666666666666, \"#ed7953\"], [0.7777777777777778, \"#fb9f3a\"], [0.8888888888888888, \"#fdca26\"], [1.0, \"#f0f921\"]]}, \"colorway\": [\"#636efa\", \"#EF553B\", \"#00cc96\", \"#ab63fa\", \"#FFA15A\", \"#19d3f3\", \"#FF6692\", \"#B6E880\", \"#FF97FF\", \"#FECB52\"], \"font\": {\"color\": \"#2a3f5f\"}, \"geo\": {\"bgcolor\": \"white\", \"lakecolor\": \"white\", \"landcolor\": \"#E5ECF6\", \"showlakes\": true, \"showland\": true, \"subunitcolor\": \"white\"}, \"hoverlabel\": {\"align\": \"left\"}, \"hovermode\": \"closest\", \"mapbox\": {\"style\": \"light\"}, \"paper_bgcolor\": \"white\", \"plot_bgcolor\": \"#E5ECF6\", \"polar\": {\"angularaxis\": {\"gridcolor\": \"white\", \"linecolor\": \"white\", \"ticks\": \"\"}, \"bgcolor\": \"#E5ECF6\", \"radialaxis\": {\"gridcolor\": \"white\", \"linecolor\": \"white\", \"ticks\": \"\"}}, \"scene\": {\"xaxis\": {\"backgroundcolor\": \"#E5ECF6\", \"gridcolor\": \"white\", \"gridwidth\": 2, \"linecolor\": \"white\", \"showbackground\": true, \"ticks\": \"\", \"zerolinecolor\": \"white\"}, \"yaxis\": {\"backgroundcolor\": \"#E5ECF6\", \"gridcolor\": \"white\", \"gridwidth\": 2, \"linecolor\": \"white\", \"showbackground\": true, \"ticks\": \"\", \"zerolinecolor\": \"white\"}, \"zaxis\": {\"backgroundcolor\": \"#E5ECF6\", \"gridcolor\": \"white\", \"gridwidth\": 2, \"linecolor\": \"white\", \"showbackground\": true, \"ticks\": \"\", \"zerolinecolor\": \"white\"}}, \"shapedefaults\": {\"line\": {\"color\": \"#2a3f5f\"}}, \"ternary\": {\"aaxis\": {\"gridcolor\": \"white\", \"linecolor\": \"white\", \"ticks\": \"\"}, \"baxis\": {\"gridcolor\": \"white\", \"linecolor\": \"white\", \"ticks\": \"\"}, \"bgcolor\": \"#E5ECF6\", \"caxis\": {\"gridcolor\": \"white\", \"linecolor\": \"white\", \"ticks\": \"\"}}, \"title\": {\"x\": 0.05}, \"xaxis\": {\"automargin\": true, \"gridcolor\": \"white\", \"linecolor\": \"white\", \"ticks\": \"\", \"title\": {\"standoff\": 15}, \"zerolinecolor\": \"white\", \"zerolinewidth\": 2}, \"yaxis\": {\"automargin\": true, \"gridcolor\": \"white\", \"linecolor\": \"white\", \"ticks\": \"\", \"title\": {\"standoff\": 15}, \"zerolinecolor\": \"white\", \"zerolinewidth\": 2}}}, \"title\": {\"font\": {\"size\": 24}, \"text\": \" Makespan: 302.00 Scheduling:[ 2  3  6 17 15 10  7 13  9  1  8 12  4 14  5 11 16 18]\", \"x\": 0.5, \"xanchor\": \"center\", \"y\": 0.95, \"yanchor\": \"top\"}, \"xaxis\": {\"rangeselector\": {\"buttons\": [{\"count\": 7, \"label\": \"1w\", \"step\": \"day\", \"stepmode\": \"backward\"}, {\"count\": 1, \"label\": \"1m\", \"step\": \"month\", \"stepmode\": \"backward\"}, {\"count\": 6, \"label\": \"6m\", \"step\": \"month\", \"stepmode\": \"backward\"}, {\"count\": 1, \"label\": \"YTD\", \"step\": \"year\", \"stepmode\": \"todate\"}, {\"count\": 1, \"label\": \"1y\", \"step\": \"year\", \"stepmode\": \"backward\"}, {\"step\": \"all\"}]}, \"showgrid\": true, \"type\": \"date\", \"zeroline\": false}, \"yaxis\": {\"autorange\": false, \"range\": [-1, 6], \"showgrid\": true, \"ticktext\": [\"Machine005\", \"Machine004\", \"Machine003\", \"Machine002\", \"Machine001\"], \"tickvals\": [0, 1, 2, 3, 4], \"zeroline\": false}},\n",
       "                        {\"responsive\": true}\n",
       "                    ).then(function(){\n",
       "                            \n",
       "var gd = document.getElementById('530237f8-1ff7-49e7-9daa-71875400795b');\n",
       "var x = new MutationObserver(function (mutations, observer) {{\n",
       "        var display = window.getComputedStyle(gd).display;\n",
       "        if (!display || display === 'none') {{\n",
       "            console.log([gd, 'removed!']);\n",
       "            Plotly.purge(gd);\n",
       "            observer.disconnect();\n",
       "        }}\n",
       "}});\n",
       "\n",
       "// Listen for the removal of the full notebook cells\n",
       "var notebookContainer = gd.closest('#notebook-container');\n",
       "if (notebookContainer) {{\n",
       "    x.observe(notebookContainer, {childList: true});\n",
       "}}\n",
       "\n",
       "// Listen for the clearing of the current output cell\n",
       "var outputEl = gd.closest('.output');\n",
       "if (outputEl) {{\n",
       "    x.observe(outputEl, {childList: true});\n",
       "}}\n",
       "\n",
       "                        })\n",
       "                };\n",
       "                });\n",
       "            </script>\n",
       "        </div>"
      ]
     },
     "metadata": {},
     "output_type": "display_data"
    }
   ],
   "source": [
    "pt = np.array([[3, 3, 7, 2],\n",
    "        [4, 7, 2, 1],\n",
    "        [2, 1, 1, 4],\n",
    "        [5, 1, 1, 5],\n",
    "        [2, 8, 4, 3],\n",
    "        [5, 8, 3, 5],\n",
    "        [9, 1, 8, 4],\n",
    "        [5, 7, 2, 6],\n",
    "        [7, 3, 2, 9]])\n",
    "sc = np.array([3, 5, 9, 1, 8, 6, 4, 7, 2])\n",
    "problem = SolveFlowShop()\n",
    "dict_01=problem.from_csv('ExemploFSP2.txt')\n",
    "dict_01 = problem.NeighborBest(dict_01, scheduling = np.array([1,2,3,4,5,6,7,8,9,10,11,12,13,14,15,16,17,18]))\n",
    "#problem.plot_by_job(dict_01)\n",
    "problem.plot_by_machine(dict_01)\n",
    "#dict_01['Processing Time'].sum(axis=0)\n",
    "\n",
    "#domain = np.array([ [i for i in range(1, nt+1)] for i in range(nt)])\n",
    "#dict_01 = problem.generate_problem(number_of_tasks = 9, number_of_machines = 4, processing_time= pt, scheduling = sc )\n",
    "#df = problem.DecisionTree(dict_01, population=50, iterations = 10)\n",
    "#dict_01['Flow Shop Object'].job_scheduling = sc\n",
    "#dict_01['Flow Shop Object'].calculate_time()\n",
    "#print(dict_01['Flow Shop Object'].makespan)\n",
    "#df.iloc[0][:]\n",
    "\n",
    "#dt = problem.generate_tree(df)\n",
    "#print('Global',domain)\n",
    "#problem.restrict_domain(dt, domain)"
   ]
  },
  {
   "cell_type": "code",
   "execution_count": 59,
   "metadata": {},
   "outputs": [
    {
     "data": {
      "text/plain": [
       "array([85., 40., 47., 75., 81., 56., 82., 91., 89., 62., 76., 80., 97.,\n",
       "       32., 44., 58., 65., 53.])"
      ]
     },
     "execution_count": 59,
     "metadata": {},
     "output_type": "execute_result"
    }
   ],
   "source": [
    "dict_01['Processing Time'].sum(axis=1)"
   ]
  },
  {
   "cell_type": "code",
   "execution_count": 666,
   "metadata": {},
   "outputs": [
    {
     "data": {
      "text/html": [
       "<div>\n",
       "<style scoped>\n",
       "    .dataframe tbody tr th:only-of-type {\n",
       "        vertical-align: middle;\n",
       "    }\n",
       "\n",
       "    .dataframe tbody tr th {\n",
       "        vertical-align: top;\n",
       "    }\n",
       "\n",
       "    .dataframe thead th {\n",
       "        text-align: right;\n",
       "    }\n",
       "</style>\n",
       "<table border=\"1\" class=\"dataframe\">\n",
       "  <thead>\n",
       "    <tr style=\"text-align: right;\">\n",
       "      <th></th>\n",
       "      <th>t1</th>\n",
       "      <th>t2</th>\n",
       "      <th>t3</th>\n",
       "      <th>t4</th>\n",
       "      <th>t5</th>\n",
       "      <th>t6</th>\n",
       "      <th>t7</th>\n",
       "      <th>t8</th>\n",
       "      <th>t9</th>\n",
       "      <th>makespan</th>\n",
       "      <th>class</th>\n",
       "    </tr>\n",
       "  </thead>\n",
       "  <tbody>\n",
       "    <tr>\n",
       "      <th>7</th>\n",
       "      <td>5.0</td>\n",
       "      <td>8.0</td>\n",
       "      <td>4.0</td>\n",
       "      <td>9.0</td>\n",
       "      <td>1.0</td>\n",
       "      <td>3.0</td>\n",
       "      <td>7.0</td>\n",
       "      <td>6.0</td>\n",
       "      <td>2.0</td>\n",
       "      <td>53.0</td>\n",
       "      <td>0</td>\n",
       "    </tr>\n",
       "    <tr>\n",
       "      <th>49</th>\n",
       "      <td>5.0</td>\n",
       "      <td>8.0</td>\n",
       "      <td>9.0</td>\n",
       "      <td>4.0</td>\n",
       "      <td>1.0</td>\n",
       "      <td>6.0</td>\n",
       "      <td>7.0</td>\n",
       "      <td>3.0</td>\n",
       "      <td>2.0</td>\n",
       "      <td>55.0</td>\n",
       "      <td>0</td>\n",
       "    </tr>\n",
       "    <tr>\n",
       "      <th>39</th>\n",
       "      <td>8.0</td>\n",
       "      <td>9.0</td>\n",
       "      <td>4.0</td>\n",
       "      <td>5.0</td>\n",
       "      <td>3.0</td>\n",
       "      <td>1.0</td>\n",
       "      <td>6.0</td>\n",
       "      <td>7.0</td>\n",
       "      <td>2.0</td>\n",
       "      <td>55.0</td>\n",
       "      <td>0</td>\n",
       "    </tr>\n",
       "    <tr>\n",
       "      <th>4</th>\n",
       "      <td>5.0</td>\n",
       "      <td>9.0</td>\n",
       "      <td>4.0</td>\n",
       "      <td>7.0</td>\n",
       "      <td>1.0</td>\n",
       "      <td>8.0</td>\n",
       "      <td>6.0</td>\n",
       "      <td>3.0</td>\n",
       "      <td>2.0</td>\n",
       "      <td>56.0</td>\n",
       "      <td>0</td>\n",
       "    </tr>\n",
       "    <tr>\n",
       "      <th>41</th>\n",
       "      <td>5.0</td>\n",
       "      <td>9.0</td>\n",
       "      <td>4.0</td>\n",
       "      <td>6.0</td>\n",
       "      <td>1.0</td>\n",
       "      <td>8.0</td>\n",
       "      <td>7.0</td>\n",
       "      <td>3.0</td>\n",
       "      <td>2.0</td>\n",
       "      <td>56.0</td>\n",
       "      <td>0</td>\n",
       "    </tr>\n",
       "    <tr>\n",
       "      <th>22</th>\n",
       "      <td>5.0</td>\n",
       "      <td>9.0</td>\n",
       "      <td>4.0</td>\n",
       "      <td>6.0</td>\n",
       "      <td>3.0</td>\n",
       "      <td>1.0</td>\n",
       "      <td>7.0</td>\n",
       "      <td>8.0</td>\n",
       "      <td>2.0</td>\n",
       "      <td>56.0</td>\n",
       "      <td>0</td>\n",
       "    </tr>\n",
       "    <tr>\n",
       "      <th>1</th>\n",
       "      <td>5.0</td>\n",
       "      <td>9.0</td>\n",
       "      <td>4.0</td>\n",
       "      <td>7.0</td>\n",
       "      <td>6.0</td>\n",
       "      <td>1.0</td>\n",
       "      <td>3.0</td>\n",
       "      <td>8.0</td>\n",
       "      <td>2.0</td>\n",
       "      <td>57.0</td>\n",
       "      <td>0</td>\n",
       "    </tr>\n",
       "    <tr>\n",
       "      <th>33</th>\n",
       "      <td>5.0</td>\n",
       "      <td>8.0</td>\n",
       "      <td>9.0</td>\n",
       "      <td>4.0</td>\n",
       "      <td>1.0</td>\n",
       "      <td>3.0</td>\n",
       "      <td>6.0</td>\n",
       "      <td>7.0</td>\n",
       "      <td>2.0</td>\n",
       "      <td>57.0</td>\n",
       "      <td>0</td>\n",
       "    </tr>\n",
       "    <tr>\n",
       "      <th>12</th>\n",
       "      <td>8.0</td>\n",
       "      <td>9.0</td>\n",
       "      <td>4.0</td>\n",
       "      <td>5.0</td>\n",
       "      <td>1.0</td>\n",
       "      <td>7.0</td>\n",
       "      <td>3.0</td>\n",
       "      <td>6.0</td>\n",
       "      <td>2.0</td>\n",
       "      <td>58.0</td>\n",
       "      <td>0</td>\n",
       "    </tr>\n",
       "    <tr>\n",
       "      <th>13</th>\n",
       "      <td>9.0</td>\n",
       "      <td>5.0</td>\n",
       "      <td>4.0</td>\n",
       "      <td>8.0</td>\n",
       "      <td>1.0</td>\n",
       "      <td>3.0</td>\n",
       "      <td>7.0</td>\n",
       "      <td>6.0</td>\n",
       "      <td>2.0</td>\n",
       "      <td>58.0</td>\n",
       "      <td>0</td>\n",
       "    </tr>\n",
       "    <tr>\n",
       "      <th>36</th>\n",
       "      <td>5.0</td>\n",
       "      <td>8.0</td>\n",
       "      <td>9.0</td>\n",
       "      <td>4.0</td>\n",
       "      <td>7.0</td>\n",
       "      <td>1.0</td>\n",
       "      <td>6.0</td>\n",
       "      <td>3.0</td>\n",
       "      <td>2.0</td>\n",
       "      <td>58.0</td>\n",
       "      <td>0</td>\n",
       "    </tr>\n",
       "    <tr>\n",
       "      <th>34</th>\n",
       "      <td>8.0</td>\n",
       "      <td>9.0</td>\n",
       "      <td>4.0</td>\n",
       "      <td>5.0</td>\n",
       "      <td>6.0</td>\n",
       "      <td>1.0</td>\n",
       "      <td>3.0</td>\n",
       "      <td>7.0</td>\n",
       "      <td>2.0</td>\n",
       "      <td>58.0</td>\n",
       "      <td>0</td>\n",
       "    </tr>\n",
       "    <tr>\n",
       "      <th>43</th>\n",
       "      <td>5.0</td>\n",
       "      <td>9.0</td>\n",
       "      <td>8.0</td>\n",
       "      <td>4.0</td>\n",
       "      <td>3.0</td>\n",
       "      <td>6.0</td>\n",
       "      <td>1.0</td>\n",
       "      <td>7.0</td>\n",
       "      <td>2.0</td>\n",
       "      <td>59.0</td>\n",
       "      <td>0</td>\n",
       "    </tr>\n",
       "    <tr>\n",
       "      <th>47</th>\n",
       "      <td>5.0</td>\n",
       "      <td>9.0</td>\n",
       "      <td>8.0</td>\n",
       "      <td>4.0</td>\n",
       "      <td>1.0</td>\n",
       "      <td>7.0</td>\n",
       "      <td>3.0</td>\n",
       "      <td>6.0</td>\n",
       "      <td>2.0</td>\n",
       "      <td>59.0</td>\n",
       "      <td>0</td>\n",
       "    </tr>\n",
       "    <tr>\n",
       "      <th>8</th>\n",
       "      <td>5.0</td>\n",
       "      <td>9.0</td>\n",
       "      <td>4.0</td>\n",
       "      <td>7.0</td>\n",
       "      <td>8.0</td>\n",
       "      <td>3.0</td>\n",
       "      <td>1.0</td>\n",
       "      <td>6.0</td>\n",
       "      <td>2.0</td>\n",
       "      <td>59.0</td>\n",
       "      <td>0</td>\n",
       "    </tr>\n",
       "    <tr>\n",
       "      <th>42</th>\n",
       "      <td>5.0</td>\n",
       "      <td>9.0</td>\n",
       "      <td>4.0</td>\n",
       "      <td>7.0</td>\n",
       "      <td>6.0</td>\n",
       "      <td>8.0</td>\n",
       "      <td>1.0</td>\n",
       "      <td>3.0</td>\n",
       "      <td>2.0</td>\n",
       "      <td>59.0</td>\n",
       "      <td>0</td>\n",
       "    </tr>\n",
       "    <tr>\n",
       "      <th>31</th>\n",
       "      <td>9.0</td>\n",
       "      <td>5.0</td>\n",
       "      <td>8.0</td>\n",
       "      <td>4.0</td>\n",
       "      <td>1.0</td>\n",
       "      <td>7.0</td>\n",
       "      <td>6.0</td>\n",
       "      <td>3.0</td>\n",
       "      <td>2.0</td>\n",
       "      <td>59.0</td>\n",
       "      <td>0</td>\n",
       "    </tr>\n",
       "    <tr>\n",
       "      <th>30</th>\n",
       "      <td>5.0</td>\n",
       "      <td>9.0</td>\n",
       "      <td>8.0</td>\n",
       "      <td>4.0</td>\n",
       "      <td>3.0</td>\n",
       "      <td>6.0</td>\n",
       "      <td>1.0</td>\n",
       "      <td>7.0</td>\n",
       "      <td>2.0</td>\n",
       "      <td>59.0</td>\n",
       "      <td>0</td>\n",
       "    </tr>\n",
       "    <tr>\n",
       "      <th>44</th>\n",
       "      <td>5.0</td>\n",
       "      <td>8.0</td>\n",
       "      <td>9.0</td>\n",
       "      <td>4.0</td>\n",
       "      <td>1.0</td>\n",
       "      <td>6.0</td>\n",
       "      <td>3.0</td>\n",
       "      <td>7.0</td>\n",
       "      <td>2.0</td>\n",
       "      <td>60.0</td>\n",
       "      <td>0</td>\n",
       "    </tr>\n",
       "    <tr>\n",
       "      <th>29</th>\n",
       "      <td>5.0</td>\n",
       "      <td>9.0</td>\n",
       "      <td>8.0</td>\n",
       "      <td>4.0</td>\n",
       "      <td>6.0</td>\n",
       "      <td>7.0</td>\n",
       "      <td>1.0</td>\n",
       "      <td>3.0</td>\n",
       "      <td>2.0</td>\n",
       "      <td>61.0</td>\n",
       "      <td>0</td>\n",
       "    </tr>\n",
       "    <tr>\n",
       "      <th>46</th>\n",
       "      <td>5.0</td>\n",
       "      <td>9.0</td>\n",
       "      <td>8.0</td>\n",
       "      <td>4.0</td>\n",
       "      <td>6.0</td>\n",
       "      <td>3.0</td>\n",
       "      <td>1.0</td>\n",
       "      <td>7.0</td>\n",
       "      <td>2.0</td>\n",
       "      <td>61.0</td>\n",
       "      <td>0</td>\n",
       "    </tr>\n",
       "    <tr>\n",
       "      <th>0</th>\n",
       "      <td>5.0</td>\n",
       "      <td>9.0</td>\n",
       "      <td>8.0</td>\n",
       "      <td>4.0</td>\n",
       "      <td>6.0</td>\n",
       "      <td>3.0</td>\n",
       "      <td>1.0</td>\n",
       "      <td>7.0</td>\n",
       "      <td>2.0</td>\n",
       "      <td>61.0</td>\n",
       "      <td>0</td>\n",
       "    </tr>\n",
       "    <tr>\n",
       "      <th>16</th>\n",
       "      <td>5.0</td>\n",
       "      <td>9.0</td>\n",
       "      <td>4.0</td>\n",
       "      <td>1.0</td>\n",
       "      <td>8.0</td>\n",
       "      <td>3.0</td>\n",
       "      <td>6.0</td>\n",
       "      <td>7.0</td>\n",
       "      <td>2.0</td>\n",
       "      <td>61.0</td>\n",
       "      <td>0</td>\n",
       "    </tr>\n",
       "    <tr>\n",
       "      <th>19</th>\n",
       "      <td>9.0</td>\n",
       "      <td>8.0</td>\n",
       "      <td>5.0</td>\n",
       "      <td>4.0</td>\n",
       "      <td>3.0</td>\n",
       "      <td>1.0</td>\n",
       "      <td>6.0</td>\n",
       "      <td>7.0</td>\n",
       "      <td>2.0</td>\n",
       "      <td>61.0</td>\n",
       "      <td>0</td>\n",
       "    </tr>\n",
       "    <tr>\n",
       "      <th>40</th>\n",
       "      <td>9.0</td>\n",
       "      <td>5.0</td>\n",
       "      <td>4.0</td>\n",
       "      <td>6.0</td>\n",
       "      <td>7.0</td>\n",
       "      <td>1.0</td>\n",
       "      <td>3.0</td>\n",
       "      <td>8.0</td>\n",
       "      <td>2.0</td>\n",
       "      <td>62.0</td>\n",
       "      <td>1</td>\n",
       "    </tr>\n",
       "    <tr>\n",
       "      <th>38</th>\n",
       "      <td>9.0</td>\n",
       "      <td>8.0</td>\n",
       "      <td>4.0</td>\n",
       "      <td>5.0</td>\n",
       "      <td>7.0</td>\n",
       "      <td>1.0</td>\n",
       "      <td>6.0</td>\n",
       "      <td>3.0</td>\n",
       "      <td>2.0</td>\n",
       "      <td>62.0</td>\n",
       "      <td>1</td>\n",
       "    </tr>\n",
       "    <tr>\n",
       "      <th>9</th>\n",
       "      <td>9.0</td>\n",
       "      <td>8.0</td>\n",
       "      <td>5.0</td>\n",
       "      <td>4.0</td>\n",
       "      <td>1.0</td>\n",
       "      <td>7.0</td>\n",
       "      <td>6.0</td>\n",
       "      <td>3.0</td>\n",
       "      <td>2.0</td>\n",
       "      <td>62.0</td>\n",
       "      <td>1</td>\n",
       "    </tr>\n",
       "    <tr>\n",
       "      <th>14</th>\n",
       "      <td>8.0</td>\n",
       "      <td>5.0</td>\n",
       "      <td>9.0</td>\n",
       "      <td>4.0</td>\n",
       "      <td>1.0</td>\n",
       "      <td>6.0</td>\n",
       "      <td>7.0</td>\n",
       "      <td>3.0</td>\n",
       "      <td>2.0</td>\n",
       "      <td>62.0</td>\n",
       "      <td>1</td>\n",
       "    </tr>\n",
       "    <tr>\n",
       "      <th>3</th>\n",
       "      <td>5.0</td>\n",
       "      <td>8.0</td>\n",
       "      <td>9.0</td>\n",
       "      <td>4.0</td>\n",
       "      <td>6.0</td>\n",
       "      <td>7.0</td>\n",
       "      <td>1.0</td>\n",
       "      <td>3.0</td>\n",
       "      <td>2.0</td>\n",
       "      <td>62.0</td>\n",
       "      <td>1</td>\n",
       "    </tr>\n",
       "    <tr>\n",
       "      <th>18</th>\n",
       "      <td>5.0</td>\n",
       "      <td>8.0</td>\n",
       "      <td>4.0</td>\n",
       "      <td>6.0</td>\n",
       "      <td>9.0</td>\n",
       "      <td>1.0</td>\n",
       "      <td>7.0</td>\n",
       "      <td>3.0</td>\n",
       "      <td>2.0</td>\n",
       "      <td>62.0</td>\n",
       "      <td>1</td>\n",
       "    </tr>\n",
       "    <tr>\n",
       "      <th>17</th>\n",
       "      <td>5.0</td>\n",
       "      <td>8.0</td>\n",
       "      <td>4.0</td>\n",
       "      <td>9.0</td>\n",
       "      <td>7.0</td>\n",
       "      <td>3.0</td>\n",
       "      <td>1.0</td>\n",
       "      <td>6.0</td>\n",
       "      <td>2.0</td>\n",
       "      <td>63.0</td>\n",
       "      <td>1</td>\n",
       "    </tr>\n",
       "    <tr>\n",
       "      <th>26</th>\n",
       "      <td>5.0</td>\n",
       "      <td>8.0</td>\n",
       "      <td>4.0</td>\n",
       "      <td>7.0</td>\n",
       "      <td>9.0</td>\n",
       "      <td>3.0</td>\n",
       "      <td>1.0</td>\n",
       "      <td>6.0</td>\n",
       "      <td>2.0</td>\n",
       "      <td>63.0</td>\n",
       "      <td>1</td>\n",
       "    </tr>\n",
       "    <tr>\n",
       "      <th>25</th>\n",
       "      <td>9.0</td>\n",
       "      <td>5.0</td>\n",
       "      <td>8.0</td>\n",
       "      <td>4.0</td>\n",
       "      <td>1.0</td>\n",
       "      <td>6.0</td>\n",
       "      <td>3.0</td>\n",
       "      <td>7.0</td>\n",
       "      <td>2.0</td>\n",
       "      <td>63.0</td>\n",
       "      <td>1</td>\n",
       "    </tr>\n",
       "    <tr>\n",
       "      <th>48</th>\n",
       "      <td>9.0</td>\n",
       "      <td>5.0</td>\n",
       "      <td>4.0</td>\n",
       "      <td>1.0</td>\n",
       "      <td>8.0</td>\n",
       "      <td>3.0</td>\n",
       "      <td>7.0</td>\n",
       "      <td>6.0</td>\n",
       "      <td>2.0</td>\n",
       "      <td>63.0</td>\n",
       "      <td>1</td>\n",
       "    </tr>\n",
       "    <tr>\n",
       "      <th>11</th>\n",
       "      <td>5.0</td>\n",
       "      <td>8.0</td>\n",
       "      <td>9.0</td>\n",
       "      <td>4.0</td>\n",
       "      <td>7.0</td>\n",
       "      <td>6.0</td>\n",
       "      <td>1.0</td>\n",
       "      <td>3.0</td>\n",
       "      <td>2.0</td>\n",
       "      <td>64.0</td>\n",
       "      <td>1</td>\n",
       "    </tr>\n",
       "    <tr>\n",
       "      <th>27</th>\n",
       "      <td>9.0</td>\n",
       "      <td>8.0</td>\n",
       "      <td>4.0</td>\n",
       "      <td>5.0</td>\n",
       "      <td>3.0</td>\n",
       "      <td>6.0</td>\n",
       "      <td>1.0</td>\n",
       "      <td>7.0</td>\n",
       "      <td>2.0</td>\n",
       "      <td>64.0</td>\n",
       "      <td>1</td>\n",
       "    </tr>\n",
       "    <tr>\n",
       "      <th>15</th>\n",
       "      <td>9.0</td>\n",
       "      <td>8.0</td>\n",
       "      <td>4.0</td>\n",
       "      <td>5.0</td>\n",
       "      <td>1.0</td>\n",
       "      <td>6.0</td>\n",
       "      <td>3.0</td>\n",
       "      <td>7.0</td>\n",
       "      <td>2.0</td>\n",
       "      <td>64.0</td>\n",
       "      <td>1</td>\n",
       "    </tr>\n",
       "    <tr>\n",
       "      <th>21</th>\n",
       "      <td>9.0</td>\n",
       "      <td>5.0</td>\n",
       "      <td>8.0</td>\n",
       "      <td>4.0</td>\n",
       "      <td>3.0</td>\n",
       "      <td>7.0</td>\n",
       "      <td>1.0</td>\n",
       "      <td>6.0</td>\n",
       "      <td>2.0</td>\n",
       "      <td>64.0</td>\n",
       "      <td>1</td>\n",
       "    </tr>\n",
       "    <tr>\n",
       "      <th>23</th>\n",
       "      <td>9.0</td>\n",
       "      <td>5.0</td>\n",
       "      <td>4.0</td>\n",
       "      <td>7.0</td>\n",
       "      <td>3.0</td>\n",
       "      <td>6.0</td>\n",
       "      <td>1.0</td>\n",
       "      <td>8.0</td>\n",
       "      <td>2.0</td>\n",
       "      <td>64.0</td>\n",
       "      <td>1</td>\n",
       "    </tr>\n",
       "    <tr>\n",
       "      <th>2</th>\n",
       "      <td>5.0</td>\n",
       "      <td>8.0</td>\n",
       "      <td>4.0</td>\n",
       "      <td>1.0</td>\n",
       "      <td>6.0</td>\n",
       "      <td>3.0</td>\n",
       "      <td>9.0</td>\n",
       "      <td>7.0</td>\n",
       "      <td>2.0</td>\n",
       "      <td>65.0</td>\n",
       "      <td>1</td>\n",
       "    </tr>\n",
       "    <tr>\n",
       "      <th>35</th>\n",
       "      <td>9.0</td>\n",
       "      <td>8.0</td>\n",
       "      <td>5.0</td>\n",
       "      <td>4.0</td>\n",
       "      <td>6.0</td>\n",
       "      <td>7.0</td>\n",
       "      <td>1.0</td>\n",
       "      <td>3.0</td>\n",
       "      <td>2.0</td>\n",
       "      <td>65.0</td>\n",
       "      <td>1</td>\n",
       "    </tr>\n",
       "    <tr>\n",
       "      <th>24</th>\n",
       "      <td>5.0</td>\n",
       "      <td>8.0</td>\n",
       "      <td>4.0</td>\n",
       "      <td>1.0</td>\n",
       "      <td>6.0</td>\n",
       "      <td>7.0</td>\n",
       "      <td>9.0</td>\n",
       "      <td>3.0</td>\n",
       "      <td>2.0</td>\n",
       "      <td>65.0</td>\n",
       "      <td>1</td>\n",
       "    </tr>\n",
       "    <tr>\n",
       "      <th>28</th>\n",
       "      <td>9.0</td>\n",
       "      <td>5.0</td>\n",
       "      <td>4.0</td>\n",
       "      <td>6.0</td>\n",
       "      <td>7.0</td>\n",
       "      <td>3.0</td>\n",
       "      <td>1.0</td>\n",
       "      <td>8.0</td>\n",
       "      <td>2.0</td>\n",
       "      <td>65.0</td>\n",
       "      <td>1</td>\n",
       "    </tr>\n",
       "    <tr>\n",
       "      <th>6</th>\n",
       "      <td>9.0</td>\n",
       "      <td>8.0</td>\n",
       "      <td>4.0</td>\n",
       "      <td>5.0</td>\n",
       "      <td>7.0</td>\n",
       "      <td>1.0</td>\n",
       "      <td>3.0</td>\n",
       "      <td>6.0</td>\n",
       "      <td>2.0</td>\n",
       "      <td>67.0</td>\n",
       "      <td>1</td>\n",
       "    </tr>\n",
       "    <tr>\n",
       "      <th>5</th>\n",
       "      <td>9.0</td>\n",
       "      <td>5.0</td>\n",
       "      <td>8.0</td>\n",
       "      <td>4.0</td>\n",
       "      <td>6.0</td>\n",
       "      <td>7.0</td>\n",
       "      <td>1.0</td>\n",
       "      <td>3.0</td>\n",
       "      <td>2.0</td>\n",
       "      <td>67.0</td>\n",
       "      <td>1</td>\n",
       "    </tr>\n",
       "    <tr>\n",
       "      <th>10</th>\n",
       "      <td>9.0</td>\n",
       "      <td>5.0</td>\n",
       "      <td>8.0</td>\n",
       "      <td>4.0</td>\n",
       "      <td>6.0</td>\n",
       "      <td>7.0</td>\n",
       "      <td>1.0</td>\n",
       "      <td>3.0</td>\n",
       "      <td>2.0</td>\n",
       "      <td>67.0</td>\n",
       "      <td>1</td>\n",
       "    </tr>\n",
       "    <tr>\n",
       "      <th>20</th>\n",
       "      <td>9.0</td>\n",
       "      <td>5.0</td>\n",
       "      <td>8.0</td>\n",
       "      <td>4.0</td>\n",
       "      <td>7.0</td>\n",
       "      <td>6.0</td>\n",
       "      <td>1.0</td>\n",
       "      <td>3.0</td>\n",
       "      <td>2.0</td>\n",
       "      <td>67.0</td>\n",
       "      <td>1</td>\n",
       "    </tr>\n",
       "    <tr>\n",
       "      <th>37</th>\n",
       "      <td>8.0</td>\n",
       "      <td>5.0</td>\n",
       "      <td>9.0</td>\n",
       "      <td>4.0</td>\n",
       "      <td>6.0</td>\n",
       "      <td>3.0</td>\n",
       "      <td>1.0</td>\n",
       "      <td>7.0</td>\n",
       "      <td>2.0</td>\n",
       "      <td>68.0</td>\n",
       "      <td>1</td>\n",
       "    </tr>\n",
       "    <tr>\n",
       "      <th>45</th>\n",
       "      <td>8.0</td>\n",
       "      <td>5.0</td>\n",
       "      <td>9.0</td>\n",
       "      <td>4.0</td>\n",
       "      <td>6.0</td>\n",
       "      <td>1.0</td>\n",
       "      <td>3.0</td>\n",
       "      <td>7.0</td>\n",
       "      <td>2.0</td>\n",
       "      <td>68.0</td>\n",
       "      <td>1</td>\n",
       "    </tr>\n",
       "    <tr>\n",
       "      <th>32</th>\n",
       "      <td>9.0</td>\n",
       "      <td>8.0</td>\n",
       "      <td>5.0</td>\n",
       "      <td>4.0</td>\n",
       "      <td>7.0</td>\n",
       "      <td>6.0</td>\n",
       "      <td>1.0</td>\n",
       "      <td>3.0</td>\n",
       "      <td>2.0</td>\n",
       "      <td>68.0</td>\n",
       "      <td>1</td>\n",
       "    </tr>\n",
       "  </tbody>\n",
       "</table>\n",
       "</div>"
      ],
      "text/plain": [
       "     t1   t2   t3   t4   t5   t6   t7   t8   t9  makespan  class\n",
       "7   5.0  8.0  4.0  9.0  1.0  3.0  7.0  6.0  2.0      53.0      0\n",
       "49  5.0  8.0  9.0  4.0  1.0  6.0  7.0  3.0  2.0      55.0      0\n",
       "39  8.0  9.0  4.0  5.0  3.0  1.0  6.0  7.0  2.0      55.0      0\n",
       "4   5.0  9.0  4.0  7.0  1.0  8.0  6.0  3.0  2.0      56.0      0\n",
       "41  5.0  9.0  4.0  6.0  1.0  8.0  7.0  3.0  2.0      56.0      0\n",
       "22  5.0  9.0  4.0  6.0  3.0  1.0  7.0  8.0  2.0      56.0      0\n",
       "1   5.0  9.0  4.0  7.0  6.0  1.0  3.0  8.0  2.0      57.0      0\n",
       "33  5.0  8.0  9.0  4.0  1.0  3.0  6.0  7.0  2.0      57.0      0\n",
       "12  8.0  9.0  4.0  5.0  1.0  7.0  3.0  6.0  2.0      58.0      0\n",
       "13  9.0  5.0  4.0  8.0  1.0  3.0  7.0  6.0  2.0      58.0      0\n",
       "36  5.0  8.0  9.0  4.0  7.0  1.0  6.0  3.0  2.0      58.0      0\n",
       "34  8.0  9.0  4.0  5.0  6.0  1.0  3.0  7.0  2.0      58.0      0\n",
       "43  5.0  9.0  8.0  4.0  3.0  6.0  1.0  7.0  2.0      59.0      0\n",
       "47  5.0  9.0  8.0  4.0  1.0  7.0  3.0  6.0  2.0      59.0      0\n",
       "8   5.0  9.0  4.0  7.0  8.0  3.0  1.0  6.0  2.0      59.0      0\n",
       "42  5.0  9.0  4.0  7.0  6.0  8.0  1.0  3.0  2.0      59.0      0\n",
       "31  9.0  5.0  8.0  4.0  1.0  7.0  6.0  3.0  2.0      59.0      0\n",
       "30  5.0  9.0  8.0  4.0  3.0  6.0  1.0  7.0  2.0      59.0      0\n",
       "44  5.0  8.0  9.0  4.0  1.0  6.0  3.0  7.0  2.0      60.0      0\n",
       "29  5.0  9.0  8.0  4.0  6.0  7.0  1.0  3.0  2.0      61.0      0\n",
       "46  5.0  9.0  8.0  4.0  6.0  3.0  1.0  7.0  2.0      61.0      0\n",
       "0   5.0  9.0  8.0  4.0  6.0  3.0  1.0  7.0  2.0      61.0      0\n",
       "16  5.0  9.0  4.0  1.0  8.0  3.0  6.0  7.0  2.0      61.0      0\n",
       "19  9.0  8.0  5.0  4.0  3.0  1.0  6.0  7.0  2.0      61.0      0\n",
       "40  9.0  5.0  4.0  6.0  7.0  1.0  3.0  8.0  2.0      62.0      1\n",
       "38  9.0  8.0  4.0  5.0  7.0  1.0  6.0  3.0  2.0      62.0      1\n",
       "9   9.0  8.0  5.0  4.0  1.0  7.0  6.0  3.0  2.0      62.0      1\n",
       "14  8.0  5.0  9.0  4.0  1.0  6.0  7.0  3.0  2.0      62.0      1\n",
       "3   5.0  8.0  9.0  4.0  6.0  7.0  1.0  3.0  2.0      62.0      1\n",
       "18  5.0  8.0  4.0  6.0  9.0  1.0  7.0  3.0  2.0      62.0      1\n",
       "17  5.0  8.0  4.0  9.0  7.0  3.0  1.0  6.0  2.0      63.0      1\n",
       "26  5.0  8.0  4.0  7.0  9.0  3.0  1.0  6.0  2.0      63.0      1\n",
       "25  9.0  5.0  8.0  4.0  1.0  6.0  3.0  7.0  2.0      63.0      1\n",
       "48  9.0  5.0  4.0  1.0  8.0  3.0  7.0  6.0  2.0      63.0      1\n",
       "11  5.0  8.0  9.0  4.0  7.0  6.0  1.0  3.0  2.0      64.0      1\n",
       "27  9.0  8.0  4.0  5.0  3.0  6.0  1.0  7.0  2.0      64.0      1\n",
       "15  9.0  8.0  4.0  5.0  1.0  6.0  3.0  7.0  2.0      64.0      1\n",
       "21  9.0  5.0  8.0  4.0  3.0  7.0  1.0  6.0  2.0      64.0      1\n",
       "23  9.0  5.0  4.0  7.0  3.0  6.0  1.0  8.0  2.0      64.0      1\n",
       "2   5.0  8.0  4.0  1.0  6.0  3.0  9.0  7.0  2.0      65.0      1\n",
       "35  9.0  8.0  5.0  4.0  6.0  7.0  1.0  3.0  2.0      65.0      1\n",
       "24  5.0  8.0  4.0  1.0  6.0  7.0  9.0  3.0  2.0      65.0      1\n",
       "28  9.0  5.0  4.0  6.0  7.0  3.0  1.0  8.0  2.0      65.0      1\n",
       "6   9.0  8.0  4.0  5.0  7.0  1.0  3.0  6.0  2.0      67.0      1\n",
       "5   9.0  5.0  8.0  4.0  6.0  7.0  1.0  3.0  2.0      67.0      1\n",
       "10  9.0  5.0  8.0  4.0  6.0  7.0  1.0  3.0  2.0      67.0      1\n",
       "20  9.0  5.0  8.0  4.0  7.0  6.0  1.0  3.0  2.0      67.0      1\n",
       "37  8.0  5.0  9.0  4.0  6.0  3.0  1.0  7.0  2.0      68.0      1\n",
       "45  8.0  5.0  9.0  4.0  6.0  1.0  3.0  7.0  2.0      68.0      1\n",
       "32  9.0  8.0  5.0  4.0  7.0  6.0  1.0  3.0  2.0      68.0      1"
      ]
     },
     "execution_count": 666,
     "metadata": {},
     "output_type": "execute_result"
    }
   ],
   "source": [
    "df"
   ]
  },
  {
   "cell_type": "code",
   "execution_count": null,
   "metadata": {},
   "outputs": [],
   "source": [
    "### start_time = [0,0,0]\n",
    "#processing_time = np.array([[5,4,7],[2,1,8],[9,3,6],[2,7,4]])\n",
    "#scheduling = np.array([1,2,3,4])\n",
    "pt = np.array([[3, 3, 7, 2],\n",
    "        [4, 7, 2, 1],\n",
    "        [2, 1, 1, 4],\n",
    "        [5, 1, 1, 5],\n",
    "        [2, 8, 4, 3],\n",
    "        [5, 8, 3, 5],\n",
    "        [9, 1, 8, 4],\n",
    "        [5, 7, 2, 6],\n",
    "        [7, 3, 2, 9]])\n",
    "sc = np.array([3, 5, 9, 1, 8, 6, 4, 7, 2])\n",
    "#problem = FlowShopPermutational(num_tasks=9, num_machines = 4, processing_time = pt, \n",
    "#                               free_time = start_time, scheduling = '')\n",
    "#problem.Palmer()\n",
    "#problem.calculate_time()\n",
    "#print(problem.makespan, problem.completion_time)\n",
    "problem = SolveFlowShop()\n",
    "dict_01 = problem.generate_problem(number_of_tasks = 9, number_of_machines = 4, processing_time= pt, scheduling = sc )\n",
    "dict_01['Flow Shop Object']\n",
    "#problem.plot(dict_01, title='Manual')\n",
    "#problem.plot(problem.PalmerSolution(dict_01),title='Palmer')\n",
    "#problem.plot(problem.BruteForce(dict_01),title='Brute Force')\n",
    "#df = problem.Simulate(dict_01, population=100000)\n",
    "#df[df['Objective']==df['Objective'].min()]\n",
    "#df = problem.Simulate(dict_01, population=1000)\n",
    "#df[df['Objective']==df['Objective'].min()]\n",
    "#df = problem.DecisionTree(dict_01, population = 50)\n",
    "#df = df.reset_index()\n",
    "#pd.DataFrame(columns = df.set_index('key').T.columns)\n",
    "#display(df_base)\n",
    "#initial_domain =  \n",
    "#df_all = df_all.append(df_base.set_index('key').T)\n",
    "#df_all\n",
    "df"
   ]
  },
  {
   "cell_type": "code",
   "execution_count": 412,
   "metadata": {},
   "outputs": [
    {
     "data": {
      "text/html": [
       "<div>\n",
       "<style scoped>\n",
       "    .dataframe tbody tr th:only-of-type {\n",
       "        vertical-align: middle;\n",
       "    }\n",
       "\n",
       "    .dataframe tbody tr th {\n",
       "        vertical-align: top;\n",
       "    }\n",
       "\n",
       "    .dataframe thead th {\n",
       "        text-align: right;\n",
       "    }\n",
       "</style>\n",
       "<table border=\"1\" class=\"dataframe\">\n",
       "  <thead>\n",
       "    <tr style=\"text-align: right;\">\n",
       "      <th>key</th>\n",
       "      <th>t1seq</th>\n",
       "      <th>t2seq</th>\n",
       "      <th>t3seq</th>\n",
       "      <th>t4seq</th>\n",
       "      <th>t5seq</th>\n",
       "      <th>t6seq</th>\n",
       "      <th>t7seq</th>\n",
       "      <th>t8seq</th>\n",
       "      <th>t9seq</th>\n",
       "      <th>m</th>\n",
       "      <th>class</th>\n",
       "    </tr>\n",
       "  </thead>\n",
       "  <tbody>\n",
       "    <tr>\n",
       "      <th>value</th>\n",
       "      <td>8.0</td>\n",
       "      <td>9.0</td>\n",
       "      <td>2.0</td>\n",
       "      <td>7.0</td>\n",
       "      <td>1.0</td>\n",
       "      <td>6.0</td>\n",
       "      <td>4.0</td>\n",
       "      <td>3.0</td>\n",
       "      <td>5.0</td>\n",
       "      <td>54.0</td>\n",
       "      <td>0</td>\n",
       "    </tr>\n",
       "    <tr>\n",
       "      <th>value</th>\n",
       "      <td>8.0</td>\n",
       "      <td>6.0</td>\n",
       "      <td>2.0</td>\n",
       "      <td>3.0</td>\n",
       "      <td>4.0</td>\n",
       "      <td>1.0</td>\n",
       "      <td>5.0</td>\n",
       "      <td>9.0</td>\n",
       "      <td>7.0</td>\n",
       "      <td>57.0</td>\n",
       "      <td>0</td>\n",
       "    </tr>\n",
       "    <tr>\n",
       "      <th>value</th>\n",
       "      <td>1.0</td>\n",
       "      <td>9.0</td>\n",
       "      <td>4.0</td>\n",
       "      <td>8.0</td>\n",
       "      <td>3.0</td>\n",
       "      <td>6.0</td>\n",
       "      <td>7.0</td>\n",
       "      <td>5.0</td>\n",
       "      <td>2.0</td>\n",
       "      <td>58.0</td>\n",
       "      <td>0</td>\n",
       "    </tr>\n",
       "    <tr>\n",
       "      <th>value</th>\n",
       "      <td>3.0</td>\n",
       "      <td>6.0</td>\n",
       "      <td>5.0</td>\n",
       "      <td>4.0</td>\n",
       "      <td>1.0</td>\n",
       "      <td>7.0</td>\n",
       "      <td>9.0</td>\n",
       "      <td>2.0</td>\n",
       "      <td>8.0</td>\n",
       "      <td>58.0</td>\n",
       "      <td>0</td>\n",
       "    </tr>\n",
       "    <tr>\n",
       "      <th>value</th>\n",
       "      <td>8.0</td>\n",
       "      <td>9.0</td>\n",
       "      <td>3.0</td>\n",
       "      <td>5.0</td>\n",
       "      <td>6.0</td>\n",
       "      <td>4.0</td>\n",
       "      <td>7.0</td>\n",
       "      <td>1.0</td>\n",
       "      <td>2.0</td>\n",
       "      <td>58.0</td>\n",
       "      <td>0</td>\n",
       "    </tr>\n",
       "    <tr>\n",
       "      <th>value</th>\n",
       "      <td>1.0</td>\n",
       "      <td>9.0</td>\n",
       "      <td>4.0</td>\n",
       "      <td>3.0</td>\n",
       "      <td>2.0</td>\n",
       "      <td>7.0</td>\n",
       "      <td>5.0</td>\n",
       "      <td>8.0</td>\n",
       "      <td>6.0</td>\n",
       "      <td>58.0</td>\n",
       "      <td>0</td>\n",
       "    </tr>\n",
       "    <tr>\n",
       "      <th>value</th>\n",
       "      <td>4.0</td>\n",
       "      <td>1.0</td>\n",
       "      <td>5.0</td>\n",
       "      <td>6.0</td>\n",
       "      <td>9.0</td>\n",
       "      <td>7.0</td>\n",
       "      <td>8.0</td>\n",
       "      <td>2.0</td>\n",
       "      <td>3.0</td>\n",
       "      <td>58.0</td>\n",
       "      <td>0</td>\n",
       "    </tr>\n",
       "    <tr>\n",
       "      <th>value</th>\n",
       "      <td>4.0</td>\n",
       "      <td>8.0</td>\n",
       "      <td>6.0</td>\n",
       "      <td>5.0</td>\n",
       "      <td>1.0</td>\n",
       "      <td>7.0</td>\n",
       "      <td>9.0</td>\n",
       "      <td>3.0</td>\n",
       "      <td>2.0</td>\n",
       "      <td>58.0</td>\n",
       "      <td>0</td>\n",
       "    </tr>\n",
       "    <tr>\n",
       "      <th>value</th>\n",
       "      <td>4.0</td>\n",
       "      <td>5.0</td>\n",
       "      <td>8.0</td>\n",
       "      <td>3.0</td>\n",
       "      <td>1.0</td>\n",
       "      <td>6.0</td>\n",
       "      <td>9.0</td>\n",
       "      <td>7.0</td>\n",
       "      <td>2.0</td>\n",
       "      <td>59.0</td>\n",
       "      <td>0</td>\n",
       "    </tr>\n",
       "    <tr>\n",
       "      <th>value</th>\n",
       "      <td>1.0</td>\n",
       "      <td>7.0</td>\n",
       "      <td>6.0</td>\n",
       "      <td>8.0</td>\n",
       "      <td>5.0</td>\n",
       "      <td>4.0</td>\n",
       "      <td>9.0</td>\n",
       "      <td>2.0</td>\n",
       "      <td>3.0</td>\n",
       "      <td>59.0</td>\n",
       "      <td>0</td>\n",
       "    </tr>\n",
       "    <tr>\n",
       "      <th>value</th>\n",
       "      <td>9.0</td>\n",
       "      <td>3.0</td>\n",
       "      <td>2.0</td>\n",
       "      <td>5.0</td>\n",
       "      <td>1.0</td>\n",
       "      <td>8.0</td>\n",
       "      <td>4.0</td>\n",
       "      <td>6.0</td>\n",
       "      <td>7.0</td>\n",
       "      <td>59.0</td>\n",
       "      <td>0</td>\n",
       "    </tr>\n",
       "    <tr>\n",
       "      <th>value</th>\n",
       "      <td>3.0</td>\n",
       "      <td>5.0</td>\n",
       "      <td>4.0</td>\n",
       "      <td>6.0</td>\n",
       "      <td>1.0</td>\n",
       "      <td>2.0</td>\n",
       "      <td>8.0</td>\n",
       "      <td>9.0</td>\n",
       "      <td>7.0</td>\n",
       "      <td>59.0</td>\n",
       "      <td>0</td>\n",
       "    </tr>\n",
       "    <tr>\n",
       "      <th>value</th>\n",
       "      <td>2.0</td>\n",
       "      <td>6.0</td>\n",
       "      <td>9.0</td>\n",
       "      <td>5.0</td>\n",
       "      <td>8.0</td>\n",
       "      <td>3.0</td>\n",
       "      <td>4.0</td>\n",
       "      <td>1.0</td>\n",
       "      <td>7.0</td>\n",
       "      <td>60.0</td>\n",
       "      <td>0</td>\n",
       "    </tr>\n",
       "    <tr>\n",
       "      <th>value</th>\n",
       "      <td>8.0</td>\n",
       "      <td>1.0</td>\n",
       "      <td>5.0</td>\n",
       "      <td>4.0</td>\n",
       "      <td>6.0</td>\n",
       "      <td>2.0</td>\n",
       "      <td>7.0</td>\n",
       "      <td>9.0</td>\n",
       "      <td>3.0</td>\n",
       "      <td>60.0</td>\n",
       "      <td>0</td>\n",
       "    </tr>\n",
       "    <tr>\n",
       "      <th>value</th>\n",
       "      <td>1.0</td>\n",
       "      <td>8.0</td>\n",
       "      <td>7.0</td>\n",
       "      <td>3.0</td>\n",
       "      <td>4.0</td>\n",
       "      <td>9.0</td>\n",
       "      <td>5.0</td>\n",
       "      <td>2.0</td>\n",
       "      <td>6.0</td>\n",
       "      <td>60.0</td>\n",
       "      <td>0</td>\n",
       "    </tr>\n",
       "    <tr>\n",
       "      <th>value</th>\n",
       "      <td>8.0</td>\n",
       "      <td>9.0</td>\n",
       "      <td>4.0</td>\n",
       "      <td>1.0</td>\n",
       "      <td>3.0</td>\n",
       "      <td>2.0</td>\n",
       "      <td>6.0</td>\n",
       "      <td>5.0</td>\n",
       "      <td>7.0</td>\n",
       "      <td>60.0</td>\n",
       "      <td>0</td>\n",
       "    </tr>\n",
       "    <tr>\n",
       "      <th>value</th>\n",
       "      <td>2.0</td>\n",
       "      <td>3.0</td>\n",
       "      <td>7.0</td>\n",
       "      <td>5.0</td>\n",
       "      <td>6.0</td>\n",
       "      <td>8.0</td>\n",
       "      <td>9.0</td>\n",
       "      <td>4.0</td>\n",
       "      <td>1.0</td>\n",
       "      <td>61.0</td>\n",
       "      <td>1</td>\n",
       "    </tr>\n",
       "    <tr>\n",
       "      <th>value</th>\n",
       "      <td>3.0</td>\n",
       "      <td>9.0</td>\n",
       "      <td>5.0</td>\n",
       "      <td>6.0</td>\n",
       "      <td>2.0</td>\n",
       "      <td>8.0</td>\n",
       "      <td>7.0</td>\n",
       "      <td>1.0</td>\n",
       "      <td>4.0</td>\n",
       "      <td>61.0</td>\n",
       "      <td>1</td>\n",
       "    </tr>\n",
       "    <tr>\n",
       "      <th>value</th>\n",
       "      <td>2.0</td>\n",
       "      <td>9.0</td>\n",
       "      <td>1.0</td>\n",
       "      <td>5.0</td>\n",
       "      <td>6.0</td>\n",
       "      <td>7.0</td>\n",
       "      <td>3.0</td>\n",
       "      <td>8.0</td>\n",
       "      <td>4.0</td>\n",
       "      <td>61.0</td>\n",
       "      <td>1</td>\n",
       "    </tr>\n",
       "    <tr>\n",
       "      <th>value</th>\n",
       "      <td>8.0</td>\n",
       "      <td>6.0</td>\n",
       "      <td>2.0</td>\n",
       "      <td>7.0</td>\n",
       "      <td>3.0</td>\n",
       "      <td>1.0</td>\n",
       "      <td>9.0</td>\n",
       "      <td>4.0</td>\n",
       "      <td>5.0</td>\n",
       "      <td>62.0</td>\n",
       "      <td>1</td>\n",
       "    </tr>\n",
       "    <tr>\n",
       "      <th>value</th>\n",
       "      <td>1.0</td>\n",
       "      <td>4.0</td>\n",
       "      <td>2.0</td>\n",
       "      <td>3.0</td>\n",
       "      <td>5.0</td>\n",
       "      <td>8.0</td>\n",
       "      <td>9.0</td>\n",
       "      <td>6.0</td>\n",
       "      <td>7.0</td>\n",
       "      <td>62.0</td>\n",
       "      <td>1</td>\n",
       "    </tr>\n",
       "    <tr>\n",
       "      <th>value</th>\n",
       "      <td>7.0</td>\n",
       "      <td>2.0</td>\n",
       "      <td>3.0</td>\n",
       "      <td>8.0</td>\n",
       "      <td>9.0</td>\n",
       "      <td>5.0</td>\n",
       "      <td>1.0</td>\n",
       "      <td>6.0</td>\n",
       "      <td>4.0</td>\n",
       "      <td>62.0</td>\n",
       "      <td>1</td>\n",
       "    </tr>\n",
       "    <tr>\n",
       "      <th>value</th>\n",
       "      <td>1.0</td>\n",
       "      <td>6.0</td>\n",
       "      <td>4.0</td>\n",
       "      <td>7.0</td>\n",
       "      <td>9.0</td>\n",
       "      <td>3.0</td>\n",
       "      <td>5.0</td>\n",
       "      <td>8.0</td>\n",
       "      <td>2.0</td>\n",
       "      <td>62.0</td>\n",
       "      <td>1</td>\n",
       "    </tr>\n",
       "    <tr>\n",
       "      <th>value</th>\n",
       "      <td>3.0</td>\n",
       "      <td>9.0</td>\n",
       "      <td>6.0</td>\n",
       "      <td>1.0</td>\n",
       "      <td>4.0</td>\n",
       "      <td>8.0</td>\n",
       "      <td>2.0</td>\n",
       "      <td>7.0</td>\n",
       "      <td>5.0</td>\n",
       "      <td>62.0</td>\n",
       "      <td>1</td>\n",
       "    </tr>\n",
       "    <tr>\n",
       "      <th>value</th>\n",
       "      <td>9.0</td>\n",
       "      <td>7.0</td>\n",
       "      <td>2.0</td>\n",
       "      <td>6.0</td>\n",
       "      <td>5.0</td>\n",
       "      <td>3.0</td>\n",
       "      <td>1.0</td>\n",
       "      <td>8.0</td>\n",
       "      <td>4.0</td>\n",
       "      <td>62.0</td>\n",
       "      <td>1</td>\n",
       "    </tr>\n",
       "    <tr>\n",
       "      <th>value</th>\n",
       "      <td>4.0</td>\n",
       "      <td>2.0</td>\n",
       "      <td>7.0</td>\n",
       "      <td>8.0</td>\n",
       "      <td>6.0</td>\n",
       "      <td>1.0</td>\n",
       "      <td>5.0</td>\n",
       "      <td>9.0</td>\n",
       "      <td>3.0</td>\n",
       "      <td>63.0</td>\n",
       "      <td>1</td>\n",
       "    </tr>\n",
       "    <tr>\n",
       "      <th>value</th>\n",
       "      <td>6.0</td>\n",
       "      <td>1.0</td>\n",
       "      <td>8.0</td>\n",
       "      <td>9.0</td>\n",
       "      <td>3.0</td>\n",
       "      <td>7.0</td>\n",
       "      <td>2.0</td>\n",
       "      <td>4.0</td>\n",
       "      <td>5.0</td>\n",
       "      <td>63.0</td>\n",
       "      <td>1</td>\n",
       "    </tr>\n",
       "    <tr>\n",
       "      <th>value</th>\n",
       "      <td>5.0</td>\n",
       "      <td>6.0</td>\n",
       "      <td>3.0</td>\n",
       "      <td>4.0</td>\n",
       "      <td>2.0</td>\n",
       "      <td>1.0</td>\n",
       "      <td>8.0</td>\n",
       "      <td>7.0</td>\n",
       "      <td>9.0</td>\n",
       "      <td>63.0</td>\n",
       "      <td>1</td>\n",
       "    </tr>\n",
       "    <tr>\n",
       "      <th>value</th>\n",
       "      <td>4.0</td>\n",
       "      <td>5.0</td>\n",
       "      <td>3.0</td>\n",
       "      <td>2.0</td>\n",
       "      <td>6.0</td>\n",
       "      <td>8.0</td>\n",
       "      <td>7.0</td>\n",
       "      <td>9.0</td>\n",
       "      <td>1.0</td>\n",
       "      <td>63.0</td>\n",
       "      <td>1</td>\n",
       "    </tr>\n",
       "    <tr>\n",
       "      <th>value</th>\n",
       "      <td>1.0</td>\n",
       "      <td>7.0</td>\n",
       "      <td>2.0</td>\n",
       "      <td>9.0</td>\n",
       "      <td>4.0</td>\n",
       "      <td>8.0</td>\n",
       "      <td>5.0</td>\n",
       "      <td>6.0</td>\n",
       "      <td>3.0</td>\n",
       "      <td>63.0</td>\n",
       "      <td>1</td>\n",
       "    </tr>\n",
       "    <tr>\n",
       "      <th>value</th>\n",
       "      <td>3.0</td>\n",
       "      <td>4.0</td>\n",
       "      <td>1.0</td>\n",
       "      <td>6.0</td>\n",
       "      <td>9.0</td>\n",
       "      <td>5.0</td>\n",
       "      <td>2.0</td>\n",
       "      <td>7.0</td>\n",
       "      <td>8.0</td>\n",
       "      <td>64.0</td>\n",
       "      <td>2</td>\n",
       "    </tr>\n",
       "    <tr>\n",
       "      <th>value</th>\n",
       "      <td>5.0</td>\n",
       "      <td>1.0</td>\n",
       "      <td>3.0</td>\n",
       "      <td>2.0</td>\n",
       "      <td>6.0</td>\n",
       "      <td>8.0</td>\n",
       "      <td>7.0</td>\n",
       "      <td>4.0</td>\n",
       "      <td>9.0</td>\n",
       "      <td>64.0</td>\n",
       "      <td>2</td>\n",
       "    </tr>\n",
       "    <tr>\n",
       "      <th>value</th>\n",
       "      <td>5.0</td>\n",
       "      <td>2.0</td>\n",
       "      <td>1.0</td>\n",
       "      <td>9.0</td>\n",
       "      <td>6.0</td>\n",
       "      <td>7.0</td>\n",
       "      <td>8.0</td>\n",
       "      <td>4.0</td>\n",
       "      <td>3.0</td>\n",
       "      <td>64.0</td>\n",
       "      <td>2</td>\n",
       "    </tr>\n",
       "    <tr>\n",
       "      <th>value</th>\n",
       "      <td>2.0</td>\n",
       "      <td>5.0</td>\n",
       "      <td>1.0</td>\n",
       "      <td>9.0</td>\n",
       "      <td>3.0</td>\n",
       "      <td>6.0</td>\n",
       "      <td>4.0</td>\n",
       "      <td>7.0</td>\n",
       "      <td>8.0</td>\n",
       "      <td>64.0</td>\n",
       "      <td>2</td>\n",
       "    </tr>\n",
       "    <tr>\n",
       "      <th>value</th>\n",
       "      <td>2.0</td>\n",
       "      <td>8.0</td>\n",
       "      <td>5.0</td>\n",
       "      <td>6.0</td>\n",
       "      <td>7.0</td>\n",
       "      <td>9.0</td>\n",
       "      <td>4.0</td>\n",
       "      <td>3.0</td>\n",
       "      <td>1.0</td>\n",
       "      <td>64.0</td>\n",
       "      <td>2</td>\n",
       "    </tr>\n",
       "    <tr>\n",
       "      <th>value</th>\n",
       "      <td>5.0</td>\n",
       "      <td>2.0</td>\n",
       "      <td>1.0</td>\n",
       "      <td>3.0</td>\n",
       "      <td>7.0</td>\n",
       "      <td>4.0</td>\n",
       "      <td>6.0</td>\n",
       "      <td>9.0</td>\n",
       "      <td>8.0</td>\n",
       "      <td>64.0</td>\n",
       "      <td>2</td>\n",
       "    </tr>\n",
       "    <tr>\n",
       "      <th>value</th>\n",
       "      <td>2.0</td>\n",
       "      <td>6.0</td>\n",
       "      <td>8.0</td>\n",
       "      <td>9.0</td>\n",
       "      <td>1.0</td>\n",
       "      <td>5.0</td>\n",
       "      <td>3.0</td>\n",
       "      <td>4.0</td>\n",
       "      <td>7.0</td>\n",
       "      <td>64.0</td>\n",
       "      <td>2</td>\n",
       "    </tr>\n",
       "    <tr>\n",
       "      <th>value</th>\n",
       "      <td>6.0</td>\n",
       "      <td>1.0</td>\n",
       "      <td>2.0</td>\n",
       "      <td>9.0</td>\n",
       "      <td>8.0</td>\n",
       "      <td>4.0</td>\n",
       "      <td>3.0</td>\n",
       "      <td>5.0</td>\n",
       "      <td>7.0</td>\n",
       "      <td>64.0</td>\n",
       "      <td>2</td>\n",
       "    </tr>\n",
       "    <tr>\n",
       "      <th>value</th>\n",
       "      <td>5.0</td>\n",
       "      <td>8.0</td>\n",
       "      <td>6.0</td>\n",
       "      <td>3.0</td>\n",
       "      <td>7.0</td>\n",
       "      <td>1.0</td>\n",
       "      <td>2.0</td>\n",
       "      <td>4.0</td>\n",
       "      <td>9.0</td>\n",
       "      <td>64.0</td>\n",
       "      <td>2</td>\n",
       "    </tr>\n",
       "    <tr>\n",
       "      <th>value</th>\n",
       "      <td>7.0</td>\n",
       "      <td>6.0</td>\n",
       "      <td>5.0</td>\n",
       "      <td>3.0</td>\n",
       "      <td>9.0</td>\n",
       "      <td>8.0</td>\n",
       "      <td>1.0</td>\n",
       "      <td>2.0</td>\n",
       "      <td>4.0</td>\n",
       "      <td>65.0</td>\n",
       "      <td>2</td>\n",
       "    </tr>\n",
       "    <tr>\n",
       "      <th>value</th>\n",
       "      <td>5.0</td>\n",
       "      <td>6.0</td>\n",
       "      <td>7.0</td>\n",
       "      <td>8.0</td>\n",
       "      <td>4.0</td>\n",
       "      <td>3.0</td>\n",
       "      <td>2.0</td>\n",
       "      <td>9.0</td>\n",
       "      <td>1.0</td>\n",
       "      <td>66.0</td>\n",
       "      <td>2</td>\n",
       "    </tr>\n",
       "    <tr>\n",
       "      <th>value</th>\n",
       "      <td>4.0</td>\n",
       "      <td>7.0</td>\n",
       "      <td>3.0</td>\n",
       "      <td>6.0</td>\n",
       "      <td>2.0</td>\n",
       "      <td>1.0</td>\n",
       "      <td>5.0</td>\n",
       "      <td>8.0</td>\n",
       "      <td>9.0</td>\n",
       "      <td>66.0</td>\n",
       "      <td>2</td>\n",
       "    </tr>\n",
       "    <tr>\n",
       "      <th>value</th>\n",
       "      <td>1.0</td>\n",
       "      <td>3.0</td>\n",
       "      <td>8.0</td>\n",
       "      <td>9.0</td>\n",
       "      <td>6.0</td>\n",
       "      <td>2.0</td>\n",
       "      <td>7.0</td>\n",
       "      <td>5.0</td>\n",
       "      <td>4.0</td>\n",
       "      <td>66.0</td>\n",
       "      <td>2</td>\n",
       "    </tr>\n",
       "    <tr>\n",
       "      <th>value</th>\n",
       "      <td>3.0</td>\n",
       "      <td>1.0</td>\n",
       "      <td>4.0</td>\n",
       "      <td>9.0</td>\n",
       "      <td>2.0</td>\n",
       "      <td>6.0</td>\n",
       "      <td>7.0</td>\n",
       "      <td>5.0</td>\n",
       "      <td>8.0</td>\n",
       "      <td>67.0</td>\n",
       "      <td>2</td>\n",
       "    </tr>\n",
       "    <tr>\n",
       "      <th>value</th>\n",
       "      <td>7.0</td>\n",
       "      <td>6.0</td>\n",
       "      <td>9.0</td>\n",
       "      <td>2.0</td>\n",
       "      <td>8.0</td>\n",
       "      <td>3.0</td>\n",
       "      <td>1.0</td>\n",
       "      <td>5.0</td>\n",
       "      <td>4.0</td>\n",
       "      <td>67.0</td>\n",
       "      <td>2</td>\n",
       "    </tr>\n",
       "    <tr>\n",
       "      <th>value</th>\n",
       "      <td>7.0</td>\n",
       "      <td>6.0</td>\n",
       "      <td>2.0</td>\n",
       "      <td>5.0</td>\n",
       "      <td>4.0</td>\n",
       "      <td>8.0</td>\n",
       "      <td>1.0</td>\n",
       "      <td>3.0</td>\n",
       "      <td>9.0</td>\n",
       "      <td>67.0</td>\n",
       "      <td>2</td>\n",
       "    </tr>\n",
       "    <tr>\n",
       "      <th>value</th>\n",
       "      <td>5.0</td>\n",
       "      <td>2.0</td>\n",
       "      <td>4.0</td>\n",
       "      <td>9.0</td>\n",
       "      <td>1.0</td>\n",
       "      <td>3.0</td>\n",
       "      <td>6.0</td>\n",
       "      <td>7.0</td>\n",
       "      <td>8.0</td>\n",
       "      <td>68.0</td>\n",
       "      <td>2</td>\n",
       "    </tr>\n",
       "    <tr>\n",
       "      <th>value</th>\n",
       "      <td>3.0</td>\n",
       "      <td>7.0</td>\n",
       "      <td>9.0</td>\n",
       "      <td>1.0</td>\n",
       "      <td>5.0</td>\n",
       "      <td>8.0</td>\n",
       "      <td>4.0</td>\n",
       "      <td>6.0</td>\n",
       "      <td>2.0</td>\n",
       "      <td>68.0</td>\n",
       "      <td>2</td>\n",
       "    </tr>\n",
       "    <tr>\n",
       "      <th>value</th>\n",
       "      <td>5.0</td>\n",
       "      <td>6.0</td>\n",
       "      <td>1.0</td>\n",
       "      <td>9.0</td>\n",
       "      <td>8.0</td>\n",
       "      <td>7.0</td>\n",
       "      <td>3.0</td>\n",
       "      <td>4.0</td>\n",
       "      <td>2.0</td>\n",
       "      <td>68.0</td>\n",
       "      <td>2</td>\n",
       "    </tr>\n",
       "    <tr>\n",
       "      <th>value</th>\n",
       "      <td>1.0</td>\n",
       "      <td>3.0</td>\n",
       "      <td>7.0</td>\n",
       "      <td>8.0</td>\n",
       "      <td>4.0</td>\n",
       "      <td>2.0</td>\n",
       "      <td>5.0</td>\n",
       "      <td>6.0</td>\n",
       "      <td>9.0</td>\n",
       "      <td>71.0</td>\n",
       "      <td>2</td>\n",
       "    </tr>\n",
       "  </tbody>\n",
       "</table>\n",
       "</div>"
      ],
      "text/plain": [
       "key    t1seq  t2seq  t3seq  t4seq  t5seq  t6seq  t7seq  t8seq  t9seq     m  \\\n",
       "value    8.0    9.0    2.0    7.0    1.0    6.0    4.0    3.0    5.0  54.0   \n",
       "value    8.0    6.0    2.0    3.0    4.0    1.0    5.0    9.0    7.0  57.0   \n",
       "value    1.0    9.0    4.0    8.0    3.0    6.0    7.0    5.0    2.0  58.0   \n",
       "value    3.0    6.0    5.0    4.0    1.0    7.0    9.0    2.0    8.0  58.0   \n",
       "value    8.0    9.0    3.0    5.0    6.0    4.0    7.0    1.0    2.0  58.0   \n",
       "value    1.0    9.0    4.0    3.0    2.0    7.0    5.0    8.0    6.0  58.0   \n",
       "value    4.0    1.0    5.0    6.0    9.0    7.0    8.0    2.0    3.0  58.0   \n",
       "value    4.0    8.0    6.0    5.0    1.0    7.0    9.0    3.0    2.0  58.0   \n",
       "value    4.0    5.0    8.0    3.0    1.0    6.0    9.0    7.0    2.0  59.0   \n",
       "value    1.0    7.0    6.0    8.0    5.0    4.0    9.0    2.0    3.0  59.0   \n",
       "value    9.0    3.0    2.0    5.0    1.0    8.0    4.0    6.0    7.0  59.0   \n",
       "value    3.0    5.0    4.0    6.0    1.0    2.0    8.0    9.0    7.0  59.0   \n",
       "value    2.0    6.0    9.0    5.0    8.0    3.0    4.0    1.0    7.0  60.0   \n",
       "value    8.0    1.0    5.0    4.0    6.0    2.0    7.0    9.0    3.0  60.0   \n",
       "value    1.0    8.0    7.0    3.0    4.0    9.0    5.0    2.0    6.0  60.0   \n",
       "value    8.0    9.0    4.0    1.0    3.0    2.0    6.0    5.0    7.0  60.0   \n",
       "value    2.0    3.0    7.0    5.0    6.0    8.0    9.0    4.0    1.0  61.0   \n",
       "value    3.0    9.0    5.0    6.0    2.0    8.0    7.0    1.0    4.0  61.0   \n",
       "value    2.0    9.0    1.0    5.0    6.0    7.0    3.0    8.0    4.0  61.0   \n",
       "value    8.0    6.0    2.0    7.0    3.0    1.0    9.0    4.0    5.0  62.0   \n",
       "value    1.0    4.0    2.0    3.0    5.0    8.0    9.0    6.0    7.0  62.0   \n",
       "value    7.0    2.0    3.0    8.0    9.0    5.0    1.0    6.0    4.0  62.0   \n",
       "value    1.0    6.0    4.0    7.0    9.0    3.0    5.0    8.0    2.0  62.0   \n",
       "value    3.0    9.0    6.0    1.0    4.0    8.0    2.0    7.0    5.0  62.0   \n",
       "value    9.0    7.0    2.0    6.0    5.0    3.0    1.0    8.0    4.0  62.0   \n",
       "value    4.0    2.0    7.0    8.0    6.0    1.0    5.0    9.0    3.0  63.0   \n",
       "value    6.0    1.0    8.0    9.0    3.0    7.0    2.0    4.0    5.0  63.0   \n",
       "value    5.0    6.0    3.0    4.0    2.0    1.0    8.0    7.0    9.0  63.0   \n",
       "value    4.0    5.0    3.0    2.0    6.0    8.0    7.0    9.0    1.0  63.0   \n",
       "value    1.0    7.0    2.0    9.0    4.0    8.0    5.0    6.0    3.0  63.0   \n",
       "value    3.0    4.0    1.0    6.0    9.0    5.0    2.0    7.0    8.0  64.0   \n",
       "value    5.0    1.0    3.0    2.0    6.0    8.0    7.0    4.0    9.0  64.0   \n",
       "value    5.0    2.0    1.0    9.0    6.0    7.0    8.0    4.0    3.0  64.0   \n",
       "value    2.0    5.0    1.0    9.0    3.0    6.0    4.0    7.0    8.0  64.0   \n",
       "value    2.0    8.0    5.0    6.0    7.0    9.0    4.0    3.0    1.0  64.0   \n",
       "value    5.0    2.0    1.0    3.0    7.0    4.0    6.0    9.0    8.0  64.0   \n",
       "value    2.0    6.0    8.0    9.0    1.0    5.0    3.0    4.0    7.0  64.0   \n",
       "value    6.0    1.0    2.0    9.0    8.0    4.0    3.0    5.0    7.0  64.0   \n",
       "value    5.0    8.0    6.0    3.0    7.0    1.0    2.0    4.0    9.0  64.0   \n",
       "value    7.0    6.0    5.0    3.0    9.0    8.0    1.0    2.0    4.0  65.0   \n",
       "value    5.0    6.0    7.0    8.0    4.0    3.0    2.0    9.0    1.0  66.0   \n",
       "value    4.0    7.0    3.0    6.0    2.0    1.0    5.0    8.0    9.0  66.0   \n",
       "value    1.0    3.0    8.0    9.0    6.0    2.0    7.0    5.0    4.0  66.0   \n",
       "value    3.0    1.0    4.0    9.0    2.0    6.0    7.0    5.0    8.0  67.0   \n",
       "value    7.0    6.0    9.0    2.0    8.0    3.0    1.0    5.0    4.0  67.0   \n",
       "value    7.0    6.0    2.0    5.0    4.0    8.0    1.0    3.0    9.0  67.0   \n",
       "value    5.0    2.0    4.0    9.0    1.0    3.0    6.0    7.0    8.0  68.0   \n",
       "value    3.0    7.0    9.0    1.0    5.0    8.0    4.0    6.0    2.0  68.0   \n",
       "value    5.0    6.0    1.0    9.0    8.0    7.0    3.0    4.0    2.0  68.0   \n",
       "value    1.0    3.0    7.0    8.0    4.0    2.0    5.0    6.0    9.0  71.0   \n",
       "\n",
       "key    class  \n",
       "value      0  \n",
       "value      0  \n",
       "value      0  \n",
       "value      0  \n",
       "value      0  \n",
       "value      0  \n",
       "value      0  \n",
       "value      0  \n",
       "value      0  \n",
       "value      0  \n",
       "value      0  \n",
       "value      0  \n",
       "value      0  \n",
       "value      0  \n",
       "value      0  \n",
       "value      0  \n",
       "value      1  \n",
       "value      1  \n",
       "value      1  \n",
       "value      1  \n",
       "value      1  \n",
       "value      1  \n",
       "value      1  \n",
       "value      1  \n",
       "value      1  \n",
       "value      1  \n",
       "value      1  \n",
       "value      1  \n",
       "value      1  \n",
       "value      1  \n",
       "value      2  \n",
       "value      2  \n",
       "value      2  \n",
       "value      2  \n",
       "value      2  \n",
       "value      2  \n",
       "value      2  \n",
       "value      2  \n",
       "value      2  \n",
       "value      2  \n",
       "value      2  \n",
       "value      2  \n",
       "value      2  \n",
       "value      2  \n",
       "value      2  \n",
       "value      2  \n",
       "value      2  \n",
       "value      2  \n",
       "value      2  \n",
       "value      2  "
      ]
     },
     "execution_count": 412,
     "metadata": {},
     "output_type": "execute_result"
    }
   ],
   "source": [
    "df_all.iloc[:, 36:]"
   ]
  },
  {
   "cell_type": "code",
   "execution_count": 414,
   "metadata": {},
   "outputs": [
    {
     "data": {
      "text/plain": [
       "<Figure size 640x480 with 0 Axes>"
      ]
     },
     "metadata": {},
     "output_type": "display_data"
    },
    {
     "data": {
      "image/png": "[encoded data removed]",
      "text/plain": [
       "<Figure size 1080x1080 with 1 Axes>"
      ]
     },
     "metadata": {
      "needs_background": "light"
     },
     "output_type": "display_data"
    }
   ],
   "source": [
    "import numpy as np\n",
    "import matplotlib.pyplot as plt\n",
    "\n",
    "#https://stackoverflow.com/questions/20224526/how-to-extract-the-decision-rules-from-scikit-learn-decision-tree\n",
    "#https://github.com/nok/sklearn-porter\n",
    "\n",
    "from sklearn.datasets import load_iris\n",
    "from sklearn.tree import DecisionTreeClassifier, plot_tree\n",
    "feature_names = df_all.columns[36:-2]\n",
    "\n",
    "X = df_all.iloc[:,36:-2].values\n",
    "y = df_all.iloc[:,-1].values\n",
    "clf = DecisionTreeClassifier(max_depth=3).fit(X, y)\n",
    "plt.figure(num=None, figsize=(8, 6), dpi=80, facecolor='w', edgecolor='k')\n",
    "plt.figure(figsize=(15,15))\n",
    "plot_tree(clf, filled=True, feature_names = feature_names, class_names=['P33','P67','P100'])\n",
    "plt.show()"
   ]
  },
  {
   "cell_type": "code",
   "execution_count": 491,
   "metadata": {},
   "outputs": [
    {
     "data": {
      "text/plain": [
       "array([[1, 2, 3, 4, 5, 6, 7, 8, 9],\n",
       "       [1, 2, 3, 4, 5, 6, 7, 8, 9],\n",
       "       [1, 2, 3, 4, 5, 6, 7, 8, 9],\n",
       "       [1, 2, 3, 4, 5, 6, 7, 8, 9],\n",
       "       [1, 2, 3, 4, 5, 6, 7, 8, 9],\n",
       "       [1, 2, 3, 4, 5, 6, 7, 0, 0],\n",
       "       [0, 0, 0, 4, 5, 6, 7, 8, 9],\n",
       "       [1, 2, 3, 4, 5, 6, 7, 8, 9],\n",
       "       [1, 2, 3, 4, 5, 6, 7, 0, 0]])"
      ]
     },
     "execution_count": 491,
     "metadata": {},
     "output_type": "execute_result"
    }
   ],
   "source": [
    "#clf.tree_.node_count\n",
    "#dir(clf.tree_) #.children_left)\n",
    "#clf.tree_.value\n",
    "#x = [ np.where(sc==[i])[0][0]+1 for i in range(1,10)]\n",
    "#sc,x\n",
    "#clf.tree_.node_count\n",
    "#n_nodes = estimator.tree_.node_count\n",
    "nt = 9\n",
    "domain = np.array([ [i for i in range(1, nt+1)] for i in range(nt)])\n",
    "def restrict_domain(decision_tree, domain):\n",
    "    initital_domain = domain.copy()\n",
    "    left = decision_tree.tree_.children_left\n",
    "    right = decision_tree.tree_.children_right\n",
    "    feature = decision_tree.tree_.feature\n",
    "    threshold = decision_tree.tree_.threshold\n",
    "    value = decision_tree.tree_.value\n",
    "    samples = sum(value[0][0])\n",
    "    odd = np.array(list(map(lambda x: x[0][0]/(sum(x[0][1:])+1),value)))\n",
    "    sam_sub = np.array(list(map(lambda x: sum(x[0])/samples,value)))\n",
    "    of = odd*sam2\n",
    "    node = np.where(of == of.max())[0]\n",
    "    while len(node) > 0:\n",
    "        #Verifica se é esquerda de alguém\n",
    "        node_left = np.where(left == node[0])[0]\n",
    "        #Verifica se é direita de alguém\n",
    "        node_right = np.where(right == node[0])[0]\n",
    "        if len(node_left)>0:\n",
    "            #Se é esquerda de alguém então <=\n",
    "            node = node_left\n",
    "            task = feature[node[0]]\n",
    "            limit = int(threshold[node[0]])\n",
    "            initial_domain[task,limit:] = 0\n",
    "        elif len(node_right)>0:\n",
    "            #Se é direita de alguém então >= \n",
    "            node = node_right\n",
    "            task = feature[node[0]]\n",
    "            limit = int(threshold[node[0]])\n",
    "            initial_domain[task,:limit] = 0\n",
    "        else:\n",
    "            node = np.array([])\n",
    "    return initial_domain\n",
    "        \n",
    "restrict_domain(clf, domain)\n",
    "\n",
    "\n",
    "#list(map(lambda x: x[0][0]*sum(x[0])/(sum(x[0][1:])*samples),value))\n"
   ]
  },
  {
   "cell_type": "code",
   "execution_count": 223,
   "metadata": {},
   "outputs": [
    {
     "name": "stdout",
     "output_type": "stream",
     "text": [
      "def tree(t1m1, t2m1, t3m1, t4m1, t5m1, t6m1, t7m1, t8m1, t9m1, t1m2, t2m2, t3m2, t4m2, t5m2, t6m2, t7m2, t8m2, t9m2, t1m3, t2m3, t3m3, t4m3, t5m3, t6m3, t7m3, t8m3, t9m3, t1m4, t2m4, t3m4, t4m4, t5m4, t6m4, t7m4, t8m4, t9m4, t1seq, t2seq, t3seq, t4seq, t5seq, t6seq, t7seq, t8seq, t9seq)\n",
      "  if t5seq <= 1.5:\n",
      "    if t7seq <= 7.5:\n",
      "      return [[0. 0. 6.]]\n",
      "    else:  # if t7seq > 7.5\n",
      "      if t8seq <= 8.0:\n",
      "        return [[0. 1. 0.]]\n",
      "      else:  # if t8seq > 8.0\n",
      "        return [[0. 0. 1.]]\n",
      "  else:  # if t5seq > 1.5\n",
      "    if t4seq <= 7.5:\n",
      "      if t9seq <= 8.5:\n",
      "        if t8seq <= 4.5:\n",
      "          if t2seq <= 2.5:\n",
      "            if t8seq <= 3.0:\n",
      "              return [[0. 0. 1.]]\n",
      "            else:  # if t8seq > 3.0\n",
      "              return [[0. 1. 0.]]\n",
      "          else:  # if t2seq > 2.5\n",
      "            return [[10.  0.  0.]]\n",
      "        else:  # if t8seq > 4.5\n",
      "          if t5seq <= 4.5:\n",
      "            if t1seq <= 8.5:\n",
      "              if t5seq <= 2.5:\n",
      "                if t2seq <= 3.5:\n",
      "                  return [[0. 0. 1.]]\n",
      "                else:  # if t2seq > 3.5\n",
      "                  return [[1. 0. 0.]]\n",
      "              else:  # if t5seq > 2.5\n",
      "                return [[4. 0. 0.]]\n",
      "            else:  # if t1seq > 8.5\n",
      "              return [[0. 1. 0.]]\n",
      "          else:  # if t5seq > 4.5\n",
      "            if t1seq <= 1.5:\n",
      "              if t6seq <= 8.5:\n",
      "                return [[0. 3. 0.]]\n",
      "              else:  # if t6seq > 8.5\n",
      "                return [[1. 0. 0.]]\n",
      "            else:  # if t1seq > 1.5\n",
      "              if t9seq <= 2.5:\n",
      "                return [[0. 1. 0.]]\n",
      "              else:  # if t9seq > 2.5\n",
      "                return [[0. 0. 4.]]\n",
      "      else:  # if t9seq > 8.5\n",
      "        return [[0. 0. 3.]]\n",
      "    else:  # if t4seq > 7.5\n",
      "      if t9seq <= 2.5:\n",
      "        return [[0. 3. 0.]]\n",
      "      else:  # if t9seq > 2.5\n",
      "        if t3seq <= 5.5:\n",
      "          if t4seq <= 8.5:\n",
      "            return [[0. 3. 0.]]\n",
      "          else:  # if t4seq > 8.5\n",
      "            if t6seq <= 6.5:\n",
      "              return [[0. 0. 2.]]\n",
      "            else:  # if t6seq > 6.5\n",
      "              return [[0. 1. 0.]]\n",
      "        else:  # if t3seq > 5.5\n",
      "          return [[0. 0. 2.]]\n"
     ]
    }
   ],
   "source": [
    "from sklearn.tree import _tree\n",
    "\n",
    "def tree_to_code(tree, feature_names=''):\n",
    "    tree_ = tree.tree_\n",
    "    feature_name = [\n",
    "        feature_names[i] if i != _tree.TREE_UNDEFINED else \"undefined!\"\n",
    "        for i in tree_.feature\n",
    "    ]\n",
    "    print(\"def tree({})\".format(\", \".join(feature_names)))\n",
    "\n",
    "    def recurse(node, depth):\n",
    "        indent = \"  \" * depth\n",
    "        if tree_.feature[node] != _tree.TREE_UNDEFINED:\n",
    "            name = feature_name[node]\n",
    "            threshold = tree_.threshold[node]\n",
    "            score = threshold[0]/threshold.sum()\n",
    "            print(\"{}if {} <= {}:\".format(indent, name, threshold))\n",
    "            recurse(tree_.children_left[node], depth + 1)\n",
    "            print(\"{}else:  # if {} > {}\".format(indent, name, threshold))\n",
    "            recurse(tree_.children_right[node], depth + 1)\n",
    "        else:\n",
    "            print(\"{}return {}\".format(indent, tree_.value[node]))\n",
    "\n",
    "    recurse(0, 1)\n",
    "    \n",
    "    \n"
   ]
  },
  {
   "cell_type": "code",
   "execution_count": 404,
   "metadata": {},
   "outputs": [
    {
     "data": {
      "text/plain": [
       "array([ 7.5,  3.5,  6.5, -2. , -2. ,  7.5, -2. , -2. ,  7.5, -2. ,  4.5,\n",
       "       -2. , -2. ])"
      ]
     },
     "execution_count": 404,
     "metadata": {},
     "output_type": "execute_result"
    }
   ],
   "source": [
    "from sklearn.tree import export_text\n",
    "clf.tree_.threshold"
   ]
  },
  {
   "cell_type": "code",
   "execution_count": 197,
   "metadata": {},
   "outputs": [
    {
     "data": {
      "text/html": [
       "<div>\n",
       "<style scoped>\n",
       "    .dataframe tbody tr th:only-of-type {\n",
       "        vertical-align: middle;\n",
       "    }\n",
       "\n",
       "    .dataframe tbody tr th {\n",
       "        vertical-align: top;\n",
       "    }\n",
       "\n",
       "    .dataframe thead th {\n",
       "        text-align: right;\n",
       "    }\n",
       "</style>\n",
       "<table border=\"1\" class=\"dataframe\">\n",
       "  <thead>\n",
       "    <tr style=\"text-align: right;\">\n",
       "      <th>key</th>\n",
       "      <th>t1seq</th>\n",
       "      <th>t2seq</th>\n",
       "      <th>t3seq</th>\n",
       "      <th>t4seq</th>\n",
       "      <th>t5seq</th>\n",
       "      <th>t6seq</th>\n",
       "      <th>t7seq</th>\n",
       "      <th>t8seq</th>\n",
       "      <th>t9seq</th>\n",
       "      <th>m</th>\n",
       "      <th>class</th>\n",
       "    </tr>\n",
       "  </thead>\n",
       "  <tbody>\n",
       "    <tr>\n",
       "      <th>value</th>\n",
       "      <td>5.0</td>\n",
       "      <td>3.0</td>\n",
       "      <td>8.0</td>\n",
       "      <td>7.0</td>\n",
       "      <td>9.0</td>\n",
       "      <td>6.0</td>\n",
       "      <td>4.0</td>\n",
       "      <td>1.0</td>\n",
       "      <td>2.0</td>\n",
       "      <td>54.0</td>\n",
       "      <td>0</td>\n",
       "    </tr>\n",
       "    <tr>\n",
       "      <th>value</th>\n",
       "      <td>6.0</td>\n",
       "      <td>3.0</td>\n",
       "      <td>4.0</td>\n",
       "      <td>5.0</td>\n",
       "      <td>7.0</td>\n",
       "      <td>2.0</td>\n",
       "      <td>9.0</td>\n",
       "      <td>1.0</td>\n",
       "      <td>8.0</td>\n",
       "      <td>57.0</td>\n",
       "      <td>0</td>\n",
       "    </tr>\n",
       "    <tr>\n",
       "      <th>value</th>\n",
       "      <td>1.0</td>\n",
       "      <td>9.0</td>\n",
       "      <td>5.0</td>\n",
       "      <td>3.0</td>\n",
       "      <td>8.0</td>\n",
       "      <td>6.0</td>\n",
       "      <td>7.0</td>\n",
       "      <td>4.0</td>\n",
       "      <td>2.0</td>\n",
       "      <td>58.0</td>\n",
       "      <td>0</td>\n",
       "    </tr>\n",
       "    <tr>\n",
       "      <th>value</th>\n",
       "      <td>5.0</td>\n",
       "      <td>8.0</td>\n",
       "      <td>1.0</td>\n",
       "      <td>4.0</td>\n",
       "      <td>3.0</td>\n",
       "      <td>2.0</td>\n",
       "      <td>6.0</td>\n",
       "      <td>9.0</td>\n",
       "      <td>7.0</td>\n",
       "      <td>58.0</td>\n",
       "      <td>0</td>\n",
       "    </tr>\n",
       "    <tr>\n",
       "      <th>value</th>\n",
       "      <td>8.0</td>\n",
       "      <td>9.0</td>\n",
       "      <td>3.0</td>\n",
       "      <td>6.0</td>\n",
       "      <td>4.0</td>\n",
       "      <td>5.0</td>\n",
       "      <td>7.0</td>\n",
       "      <td>1.0</td>\n",
       "      <td>2.0</td>\n",
       "      <td>58.0</td>\n",
       "      <td>0</td>\n",
       "    </tr>\n",
       "    <tr>\n",
       "      <th>value</th>\n",
       "      <td>1.0</td>\n",
       "      <td>5.0</td>\n",
       "      <td>4.0</td>\n",
       "      <td>3.0</td>\n",
       "      <td>7.0</td>\n",
       "      <td>9.0</td>\n",
       "      <td>6.0</td>\n",
       "      <td>8.0</td>\n",
       "      <td>2.0</td>\n",
       "      <td>58.0</td>\n",
       "      <td>0</td>\n",
       "    </tr>\n",
       "    <tr>\n",
       "      <th>value</th>\n",
       "      <td>2.0</td>\n",
       "      <td>8.0</td>\n",
       "      <td>9.0</td>\n",
       "      <td>1.0</td>\n",
       "      <td>3.0</td>\n",
       "      <td>4.0</td>\n",
       "      <td>6.0</td>\n",
       "      <td>7.0</td>\n",
       "      <td>5.0</td>\n",
       "      <td>58.0</td>\n",
       "      <td>0</td>\n",
       "    </tr>\n",
       "    <tr>\n",
       "      <th>value</th>\n",
       "      <td>5.0</td>\n",
       "      <td>9.0</td>\n",
       "      <td>8.0</td>\n",
       "      <td>1.0</td>\n",
       "      <td>4.0</td>\n",
       "      <td>3.0</td>\n",
       "      <td>6.0</td>\n",
       "      <td>2.0</td>\n",
       "      <td>7.0</td>\n",
       "      <td>58.0</td>\n",
       "      <td>0</td>\n",
       "    </tr>\n",
       "    <tr>\n",
       "      <th>value</th>\n",
       "      <td>5.0</td>\n",
       "      <td>9.0</td>\n",
       "      <td>4.0</td>\n",
       "      <td>1.0</td>\n",
       "      <td>2.0</td>\n",
       "      <td>6.0</td>\n",
       "      <td>8.0</td>\n",
       "      <td>3.0</td>\n",
       "      <td>7.0</td>\n",
       "      <td>59.0</td>\n",
       "      <td>0</td>\n",
       "    </tr>\n",
       "    <tr>\n",
       "      <th>value</th>\n",
       "      <td>1.0</td>\n",
       "      <td>8.0</td>\n",
       "      <td>9.0</td>\n",
       "      <td>6.0</td>\n",
       "      <td>5.0</td>\n",
       "      <td>3.0</td>\n",
       "      <td>2.0</td>\n",
       "      <td>4.0</td>\n",
       "      <td>7.0</td>\n",
       "      <td>59.0</td>\n",
       "      <td>0</td>\n",
       "    </tr>\n",
       "    <tr>\n",
       "      <th>value</th>\n",
       "      <td>5.0</td>\n",
       "      <td>3.0</td>\n",
       "      <td>2.0</td>\n",
       "      <td>7.0</td>\n",
       "      <td>4.0</td>\n",
       "      <td>8.0</td>\n",
       "      <td>9.0</td>\n",
       "      <td>6.0</td>\n",
       "      <td>1.0</td>\n",
       "      <td>59.0</td>\n",
       "      <td>0</td>\n",
       "    </tr>\n",
       "    <tr>\n",
       "      <th>value</th>\n",
       "      <td>5.0</td>\n",
       "      <td>6.0</td>\n",
       "      <td>1.0</td>\n",
       "      <td>3.0</td>\n",
       "      <td>2.0</td>\n",
       "      <td>4.0</td>\n",
       "      <td>9.0</td>\n",
       "      <td>7.0</td>\n",
       "      <td>8.0</td>\n",
       "      <td>59.0</td>\n",
       "      <td>0</td>\n",
       "    </tr>\n",
       "    <tr>\n",
       "      <th>value</th>\n",
       "      <td>8.0</td>\n",
       "      <td>1.0</td>\n",
       "      <td>6.0</td>\n",
       "      <td>7.0</td>\n",
       "      <td>4.0</td>\n",
       "      <td>2.0</td>\n",
       "      <td>9.0</td>\n",
       "      <td>5.0</td>\n",
       "      <td>3.0</td>\n",
       "      <td>60.0</td>\n",
       "      <td>0</td>\n",
       "    </tr>\n",
       "    <tr>\n",
       "      <th>value</th>\n",
       "      <td>2.0</td>\n",
       "      <td>6.0</td>\n",
       "      <td>9.0</td>\n",
       "      <td>4.0</td>\n",
       "      <td>3.0</td>\n",
       "      <td>5.0</td>\n",
       "      <td>7.0</td>\n",
       "      <td>1.0</td>\n",
       "      <td>8.0</td>\n",
       "      <td>60.0</td>\n",
       "      <td>0</td>\n",
       "    </tr>\n",
       "    <tr>\n",
       "      <th>value</th>\n",
       "      <td>1.0</td>\n",
       "      <td>8.0</td>\n",
       "      <td>4.0</td>\n",
       "      <td>5.0</td>\n",
       "      <td>7.0</td>\n",
       "      <td>9.0</td>\n",
       "      <td>3.0</td>\n",
       "      <td>2.0</td>\n",
       "      <td>6.0</td>\n",
       "      <td>60.0</td>\n",
       "      <td>0</td>\n",
       "    </tr>\n",
       "    <tr>\n",
       "      <th>value</th>\n",
       "      <td>4.0</td>\n",
       "      <td>6.0</td>\n",
       "      <td>5.0</td>\n",
       "      <td>3.0</td>\n",
       "      <td>8.0</td>\n",
       "      <td>7.0</td>\n",
       "      <td>9.0</td>\n",
       "      <td>1.0</td>\n",
       "      <td>2.0</td>\n",
       "      <td>60.0</td>\n",
       "      <td>0</td>\n",
       "    </tr>\n",
       "    <tr>\n",
       "      <th>value</th>\n",
       "      <td>9.0</td>\n",
       "      <td>1.0</td>\n",
       "      <td>2.0</td>\n",
       "      <td>8.0</td>\n",
       "      <td>4.0</td>\n",
       "      <td>5.0</td>\n",
       "      <td>3.0</td>\n",
       "      <td>6.0</td>\n",
       "      <td>7.0</td>\n",
       "      <td>61.0</td>\n",
       "      <td>1</td>\n",
       "    </tr>\n",
       "    <tr>\n",
       "      <th>value</th>\n",
       "      <td>8.0</td>\n",
       "      <td>5.0</td>\n",
       "      <td>1.0</td>\n",
       "      <td>9.0</td>\n",
       "      <td>3.0</td>\n",
       "      <td>4.0</td>\n",
       "      <td>7.0</td>\n",
       "      <td>6.0</td>\n",
       "      <td>2.0</td>\n",
       "      <td>61.0</td>\n",
       "      <td>1</td>\n",
       "    </tr>\n",
       "    <tr>\n",
       "      <th>value</th>\n",
       "      <td>3.0</td>\n",
       "      <td>1.0</td>\n",
       "      <td>7.0</td>\n",
       "      <td>9.0</td>\n",
       "      <td>4.0</td>\n",
       "      <td>5.0</td>\n",
       "      <td>6.0</td>\n",
       "      <td>8.0</td>\n",
       "      <td>2.0</td>\n",
       "      <td>61.0</td>\n",
       "      <td>1</td>\n",
       "    </tr>\n",
       "    <tr>\n",
       "      <th>value</th>\n",
       "      <td>6.0</td>\n",
       "      <td>3.0</td>\n",
       "      <td>5.0</td>\n",
       "      <td>8.0</td>\n",
       "      <td>9.0</td>\n",
       "      <td>2.0</td>\n",
       "      <td>4.0</td>\n",
       "      <td>1.0</td>\n",
       "      <td>7.0</td>\n",
       "      <td>62.0</td>\n",
       "      <td>1</td>\n",
       "    </tr>\n",
       "    <tr>\n",
       "      <th>value</th>\n",
       "      <td>1.0</td>\n",
       "      <td>3.0</td>\n",
       "      <td>4.0</td>\n",
       "      <td>2.0</td>\n",
       "      <td>5.0</td>\n",
       "      <td>8.0</td>\n",
       "      <td>9.0</td>\n",
       "      <td>6.0</td>\n",
       "      <td>7.0</td>\n",
       "      <td>62.0</td>\n",
       "      <td>1</td>\n",
       "    </tr>\n",
       "    <tr>\n",
       "      <th>value</th>\n",
       "      <td>7.0</td>\n",
       "      <td>2.0</td>\n",
       "      <td>3.0</td>\n",
       "      <td>9.0</td>\n",
       "      <td>6.0</td>\n",
       "      <td>8.0</td>\n",
       "      <td>1.0</td>\n",
       "      <td>4.0</td>\n",
       "      <td>5.0</td>\n",
       "      <td>62.0</td>\n",
       "      <td>1</td>\n",
       "    </tr>\n",
       "    <tr>\n",
       "      <th>value</th>\n",
       "      <td>1.0</td>\n",
       "      <td>9.0</td>\n",
       "      <td>6.0</td>\n",
       "      <td>3.0</td>\n",
       "      <td>7.0</td>\n",
       "      <td>2.0</td>\n",
       "      <td>4.0</td>\n",
       "      <td>8.0</td>\n",
       "      <td>5.0</td>\n",
       "      <td>62.0</td>\n",
       "      <td>1</td>\n",
       "    </tr>\n",
       "    <tr>\n",
       "      <th>value</th>\n",
       "      <td>4.0</td>\n",
       "      <td>7.0</td>\n",
       "      <td>1.0</td>\n",
       "      <td>5.0</td>\n",
       "      <td>9.0</td>\n",
       "      <td>3.0</td>\n",
       "      <td>8.0</td>\n",
       "      <td>6.0</td>\n",
       "      <td>2.0</td>\n",
       "      <td>62.0</td>\n",
       "      <td>1</td>\n",
       "    </tr>\n",
       "    <tr>\n",
       "      <th>value</th>\n",
       "      <td>7.0</td>\n",
       "      <td>3.0</td>\n",
       "      <td>6.0</td>\n",
       "      <td>9.0</td>\n",
       "      <td>5.0</td>\n",
       "      <td>4.0</td>\n",
       "      <td>2.0</td>\n",
       "      <td>8.0</td>\n",
       "      <td>1.0</td>\n",
       "      <td>62.0</td>\n",
       "      <td>1</td>\n",
       "    </tr>\n",
       "    <tr>\n",
       "      <th>value</th>\n",
       "      <td>6.0</td>\n",
       "      <td>2.0</td>\n",
       "      <td>9.0</td>\n",
       "      <td>1.0</td>\n",
       "      <td>7.0</td>\n",
       "      <td>5.0</td>\n",
       "      <td>3.0</td>\n",
       "      <td>4.0</td>\n",
       "      <td>8.0</td>\n",
       "      <td>63.0</td>\n",
       "      <td>1</td>\n",
       "    </tr>\n",
       "    <tr>\n",
       "      <th>value</th>\n",
       "      <td>2.0</td>\n",
       "      <td>7.0</td>\n",
       "      <td>5.0</td>\n",
       "      <td>8.0</td>\n",
       "      <td>9.0</td>\n",
       "      <td>1.0</td>\n",
       "      <td>6.0</td>\n",
       "      <td>3.0</td>\n",
       "      <td>4.0</td>\n",
       "      <td>63.0</td>\n",
       "      <td>1</td>\n",
       "    </tr>\n",
       "    <tr>\n",
       "      <th>value</th>\n",
       "      <td>6.0</td>\n",
       "      <td>5.0</td>\n",
       "      <td>3.0</td>\n",
       "      <td>4.0</td>\n",
       "      <td>1.0</td>\n",
       "      <td>2.0</td>\n",
       "      <td>8.0</td>\n",
       "      <td>7.0</td>\n",
       "      <td>9.0</td>\n",
       "      <td>63.0</td>\n",
       "      <td>1</td>\n",
       "    </tr>\n",
       "    <tr>\n",
       "      <th>value</th>\n",
       "      <td>9.0</td>\n",
       "      <td>4.0</td>\n",
       "      <td>3.0</td>\n",
       "      <td>1.0</td>\n",
       "      <td>2.0</td>\n",
       "      <td>5.0</td>\n",
       "      <td>7.0</td>\n",
       "      <td>6.0</td>\n",
       "      <td>8.0</td>\n",
       "      <td>63.0</td>\n",
       "      <td>1</td>\n",
       "    </tr>\n",
       "    <tr>\n",
       "      <th>value</th>\n",
       "      <td>1.0</td>\n",
       "      <td>3.0</td>\n",
       "      <td>9.0</td>\n",
       "      <td>5.0</td>\n",
       "      <td>7.0</td>\n",
       "      <td>8.0</td>\n",
       "      <td>2.0</td>\n",
       "      <td>6.0</td>\n",
       "      <td>4.0</td>\n",
       "      <td>63.0</td>\n",
       "      <td>1</td>\n",
       "    </tr>\n",
       "    <tr>\n",
       "      <th>value</th>\n",
       "      <td>3.0</td>\n",
       "      <td>7.0</td>\n",
       "      <td>1.0</td>\n",
       "      <td>2.0</td>\n",
       "      <td>6.0</td>\n",
       "      <td>4.0</td>\n",
       "      <td>8.0</td>\n",
       "      <td>9.0</td>\n",
       "      <td>5.0</td>\n",
       "      <td>64.0</td>\n",
       "      <td>2</td>\n",
       "    </tr>\n",
       "    <tr>\n",
       "      <th>value</th>\n",
       "      <td>2.0</td>\n",
       "      <td>4.0</td>\n",
       "      <td>3.0</td>\n",
       "      <td>8.0</td>\n",
       "      <td>1.0</td>\n",
       "      <td>5.0</td>\n",
       "      <td>7.0</td>\n",
       "      <td>6.0</td>\n",
       "      <td>9.0</td>\n",
       "      <td>64.0</td>\n",
       "      <td>2</td>\n",
       "    </tr>\n",
       "    <tr>\n",
       "      <th>value</th>\n",
       "      <td>3.0</td>\n",
       "      <td>2.0</td>\n",
       "      <td>9.0</td>\n",
       "      <td>8.0</td>\n",
       "      <td>1.0</td>\n",
       "      <td>5.0</td>\n",
       "      <td>6.0</td>\n",
       "      <td>7.0</td>\n",
       "      <td>4.0</td>\n",
       "      <td>64.0</td>\n",
       "      <td>2</td>\n",
       "    </tr>\n",
       "    <tr>\n",
       "      <th>value</th>\n",
       "      <td>3.0</td>\n",
       "      <td>1.0</td>\n",
       "      <td>5.0</td>\n",
       "      <td>7.0</td>\n",
       "      <td>2.0</td>\n",
       "      <td>6.0</td>\n",
       "      <td>8.0</td>\n",
       "      <td>9.0</td>\n",
       "      <td>4.0</td>\n",
       "      <td>64.0</td>\n",
       "      <td>2</td>\n",
       "    </tr>\n",
       "    <tr>\n",
       "      <th>value</th>\n",
       "      <td>9.0</td>\n",
       "      <td>1.0</td>\n",
       "      <td>8.0</td>\n",
       "      <td>7.0</td>\n",
       "      <td>3.0</td>\n",
       "      <td>4.0</td>\n",
       "      <td>5.0</td>\n",
       "      <td>2.0</td>\n",
       "      <td>6.0</td>\n",
       "      <td>64.0</td>\n",
       "      <td>2</td>\n",
       "    </tr>\n",
       "    <tr>\n",
       "      <th>value</th>\n",
       "      <td>3.0</td>\n",
       "      <td>2.0</td>\n",
       "      <td>4.0</td>\n",
       "      <td>6.0</td>\n",
       "      <td>1.0</td>\n",
       "      <td>7.0</td>\n",
       "      <td>5.0</td>\n",
       "      <td>9.0</td>\n",
       "      <td>8.0</td>\n",
       "      <td>64.0</td>\n",
       "      <td>2</td>\n",
       "    </tr>\n",
       "    <tr>\n",
       "      <th>value</th>\n",
       "      <td>5.0</td>\n",
       "      <td>1.0</td>\n",
       "      <td>7.0</td>\n",
       "      <td>8.0</td>\n",
       "      <td>6.0</td>\n",
       "      <td>2.0</td>\n",
       "      <td>9.0</td>\n",
       "      <td>3.0</td>\n",
       "      <td>4.0</td>\n",
       "      <td>64.0</td>\n",
       "      <td>2</td>\n",
       "    </tr>\n",
       "    <tr>\n",
       "      <th>value</th>\n",
       "      <td>2.0</td>\n",
       "      <td>3.0</td>\n",
       "      <td>7.0</td>\n",
       "      <td>6.0</td>\n",
       "      <td>8.0</td>\n",
       "      <td>1.0</td>\n",
       "      <td>9.0</td>\n",
       "      <td>5.0</td>\n",
       "      <td>4.0</td>\n",
       "      <td>64.0</td>\n",
       "      <td>2</td>\n",
       "    </tr>\n",
       "    <tr>\n",
       "      <th>value</th>\n",
       "      <td>6.0</td>\n",
       "      <td>7.0</td>\n",
       "      <td>4.0</td>\n",
       "      <td>8.0</td>\n",
       "      <td>1.0</td>\n",
       "      <td>3.0</td>\n",
       "      <td>5.0</td>\n",
       "      <td>2.0</td>\n",
       "      <td>9.0</td>\n",
       "      <td>64.0</td>\n",
       "      <td>2</td>\n",
       "    </tr>\n",
       "    <tr>\n",
       "      <th>value</th>\n",
       "      <td>7.0</td>\n",
       "      <td>8.0</td>\n",
       "      <td>4.0</td>\n",
       "      <td>9.0</td>\n",
       "      <td>3.0</td>\n",
       "      <td>2.0</td>\n",
       "      <td>1.0</td>\n",
       "      <td>6.0</td>\n",
       "      <td>5.0</td>\n",
       "      <td>65.0</td>\n",
       "      <td>2</td>\n",
       "    </tr>\n",
       "    <tr>\n",
       "      <th>value</th>\n",
       "      <td>9.0</td>\n",
       "      <td>7.0</td>\n",
       "      <td>6.0</td>\n",
       "      <td>5.0</td>\n",
       "      <td>1.0</td>\n",
       "      <td>2.0</td>\n",
       "      <td>3.0</td>\n",
       "      <td>4.0</td>\n",
       "      <td>8.0</td>\n",
       "      <td>66.0</td>\n",
       "      <td>2</td>\n",
       "    </tr>\n",
       "    <tr>\n",
       "      <th>value</th>\n",
       "      <td>6.0</td>\n",
       "      <td>5.0</td>\n",
       "      <td>3.0</td>\n",
       "      <td>1.0</td>\n",
       "      <td>7.0</td>\n",
       "      <td>4.0</td>\n",
       "      <td>2.0</td>\n",
       "      <td>8.0</td>\n",
       "      <td>9.0</td>\n",
       "      <td>66.0</td>\n",
       "      <td>2</td>\n",
       "    </tr>\n",
       "    <tr>\n",
       "      <th>value</th>\n",
       "      <td>1.0</td>\n",
       "      <td>6.0</td>\n",
       "      <td>2.0</td>\n",
       "      <td>9.0</td>\n",
       "      <td>8.0</td>\n",
       "      <td>5.0</td>\n",
       "      <td>7.0</td>\n",
       "      <td>3.0</td>\n",
       "      <td>4.0</td>\n",
       "      <td>66.0</td>\n",
       "      <td>2</td>\n",
       "    </tr>\n",
       "    <tr>\n",
       "      <th>value</th>\n",
       "      <td>2.0</td>\n",
       "      <td>5.0</td>\n",
       "      <td>1.0</td>\n",
       "      <td>3.0</td>\n",
       "      <td>8.0</td>\n",
       "      <td>6.0</td>\n",
       "      <td>7.0</td>\n",
       "      <td>9.0</td>\n",
       "      <td>4.0</td>\n",
       "      <td>67.0</td>\n",
       "      <td>2</td>\n",
       "    </tr>\n",
       "    <tr>\n",
       "      <th>value</th>\n",
       "      <td>7.0</td>\n",
       "      <td>4.0</td>\n",
       "      <td>6.0</td>\n",
       "      <td>9.0</td>\n",
       "      <td>8.0</td>\n",
       "      <td>2.0</td>\n",
       "      <td>1.0</td>\n",
       "      <td>5.0</td>\n",
       "      <td>3.0</td>\n",
       "      <td>67.0</td>\n",
       "      <td>2</td>\n",
       "    </tr>\n",
       "    <tr>\n",
       "      <th>value</th>\n",
       "      <td>7.0</td>\n",
       "      <td>3.0</td>\n",
       "      <td>8.0</td>\n",
       "      <td>5.0</td>\n",
       "      <td>4.0</td>\n",
       "      <td>2.0</td>\n",
       "      <td>1.0</td>\n",
       "      <td>6.0</td>\n",
       "      <td>9.0</td>\n",
       "      <td>67.0</td>\n",
       "      <td>2</td>\n",
       "    </tr>\n",
       "    <tr>\n",
       "      <th>value</th>\n",
       "      <td>5.0</td>\n",
       "      <td>2.0</td>\n",
       "      <td>6.0</td>\n",
       "      <td>3.0</td>\n",
       "      <td>1.0</td>\n",
       "      <td>7.0</td>\n",
       "      <td>8.0</td>\n",
       "      <td>9.0</td>\n",
       "      <td>4.0</td>\n",
       "      <td>68.0</td>\n",
       "      <td>2</td>\n",
       "    </tr>\n",
       "    <tr>\n",
       "      <th>value</th>\n",
       "      <td>4.0</td>\n",
       "      <td>9.0</td>\n",
       "      <td>1.0</td>\n",
       "      <td>7.0</td>\n",
       "      <td>5.0</td>\n",
       "      <td>8.0</td>\n",
       "      <td>2.0</td>\n",
       "      <td>6.0</td>\n",
       "      <td>3.0</td>\n",
       "      <td>68.0</td>\n",
       "      <td>2</td>\n",
       "    </tr>\n",
       "    <tr>\n",
       "      <th>value</th>\n",
       "      <td>3.0</td>\n",
       "      <td>9.0</td>\n",
       "      <td>7.0</td>\n",
       "      <td>8.0</td>\n",
       "      <td>1.0</td>\n",
       "      <td>2.0</td>\n",
       "      <td>6.0</td>\n",
       "      <td>5.0</td>\n",
       "      <td>4.0</td>\n",
       "      <td>68.0</td>\n",
       "      <td>2</td>\n",
       "    </tr>\n",
       "    <tr>\n",
       "      <th>value</th>\n",
       "      <td>1.0</td>\n",
       "      <td>6.0</td>\n",
       "      <td>2.0</td>\n",
       "      <td>5.0</td>\n",
       "      <td>7.0</td>\n",
       "      <td>8.0</td>\n",
       "      <td>3.0</td>\n",
       "      <td>4.0</td>\n",
       "      <td>9.0</td>\n",
       "      <td>71.0</td>\n",
       "      <td>2</td>\n",
       "    </tr>\n",
       "  </tbody>\n",
       "</table>\n",
       "</div>"
      ],
      "text/plain": [
       "key    t1seq  t2seq  t3seq  t4seq  t5seq  t6seq  t7seq  t8seq  t9seq     m  \\\n",
       "value    5.0    3.0    8.0    7.0    9.0    6.0    4.0    1.0    2.0  54.0   \n",
       "value    6.0    3.0    4.0    5.0    7.0    2.0    9.0    1.0    8.0  57.0   \n",
       "value    1.0    9.0    5.0    3.0    8.0    6.0    7.0    4.0    2.0  58.0   \n",
       "value    5.0    8.0    1.0    4.0    3.0    2.0    6.0    9.0    7.0  58.0   \n",
       "value    8.0    9.0    3.0    6.0    4.0    5.0    7.0    1.0    2.0  58.0   \n",
       "value    1.0    5.0    4.0    3.0    7.0    9.0    6.0    8.0    2.0  58.0   \n",
       "value    2.0    8.0    9.0    1.0    3.0    4.0    6.0    7.0    5.0  58.0   \n",
       "value    5.0    9.0    8.0    1.0    4.0    3.0    6.0    2.0    7.0  58.0   \n",
       "value    5.0    9.0    4.0    1.0    2.0    6.0    8.0    3.0    7.0  59.0   \n",
       "value    1.0    8.0    9.0    6.0    5.0    3.0    2.0    4.0    7.0  59.0   \n",
       "value    5.0    3.0    2.0    7.0    4.0    8.0    9.0    6.0    1.0  59.0   \n",
       "value    5.0    6.0    1.0    3.0    2.0    4.0    9.0    7.0    8.0  59.0   \n",
       "value    8.0    1.0    6.0    7.0    4.0    2.0    9.0    5.0    3.0  60.0   \n",
       "value    2.0    6.0    9.0    4.0    3.0    5.0    7.0    1.0    8.0  60.0   \n",
       "value    1.0    8.0    4.0    5.0    7.0    9.0    3.0    2.0    6.0  60.0   \n",
       "value    4.0    6.0    5.0    3.0    8.0    7.0    9.0    1.0    2.0  60.0   \n",
       "value    9.0    1.0    2.0    8.0    4.0    5.0    3.0    6.0    7.0  61.0   \n",
       "value    8.0    5.0    1.0    9.0    3.0    4.0    7.0    6.0    2.0  61.0   \n",
       "value    3.0    1.0    7.0    9.0    4.0    5.0    6.0    8.0    2.0  61.0   \n",
       "value    6.0    3.0    5.0    8.0    9.0    2.0    4.0    1.0    7.0  62.0   \n",
       "value    1.0    3.0    4.0    2.0    5.0    8.0    9.0    6.0    7.0  62.0   \n",
       "value    7.0    2.0    3.0    9.0    6.0    8.0    1.0    4.0    5.0  62.0   \n",
       "value    1.0    9.0    6.0    3.0    7.0    2.0    4.0    8.0    5.0  62.0   \n",
       "value    4.0    7.0    1.0    5.0    9.0    3.0    8.0    6.0    2.0  62.0   \n",
       "value    7.0    3.0    6.0    9.0    5.0    4.0    2.0    8.0    1.0  62.0   \n",
       "value    6.0    2.0    9.0    1.0    7.0    5.0    3.0    4.0    8.0  63.0   \n",
       "value    2.0    7.0    5.0    8.0    9.0    1.0    6.0    3.0    4.0  63.0   \n",
       "value    6.0    5.0    3.0    4.0    1.0    2.0    8.0    7.0    9.0  63.0   \n",
       "value    9.0    4.0    3.0    1.0    2.0    5.0    7.0    6.0    8.0  63.0   \n",
       "value    1.0    3.0    9.0    5.0    7.0    8.0    2.0    6.0    4.0  63.0   \n",
       "value    3.0    7.0    1.0    2.0    6.0    4.0    8.0    9.0    5.0  64.0   \n",
       "value    2.0    4.0    3.0    8.0    1.0    5.0    7.0    6.0    9.0  64.0   \n",
       "value    3.0    2.0    9.0    8.0    1.0    5.0    6.0    7.0    4.0  64.0   \n",
       "value    3.0    1.0    5.0    7.0    2.0    6.0    8.0    9.0    4.0  64.0   \n",
       "value    9.0    1.0    8.0    7.0    3.0    4.0    5.0    2.0    6.0  64.0   \n",
       "value    3.0    2.0    4.0    6.0    1.0    7.0    5.0    9.0    8.0  64.0   \n",
       "value    5.0    1.0    7.0    8.0    6.0    2.0    9.0    3.0    4.0  64.0   \n",
       "value    2.0    3.0    7.0    6.0    8.0    1.0    9.0    5.0    4.0  64.0   \n",
       "value    6.0    7.0    4.0    8.0    1.0    3.0    5.0    2.0    9.0  64.0   \n",
       "value    7.0    8.0    4.0    9.0    3.0    2.0    1.0    6.0    5.0  65.0   \n",
       "value    9.0    7.0    6.0    5.0    1.0    2.0    3.0    4.0    8.0  66.0   \n",
       "value    6.0    5.0    3.0    1.0    7.0    4.0    2.0    8.0    9.0  66.0   \n",
       "value    1.0    6.0    2.0    9.0    8.0    5.0    7.0    3.0    4.0  66.0   \n",
       "value    2.0    5.0    1.0    3.0    8.0    6.0    7.0    9.0    4.0  67.0   \n",
       "value    7.0    4.0    6.0    9.0    8.0    2.0    1.0    5.0    3.0  67.0   \n",
       "value    7.0    3.0    8.0    5.0    4.0    2.0    1.0    6.0    9.0  67.0   \n",
       "value    5.0    2.0    6.0    3.0    1.0    7.0    8.0    9.0    4.0  68.0   \n",
       "value    4.0    9.0    1.0    7.0    5.0    8.0    2.0    6.0    3.0  68.0   \n",
       "value    3.0    9.0    7.0    8.0    1.0    2.0    6.0    5.0    4.0  68.0   \n",
       "value    1.0    6.0    2.0    5.0    7.0    8.0    3.0    4.0    9.0  71.0   \n",
       "\n",
       "key    class  \n",
       "value      0  \n",
       "value      0  \n",
       "value      0  \n",
       "value      0  \n",
       "value      0  \n",
       "value      0  \n",
       "value      0  \n",
       "value      0  \n",
       "value      0  \n",
       "value      0  \n",
       "value      0  \n",
       "value      0  \n",
       "value      0  \n",
       "value      0  \n",
       "value      0  \n",
       "value      0  \n",
       "value      1  \n",
       "value      1  \n",
       "value      1  \n",
       "value      1  \n",
       "value      1  \n",
       "value      1  \n",
       "value      1  \n",
       "value      1  \n",
       "value      1  \n",
       "value      1  \n",
       "value      1  \n",
       "value      1  \n",
       "value      1  \n",
       "value      1  \n",
       "value      2  \n",
       "value      2  \n",
       "value      2  \n",
       "value      2  \n",
       "value      2  \n",
       "value      2  \n",
       "value      2  \n",
       "value      2  \n",
       "value      2  \n",
       "value      2  \n",
       "value      2  \n",
       "value      2  \n",
       "value      2  \n",
       "value      2  \n",
       "value      2  \n",
       "value      2  \n",
       "value      2  \n",
       "value      2  \n",
       "value      2  \n",
       "value      2  "
      ]
     },
     "execution_count": 197,
     "metadata": {},
     "output_type": "execute_result"
    }
   ],
   "source": [
    "df_all.iloc[:, 36:]"
   ]
  },
  {
   "cell_type": "code",
   "execution_count": 34,
   "metadata": {},
   "outputs": [
    {
     "data": {
      "text/plain": [
       "'#107c5a'"
      ]
     },
     "execution_count": 34,
     "metadata": {},
     "output_type": "execute_result"
    }
   ],
   "source": [
    "import matplotlib as mpl\n",
    "import matplotlib.pyplot as plt\n",
    "import numpy as np\n",
    "\n",
    "def colorFader(c1,c2,mix=0): #fade (linear interpolate) from color c1 (at mix=0) to c2 (mix=1)\n",
    "    import matplotlib as mpl\n",
    "    c1=np.array(mpl.colors.to_rgb(c1))\n",
    "    c2=np.array(mpl.colors.to_rgb(c2))\n",
    "    return mpl.colors.to_hex((1-mix)*c1 + mix*c2)\n",
    "\n",
    "c1='#1f77b4' #blue\n",
    "c2='green' #green\n",
    "n=500\n",
    "\n",
    "color = colorFader(c1,c2,0.5)\n",
    "\n",
    "color"
   ]
  },
  {
   "cell_type": "code",
   "execution_count": 43,
   "metadata": {},
   "outputs": [
    {
     "data": {
      "text/plain": [
       "[(0.669204152249135, 0.08489042675893888, 0.16401384083044984),\n",
       " (0.8115340253748559, 0.3211072664359862, 0.2758169934640523),\n",
       " (0.9222606689734717, 0.5674740484429065, 0.4486735870818915),\n",
       " (0.9797001153402538, 0.7840830449826989, 0.6848904267589389),\n",
       " (0.9792387543252595, 0.9191080353710112, 0.8837370242214533),\n",
       " (0.9014225297962323, 0.9367935409457901, 0.956247597078047),\n",
       " (0.7324106113033451, 0.8537485582468283, 0.9162629757785468),\n",
       " (0.4814302191464823, 0.7148788927335642, 0.839446366782007),\n",
       " (0.2366013071895425, 0.5418685121107266, 0.7470203767781622),\n",
       " (0.11864667435601693, 0.37923875432525955, 0.6456747404844291)]"
      ]
     },
     "execution_count": 43,
     "metadata": {},
     "output_type": "execute_result"
    }
   ],
   "source": [
    "import seaborn as sns\n",
    "sns.color_palette(\"RdBu\", n_colors=10)"
   ]
  },
  {
   "cell_type": "code",
   "execution_count": 6,
   "metadata": {},
   "outputs": [
    {
     "data": {
      "application/vnd.plotly.v1+json": {
       "config": {
        "plotlyServerURL": "https://plot.ly"
       },
       "data": [
        {
         "fill": "toself",
         "fillcolor": "rgb(255, 127, 14)",
         "hoverinfo": "name",
         "legendgroup": "rgb(255, 127, 14)",
         "mode": "none",
         "name": "Machine002",
         "showlegend": true,
         "type": "scatter",
         "x": [
          "2020-05-23T19:52:57.713123",
          "2020-05-23T19:55:57.713123",
          "2020-05-23T19:55:57.713123",
          "2020-05-23T19:52:57.713123",
          "2020-05-23T19:52:57.713123",
          "2020-05-23T19:48:57.713123",
          "2020-05-23T19:52:57.713123",
          "2020-05-23T19:52:57.713123",
          "2020-05-23T19:48:57.713123",
          "2020-05-23T19:48:57.713123",
          "2020-05-23T20:03:57.713123",
          "2020-05-23T20:04:57.713123",
          "2020-05-23T20:04:57.713123",
          "2020-05-23T20:03:57.713123",
          "2020-05-23T20:03:57.713123",
          "2020-05-23T19:46:57.713123",
          "2020-05-23T19:47:57.713123",
          "2020-05-23T19:47:57.713123",
          "2020-05-23T19:46:57.713123",
          "2020-05-23T19:46:57.713123",
          "2020-05-23T20:24:57.713123",
          "2020-05-23T20:25:57.713123",
          "2020-05-23T20:25:57.713123",
          "2020-05-23T20:24:57.713123",
          "2020-05-23T20:24:57.713123",
          "2020-05-23T19:56:57.713123",
          "2020-05-23T19:58:57.713123",
          "2020-05-23T19:58:57.713123",
          "2020-05-23T19:56:57.713123",
          "2020-05-23T19:56:57.713123",
          "2020-05-23T20:00:57.713123",
          "2020-05-23T20:03:57.713123",
          "2020-05-23T20:03:57.713123",
          "2020-05-23T20:00:57.713123",
          "2020-05-23T20:00:57.713123",
          "2020-05-23T20:19:57.713123",
          "2020-05-23T20:22:57.713123",
          "2020-05-23T20:22:57.713123",
          "2020-05-23T20:19:57.713123",
          "2020-05-23T20:19:57.713123",
          "2020-05-23T20:11:57.713123",
          "2020-05-23T20:12:57.713123",
          "2020-05-23T20:12:57.713123",
          "2020-05-23T20:11:57.713123"
         ],
         "y": [
          7.9,
          7.9,
          8.1,
          8.1,
          null,
          6.9,
          6.9,
          7.1,
          7.1,
          null,
          5.9,
          5.9,
          6.1,
          6.1,
          null,
          4.9,
          4.9,
          5.1,
          5.1,
          null,
          3.9,
          3.9,
          4.1,
          4.1,
          null,
          2.9,
          2.9,
          3.1,
          3.1,
          null,
          1.9,
          1.9,
          2.1,
          2.1,
          null,
          0.9,
          0.9,
          1.1,
          1.1,
          null,
          -0.1,
          -0.1,
          0.1,
          0.1
         ]
        },
        {
         "fill": "toself",
         "fillcolor": "rgb(31, 119, 180)",
         "hoverinfo": "name",
         "legendgroup": "rgb(31, 119, 180)",
         "mode": "none",
         "name": "Machine001",
         "showlegend": true,
         "type": "scatter",
         "x": [
          "2020-05-23T19:48:57.713123",
          "2020-05-23T19:51:57.713123",
          "2020-05-23T19:51:57.713123",
          "2020-05-23T19:48:57.713123",
          "2020-05-23T19:48:57.713123",
          "2020-05-23T19:46:57.713123",
          "2020-05-23T19:48:57.713123",
          "2020-05-23T19:48:57.713123",
          "2020-05-23T19:46:57.713123",
          "2020-05-23T19:46:57.713123",
          "2020-05-23T20:00:57.713123",
          "2020-05-23T20:02:57.713123",
          "2020-05-23T20:02:57.713123",
          "2020-05-23T20:00:57.713123",
          "2020-05-23T20:00:57.713123",
          "2020-05-23T19:45:57.713123",
          "2020-05-23T19:46:57.713123",
          "2020-05-23T19:46:57.713123",
          "2020-05-23T19:45:57.713123",
          "2020-05-23T19:45:57.713123",
          "2020-05-23T20:19:57.713123",
          "2020-05-23T20:24:57.713123",
          "2020-05-23T20:24:57.713123",
          "2020-05-23T20:19:57.713123",
          "2020-05-23T20:19:57.713123",
          "2020-05-23T19:51:57.713123",
          "2020-05-23T19:56:57.713123",
          "2020-05-23T19:56:57.713123",
          "2020-05-23T19:51:57.713123",
          "2020-05-23T19:51:57.713123",
          "2020-05-23T19:56:57.713123",
          "2020-05-23T20:00:57.713123",
          "2020-05-23T20:00:57.713123",
          "2020-05-23T19:56:57.713123",
          "2020-05-23T19:56:57.713123",
          "2020-05-23T20:11:57.713123",
          "2020-05-23T20:19:57.713123",
          "2020-05-23T20:19:57.713123",
          "2020-05-23T20:11:57.713123",
          "2020-05-23T20:11:57.713123",
          "2020-05-23T20:02:57.713123",
          "2020-05-23T20:11:57.713123",
          "2020-05-23T20:11:57.713123",
          "2020-05-23T20:02:57.713123"
         ],
         "y": [
          7.9,
          7.9,
          8.1,
          8.1,
          null,
          6.9,
          6.9,
          7.1,
          7.1,
          null,
          5.9,
          5.9,
          6.1,
          6.1,
          null,
          4.9,
          4.9,
          5.1,
          5.1,
          null,
          3.9,
          3.9,
          4.1,
          4.1,
          null,
          2.9,
          2.9,
          3.1,
          3.1,
          null,
          1.9,
          1.9,
          2.1,
          2.1,
          null,
          0.9,
          0.9,
          1.1,
          1.1,
          null,
          -0.1,
          -0.1,
          0.1,
          0.1
         ]
        },
        {
         "fill": "toself",
         "fillcolor": "rgb(44, 160, 44)",
         "hoverinfo": "name",
         "legendgroup": "rgb(44, 160, 44)",
         "mode": "none",
         "name": "Machine003",
         "showlegend": true,
         "type": "scatter",
         "x": [
          "2020-05-23T19:59:57.713123",
          "2020-05-23T20:06:57.713123",
          "2020-05-23T20:06:57.713123",
          "2020-05-23T19:59:57.713123",
          "2020-05-23T19:59:57.713123",
          "2020-05-23T19:52:57.713123",
          "2020-05-23T19:59:57.713123",
          "2020-05-23T19:59:57.713123",
          "2020-05-23T19:52:57.713123",
          "2020-05-23T19:52:57.713123",
          "2020-05-23T20:19:57.713123",
          "2020-05-23T20:21:57.713123",
          "2020-05-23T20:21:57.713123",
          "2020-05-23T20:19:57.713123",
          "2020-05-23T20:19:57.713123",
          "2020-05-23T19:47:57.713123",
          "2020-05-23T19:51:57.713123",
          "2020-05-23T19:51:57.713123",
          "2020-05-23T19:47:57.713123",
          "2020-05-23T19:47:57.713123",
          "2020-05-23T20:34:57.713123",
          "2020-05-23T20:35:57.713123",
          "2020-05-23T20:35:57.713123",
          "2020-05-23T20:34:57.713123",
          "2020-05-23T20:34:57.713123",
          "2020-05-23T20:06:57.713123",
          "2020-05-23T20:14:57.713123",
          "2020-05-23T20:14:57.713123",
          "2020-05-23T20:06:57.713123",
          "2020-05-23T20:06:57.713123",
          "2020-05-23T20:14:57.713123",
          "2020-05-23T20:19:57.713123",
          "2020-05-23T20:19:57.713123",
          "2020-05-23T20:14:57.713123",
          "2020-05-23T20:14:57.713123",
          "2020-05-23T20:29:57.713123",
          "2020-05-23T20:34:57.713123",
          "2020-05-23T20:34:57.713123",
          "2020-05-23T20:29:57.713123",
          "2020-05-23T20:29:57.713123",
          "2020-05-23T20:21:57.713123",
          "2020-05-23T20:29:57.713123",
          "2020-05-23T20:29:57.713123",
          "2020-05-23T20:21:57.713123"
         ],
         "y": [
          7.9,
          7.9,
          8.1,
          8.1,
          null,
          6.9,
          6.9,
          7.1,
          7.1,
          null,
          5.9,
          5.9,
          6.1,
          6.1,
          null,
          4.9,
          4.9,
          5.1,
          5.1,
          null,
          3.9,
          3.9,
          4.1,
          4.1,
          null,
          2.9,
          2.9,
          3.1,
          3.1,
          null,
          1.9,
          1.9,
          2.1,
          2.1,
          null,
          0.9,
          0.9,
          1.1,
          1.1,
          null,
          -0.1,
          -0.1,
          0.1,
          0.1
         ]
        },
        {
         "legendgroup": "rgb(255, 127, 14)",
         "marker": {
          "color": "rgb(255, 127, 14)",
          "opacity": 0,
          "size": 1
         },
         "mode": "markers",
         "name": "",
         "showlegend": false,
         "text": [
          null,
          null,
          null,
          null,
          null,
          null,
          null,
          null,
          null,
          null,
          null,
          null,
          null,
          null,
          null,
          null,
          null,
          null
         ],
         "type": "scatter",
         "x": [
          "2020-05-23T19:52:57.713123",
          "2020-05-23T19:55:57.713123",
          "2020-05-23T19:48:57.713123",
          "2020-05-23T19:52:57.713123",
          "2020-05-23T20:03:57.713123",
          "2020-05-23T20:04:57.713123",
          "2020-05-23T19:46:57.713123",
          "2020-05-23T19:47:57.713123",
          "2020-05-23T20:24:57.713123",
          "2020-05-23T20:25:57.713123",
          "2020-05-23T19:56:57.713123",
          "2020-05-23T19:58:57.713123",
          "2020-05-23T20:00:57.713123",
          "2020-05-23T20:03:57.713123",
          "2020-05-23T20:19:57.713123",
          "2020-05-23T20:22:57.713123",
          "2020-05-23T20:11:57.713123",
          "2020-05-23T20:12:57.713123"
         ],
         "y": [
          8,
          8,
          7,
          7,
          6,
          6,
          5,
          5,
          4,
          4,
          3,
          3,
          2,
          2,
          1,
          1,
          0,
          0
         ]
        },
        {
         "legendgroup": "rgb(31, 119, 180)",
         "marker": {
          "color": "rgb(31, 119, 180)",
          "opacity": 0,
          "size": 1
         },
         "mode": "markers",
         "name": "",
         "showlegend": false,
         "text": [
          null,
          null,
          null,
          null,
          null,
          null,
          null,
          null,
          null,
          null,
          null,
          null,
          null,
          null,
          null,
          null,
          null,
          null
         ],
         "type": "scatter",
         "x": [
          "2020-05-23T19:48:57.713123",
          "2020-05-23T19:51:57.713123",
          "2020-05-23T19:46:57.713123",
          "2020-05-23T19:48:57.713123",
          "2020-05-23T20:00:57.713123",
          "2020-05-23T20:02:57.713123",
          "2020-05-23T19:45:57.713123",
          "2020-05-23T19:46:57.713123",
          "2020-05-23T20:19:57.713123",
          "2020-05-23T20:24:57.713123",
          "2020-05-23T19:51:57.713123",
          "2020-05-23T19:56:57.713123",
          "2020-05-23T19:56:57.713123",
          "2020-05-23T20:00:57.713123",
          "2020-05-23T20:11:57.713123",
          "2020-05-23T20:19:57.713123",
          "2020-05-23T20:02:57.713123",
          "2020-05-23T20:11:57.713123"
         ],
         "y": [
          8,
          8,
          7,
          7,
          6,
          6,
          5,
          5,
          4,
          4,
          3,
          3,
          2,
          2,
          1,
          1,
          0,
          0
         ]
        },
        {
         "legendgroup": "rgb(44, 160, 44)",
         "marker": {
          "color": "rgb(44, 160, 44)",
          "opacity": 0,
          "size": 1
         },
         "mode": "markers",
         "name": "",
         "showlegend": false,
         "text": [
          null,
          null,
          null,
          null,
          null,
          null,
          null,
          null,
          null,
          null,
          null,
          null,
          null,
          null,
          null,
          null,
          null,
          null
         ],
         "type": "scatter",
         "x": [
          "2020-05-23T19:59:57.713123",
          "2020-05-23T20:06:57.713123",
          "2020-05-23T19:52:57.713123",
          "2020-05-23T19:59:57.713123",
          "2020-05-23T20:19:57.713123",
          "2020-05-23T20:21:57.713123",
          "2020-05-23T19:47:57.713123",
          "2020-05-23T19:51:57.713123",
          "2020-05-23T20:34:57.713123",
          "2020-05-23T20:35:57.713123",
          "2020-05-23T20:06:57.713123",
          "2020-05-23T20:14:57.713123",
          "2020-05-23T20:14:57.713123",
          "2020-05-23T20:19:57.713123",
          "2020-05-23T20:29:57.713123",
          "2020-05-23T20:34:57.713123",
          "2020-05-23T20:21:57.713123",
          "2020-05-23T20:29:57.713123"
         ],
         "y": [
          8,
          8,
          7,
          7,
          6,
          6,
          5,
          5,
          4,
          4,
          3,
          3,
          2,
          2,
          1,
          1,
          0,
          0
         ]
        }
       ],
       "layout": {
        "height": 600,
        "hovermode": "closest",
        "showlegend": true,
        "template": {
         "data": {
          "bar": [
           {
            "error_x": {
             "color": "#2a3f5f"
            },
            "error_y": {
             "color": "#2a3f5f"
            },
            "marker": {
             "line": {
              "color": "#E5ECF6",
              "width": 0.5
             }
            },
            "type": "bar"
           }
          ],
          "barpolar": [
           {
            "marker": {
             "line": {
              "color": "#E5ECF6",
              "width": 0.5
             }
            },
            "type": "barpolar"
           }
          ],
          "carpet": [
           {
            "aaxis": {
             "endlinecolor": "#2a3f5f",
             "gridcolor": "white",
             "linecolor": "white",
             "minorgridcolor": "white",
             "startlinecolor": "#2a3f5f"
            },
            "baxis": {
             "endlinecolor": "#2a3f5f",
             "gridcolor": "white",
             "linecolor": "white",
             "minorgridcolor": "white",
             "startlinecolor": "#2a3f5f"
            },
            "type": "carpet"
           }
          ],
          "choropleth": [
           {
            "colorbar": {
             "outlinewidth": 0,
             "ticks": ""
            },
            "type": "choropleth"
           }
          ],
          "contour": [
           {
            "colorbar": {
             "outlinewidth": 0,
             "ticks": ""
            },
            "colorscale": [
             [
              0,
              "#0d0887"
             ],
             [
              0.1111111111111111,
              "#46039f"
             ],
             [
              0.2222222222222222,
              "#7201a8"
             ],
             [
              0.3333333333333333,
              "#9c179e"
             ],
             [
              0.4444444444444444,
              "#bd3786"
             ],
             [
              0.5555555555555556,
              "#d8576b"
             ],
             [
              0.6666666666666666,
              "#ed7953"
             ],
             [
              0.7777777777777778,
              "#fb9f3a"
             ],
             [
              0.8888888888888888,
              "#fdca26"
             ],
             [
              1,
              "#f0f921"
             ]
            ],
            "type": "contour"
           }
          ],
          "contourcarpet": [
           {
            "colorbar": {
             "outlinewidth": 0,
             "ticks": ""
            },
            "type": "contourcarpet"
           }
          ],
          "heatmap": [
           {
            "colorbar": {
             "outlinewidth": 0,
             "ticks": ""
            },
            "colorscale": [
             [
              0,
              "#0d0887"
             ],
             [
              0.1111111111111111,
              "#46039f"
             ],
             [
              0.2222222222222222,
              "#7201a8"
             ],
             [
              0.3333333333333333,
              "#9c179e"
             ],
             [
              0.4444444444444444,
              "#bd3786"
             ],
             [
              0.5555555555555556,
              "#d8576b"
             ],
             [
              0.6666666666666666,
              "#ed7953"
             ],
             [
              0.7777777777777778,
              "#fb9f3a"
             ],
             [
              0.8888888888888888,
              "#fdca26"
             ],
             [
              1,
              "#f0f921"
             ]
            ],
            "type": "heatmap"
           }
          ],
          "heatmapgl": [
           {
            "colorbar": {
             "outlinewidth": 0,
             "ticks": ""
            },
            "colorscale": [
             [
              0,
              "#0d0887"
             ],
             [
              0.1111111111111111,
              "#46039f"
             ],
             [
              0.2222222222222222,
              "#7201a8"
             ],
             [
              0.3333333333333333,
              "#9c179e"
             ],
             [
              0.4444444444444444,
              "#bd3786"
             ],
             [
              0.5555555555555556,
              "#d8576b"
             ],
             [
              0.6666666666666666,
              "#ed7953"
             ],
             [
              0.7777777777777778,
              "#fb9f3a"
             ],
             [
              0.8888888888888888,
              "#fdca26"
             ],
             [
              1,
              "#f0f921"
             ]
            ],
            "type": "heatmapgl"
           }
          ],
          "histogram": [
           {
            "marker": {
             "colorbar": {
              "outlinewidth": 0,
              "ticks": ""
             }
            },
            "type": "histogram"
           }
          ],
          "histogram2d": [
           {
            "colorbar": {
             "outlinewidth": 0,
             "ticks": ""
            },
            "colorscale": [
             [
              0,
              "#0d0887"
             ],
             [
              0.1111111111111111,
              "#46039f"
             ],
             [
              0.2222222222222222,
              "#7201a8"
             ],
             [
              0.3333333333333333,
              "#9c179e"
             ],
             [
              0.4444444444444444,
              "#bd3786"
             ],
             [
              0.5555555555555556,
              "#d8576b"
             ],
             [
              0.6666666666666666,
              "#ed7953"
             ],
             [
              0.7777777777777778,
              "#fb9f3a"
             ],
             [
              0.8888888888888888,
              "#fdca26"
             ],
             [
              1,
              "#f0f921"
             ]
            ],
            "type": "histogram2d"
           }
          ],
          "histogram2dcontour": [
           {
            "colorbar": {
             "outlinewidth": 0,
             "ticks": ""
            },
            "colorscale": [
             [
              0,
              "#0d0887"
             ],
             [
              0.1111111111111111,
              "#46039f"
             ],
             [
              0.2222222222222222,
              "#7201a8"
             ],
             [
              0.3333333333333333,
              "#9c179e"
             ],
             [
              0.4444444444444444,
              "#bd3786"
             ],
             [
              0.5555555555555556,
              "#d8576b"
             ],
             [
              0.6666666666666666,
              "#ed7953"
             ],
             [
              0.7777777777777778,
              "#fb9f3a"
             ],
             [
              0.8888888888888888,
              "#fdca26"
             ],
             [
              1,
              "#f0f921"
             ]
            ],
            "type": "histogram2dcontour"
           }
          ],
          "mesh3d": [
           {
            "colorbar": {
             "outlinewidth": 0,
             "ticks": ""
            },
            "type": "mesh3d"
           }
          ],
          "parcoords": [
           {
            "line": {
             "colorbar": {
              "outlinewidth": 0,
              "ticks": ""
             }
            },
            "type": "parcoords"
           }
          ],
          "pie": [
           {
            "automargin": true,
            "type": "pie"
           }
          ],
          "scatter": [
           {
            "marker": {
             "colorbar": {
              "outlinewidth": 0,
              "ticks": ""
             }
            },
            "type": "scatter"
           }
          ],
          "scatter3d": [
           {
            "line": {
             "colorbar": {
              "outlinewidth": 0,
              "ticks": ""
             }
            },
            "marker": {
             "colorbar": {
              "outlinewidth": 0,
              "ticks": ""
             }
            },
            "type": "scatter3d"
           }
          ],
          "scattercarpet": [
           {
            "marker": {
             "colorbar": {
              "outlinewidth": 0,
              "ticks": ""
             }
            },
            "type": "scattercarpet"
           }
          ],
          "scattergeo": [
           {
            "marker": {
             "colorbar": {
              "outlinewidth": 0,
              "ticks": ""
             }
            },
            "type": "scattergeo"
           }
          ],
          "scattergl": [
           {
            "marker": {
             "colorbar": {
              "outlinewidth": 0,
              "ticks": ""
             }
            },
            "type": "scattergl"
           }
          ],
          "scattermapbox": [
           {
            "marker": {
             "colorbar": {
              "outlinewidth": 0,
              "ticks": ""
             }
            },
            "type": "scattermapbox"
           }
          ],
          "scatterpolar": [
           {
            "marker": {
             "colorbar": {
              "outlinewidth": 0,
              "ticks": ""
             }
            },
            "type": "scatterpolar"
           }
          ],
          "scatterpolargl": [
           {
            "marker": {
             "colorbar": {
              "outlinewidth": 0,
              "ticks": ""
             }
            },
            "type": "scatterpolargl"
           }
          ],
          "scatterternary": [
           {
            "marker": {
             "colorbar": {
              "outlinewidth": 0,
              "ticks": ""
             }
            },
            "type": "scatterternary"
           }
          ],
          "surface": [
           {
            "colorbar": {
             "outlinewidth": 0,
             "ticks": ""
            },
            "colorscale": [
             [
              0,
              "#0d0887"
             ],
             [
              0.1111111111111111,
              "#46039f"
             ],
             [
              0.2222222222222222,
              "#7201a8"
             ],
             [
              0.3333333333333333,
              "#9c179e"
             ],
             [
              0.4444444444444444,
              "#bd3786"
             ],
             [
              0.5555555555555556,
              "#d8576b"
             ],
             [
              0.6666666666666666,
              "#ed7953"
             ],
             [
              0.7777777777777778,
              "#fb9f3a"
             ],
             [
              0.8888888888888888,
              "#fdca26"
             ],
             [
              1,
              "#f0f921"
             ]
            ],
            "type": "surface"
           }
          ],
          "table": [
           {
            "cells": {
             "fill": {
              "color": "#EBF0F8"
             },
             "line": {
              "color": "white"
             }
            },
            "header": {
             "fill": {
              "color": "#C8D4E3"
             },
             "line": {
              "color": "white"
             }
            },
            "type": "table"
           }
          ]
         },
         "layout": {
          "annotationdefaults": {
           "arrowcolor": "#2a3f5f",
           "arrowhead": 0,
           "arrowwidth": 1
          },
          "coloraxis": {
           "colorbar": {
            "outlinewidth": 0,
            "ticks": ""
           }
          },
          "colorscale": {
           "diverging": [
            [
             0,
             "#8e0152"
            ],
            [
             0.1,
             "#c51b7d"
            ],
            [
             0.2,
             "#de77ae"
            ],
            [
             0.3,
             "#f1b6da"
            ],
            [
             0.4,
             "#fde0ef"
            ],
            [
             0.5,
             "#f7f7f7"
            ],
            [
             0.6,
             "#e6f5d0"
            ],
            [
             0.7,
             "#b8e186"
            ],
            [
             0.8,
             "#7fbc41"
            ],
            [
             0.9,
             "#4d9221"
            ],
            [
             1,
             "#276419"
            ]
           ],
           "sequential": [
            [
             0,
             "#0d0887"
            ],
            [
             0.1111111111111111,
             "#46039f"
            ],
            [
             0.2222222222222222,
             "#7201a8"
            ],
            [
             0.3333333333333333,
             "#9c179e"
            ],
            [
             0.4444444444444444,
             "#bd3786"
            ],
            [
             0.5555555555555556,
             "#d8576b"
            ],
            [
             0.6666666666666666,
             "#ed7953"
            ],
            [
             0.7777777777777778,
             "#fb9f3a"
            ],
            [
             0.8888888888888888,
             "#fdca26"
            ],
            [
             1,
             "#f0f921"
            ]
           ],
           "sequentialminus": [
            [
             0,
             "#0d0887"
            ],
            [
             0.1111111111111111,
             "#46039f"
            ],
            [
             0.2222222222222222,
             "#7201a8"
            ],
            [
             0.3333333333333333,
             "#9c179e"
            ],
            [
             0.4444444444444444,
             "#bd3786"
            ],
            [
             0.5555555555555556,
             "#d8576b"
            ],
            [
             0.6666666666666666,
             "#ed7953"
            ],
            [
             0.7777777777777778,
             "#fb9f3a"
            ],
            [
             0.8888888888888888,
             "#fdca26"
            ],
            [
             1,
             "#f0f921"
            ]
           ]
          },
          "colorway": [
           "#636efa",
           "#EF553B",
           "#00cc96",
           "#ab63fa",
           "#FFA15A",
           "#19d3f3",
           "#FF6692",
           "#B6E880",
           "#FF97FF",
           "#FECB52"
          ],
          "font": {
           "color": "#2a3f5f"
          },
          "geo": {
           "bgcolor": "white",
           "lakecolor": "white",
           "landcolor": "#E5ECF6",
           "showlakes": true,
           "showland": true,
           "subunitcolor": "white"
          },
          "hoverlabel": {
           "align": "left"
          },
          "hovermode": "closest",
          "mapbox": {
           "style": "light"
          },
          "paper_bgcolor": "white",
          "plot_bgcolor": "#E5ECF6",
          "polar": {
           "angularaxis": {
            "gridcolor": "white",
            "linecolor": "white",
            "ticks": ""
           },
           "bgcolor": "#E5ECF6",
           "radialaxis": {
            "gridcolor": "white",
            "linecolor": "white",
            "ticks": ""
           }
          },
          "scene": {
           "xaxis": {
            "backgroundcolor": "#E5ECF6",
            "gridcolor": "white",
            "gridwidth": 2,
            "linecolor": "white",
            "showbackground": true,
            "ticks": "",
            "zerolinecolor": "white"
           },
           "yaxis": {
            "backgroundcolor": "#E5ECF6",
            "gridcolor": "white",
            "gridwidth": 2,
            "linecolor": "white",
            "showbackground": true,
            "ticks": "",
            "zerolinecolor": "white"
           },
           "zaxis": {
            "backgroundcolor": "#E5ECF6",
            "gridcolor": "white",
            "gridwidth": 2,
            "linecolor": "white",
            "showbackground": true,
            "ticks": "",
            "zerolinecolor": "white"
           }
          },
          "shapedefaults": {
           "line": {
            "color": "#2a3f5f"
           }
          },
          "ternary": {
           "aaxis": {
            "gridcolor": "white",
            "linecolor": "white",
            "ticks": ""
           },
           "baxis": {
            "gridcolor": "white",
            "linecolor": "white",
            "ticks": ""
           },
           "bgcolor": "#E5ECF6",
           "caxis": {
            "gridcolor": "white",
            "linecolor": "white",
            "ticks": ""
           }
          },
          "title": {
           "x": 0.05
          },
          "xaxis": {
           "automargin": true,
           "gridcolor": "white",
           "linecolor": "white",
           "ticks": "",
           "title": {
            "standoff": 15
           },
           "zerolinecolor": "white",
           "zerolinewidth": 2
          },
          "yaxis": {
           "automargin": true,
           "gridcolor": "white",
           "linecolor": "white",
           "ticks": "",
           "title": {
            "standoff": 15
           },
           "zerolinecolor": "white",
           "zerolinewidth": 2
          }
         }
        },
        "title": {
         "font": {
          "size": 24
         },
         "text": " Makespan: 50.00 Scheduling:[4 2 1 6 7 3 9 8 5]",
         "x": 0.5,
         "xanchor": "center",
         "y": 0.75,
         "yanchor": "top"
        },
        "xaxis": {
         "rangeselector": {
          "buttons": [
           {
            "count": 7,
            "label": "1w",
            "step": "day",
            "stepmode": "backward"
           },
           {
            "count": 1,
            "label": "1m",
            "step": "month",
            "stepmode": "backward"
           },
           {
            "count": 6,
            "label": "6m",
            "step": "month",
            "stepmode": "backward"
           },
           {
            "count": 1,
            "label": "YTD",
            "step": "year",
            "stepmode": "todate"
           },
           {
            "count": 1,
            "label": "1y",
            "step": "year",
            "stepmode": "backward"
           },
           {
            "step": "all"
           }
          ]
         },
         "showgrid": true,
         "type": "date",
         "zeroline": false
        },
        "yaxis": {
         "autorange": false,
         "range": [
          -1,
          10
         ],
         "showgrid": true,
         "ticktext": [
          "Task009",
          "Task008",
          "Task007",
          "Task006",
          "Task005",
          "Task004",
          "Task003",
          "Task002",
          "Task001"
         ],
         "tickvals": [
          0,
          1,
          2,
          3,
          4,
          5,
          6,
          7,
          8
         ],
         "zeroline": false
        }
       }
      },
      "text/html": [
       "<div>\n",
       "        \n",
       "        \n",
       "            <div id=\"4f88478d-b7fe-4067-b399-ef43adf42e57\" class=\"plotly-graph-div\" style=\"height:600px; width:100%;\"></div>\n",
       "            <script type=\"text/javascript\">\n",
       "                require([\"plotly\"], function(Plotly) {\n",
       "                    window.PLOTLYENV=window.PLOTLYENV || {};\n",
       "                    \n",
       "                if (document.getElementById(\"4f88478d-b7fe-4067-b399-ef43adf42e57\")) {\n",
       "                    Plotly.newPlot(\n",
       "                        '4f88478d-b7fe-4067-b399-ef43adf42e57',\n",
       "                        [{\"fill\": \"toself\", \"fillcolor\": \"rgb(255, 127, 14)\", \"hoverinfo\": \"name\", \"legendgroup\": \"rgb(255, 127, 14)\", \"mode\": \"none\", \"name\": \"Machine002\", \"showlegend\": true, \"type\": \"scatter\", \"x\": [\"2020-05-23T19:52:57.713123\", \"2020-05-23T19:55:57.713123\", \"2020-05-23T19:55:57.713123\", \"2020-05-23T19:52:57.713123\", \"2020-05-23T19:52:57.713123\", \"2020-05-23T19:48:57.713123\", \"2020-05-23T19:52:57.713123\", \"2020-05-23T19:52:57.713123\", \"2020-05-23T19:48:57.713123\", \"2020-05-23T19:48:57.713123\", \"2020-05-23T20:03:57.713123\", \"2020-05-23T20:04:57.713123\", \"2020-05-23T20:04:57.713123\", \"2020-05-23T20:03:57.713123\", \"2020-05-23T20:03:57.713123\", \"2020-05-23T19:46:57.713123\", \"2020-05-23T19:47:57.713123\", \"2020-05-23T19:47:57.713123\", \"2020-05-23T19:46:57.713123\", \"2020-05-23T19:46:57.713123\", \"2020-05-23T20:24:57.713123\", \"2020-05-23T20:25:57.713123\", \"2020-05-23T20:25:57.713123\", \"2020-05-23T20:24:57.713123\", \"2020-05-23T20:24:57.713123\", \"2020-05-23T19:56:57.713123\", \"2020-05-23T19:58:57.713123\", \"2020-05-23T19:58:57.713123\", \"2020-05-23T19:56:57.713123\", \"2020-05-23T19:56:57.713123\", \"2020-05-23T20:00:57.713123\", \"2020-05-23T20:03:57.713123\", \"2020-05-23T20:03:57.713123\", \"2020-05-23T20:00:57.713123\", \"2020-05-23T20:00:57.713123\", \"2020-05-23T20:19:57.713123\", \"2020-05-23T20:22:57.713123\", \"2020-05-23T20:22:57.713123\", \"2020-05-23T20:19:57.713123\", \"2020-05-23T20:19:57.713123\", \"2020-05-23T20:11:57.713123\", \"2020-05-23T20:12:57.713123\", \"2020-05-23T20:12:57.713123\", \"2020-05-23T20:11:57.713123\"], \"y\": [7.9, 7.9, 8.1, 8.1, null, 6.9, 6.9, 7.1, 7.1, null, 5.9, 5.9, 6.1, 6.1, null, 4.9, 4.9, 5.1, 5.1, null, 3.9, 3.9, 4.1, 4.1, null, 2.9, 2.9, 3.1, 3.1, null, 1.9, 1.9, 2.1, 2.1, null, 0.9, 0.9, 1.1, 1.1, null, -0.1, -0.1, 0.1, 0.1]}, {\"fill\": \"toself\", \"fillcolor\": \"rgb(31, 119, 180)\", \"hoverinfo\": \"name\", \"legendgroup\": \"rgb(31, 119, 180)\", \"mode\": \"none\", \"name\": \"Machine001\", \"showlegend\": true, \"type\": \"scatter\", \"x\": [\"2020-05-23T19:48:57.713123\", \"2020-05-23T19:51:57.713123\", \"2020-05-23T19:51:57.713123\", \"2020-05-23T19:48:57.713123\", \"2020-05-23T19:48:57.713123\", \"2020-05-23T19:46:57.713123\", \"2020-05-23T19:48:57.713123\", \"2020-05-23T19:48:57.713123\", \"2020-05-23T19:46:57.713123\", \"2020-05-23T19:46:57.713123\", \"2020-05-23T20:00:57.713123\", \"2020-05-23T20:02:57.713123\", \"2020-05-23T20:02:57.713123\", \"2020-05-23T20:00:57.713123\", \"2020-05-23T20:00:57.713123\", \"2020-05-23T19:45:57.713123\", \"2020-05-23T19:46:57.713123\", \"2020-05-23T19:46:57.713123\", \"2020-05-23T19:45:57.713123\", \"2020-05-23T19:45:57.713123\", \"2020-05-23T20:19:57.713123\", \"2020-05-23T20:24:57.713123\", \"2020-05-23T20:24:57.713123\", \"2020-05-23T20:19:57.713123\", \"2020-05-23T20:19:57.713123\", \"2020-05-23T19:51:57.713123\", \"2020-05-23T19:56:57.713123\", \"2020-05-23T19:56:57.713123\", \"2020-05-23T19:51:57.713123\", \"2020-05-23T19:51:57.713123\", \"2020-05-23T19:56:57.713123\", \"2020-05-23T20:00:57.713123\", \"2020-05-23T20:00:57.713123\", \"2020-05-23T19:56:57.713123\", \"2020-05-23T19:56:57.713123\", \"2020-05-23T20:11:57.713123\", \"2020-05-23T20:19:57.713123\", \"2020-05-23T20:19:57.713123\", \"2020-05-23T20:11:57.713123\", \"2020-05-23T20:11:57.713123\", \"2020-05-23T20:02:57.713123\", \"2020-05-23T20:11:57.713123\", \"2020-05-23T20:11:57.713123\", \"2020-05-23T20:02:57.713123\"], \"y\": [7.9, 7.9, 8.1, 8.1, null, 6.9, 6.9, 7.1, 7.1, null, 5.9, 5.9, 6.1, 6.1, null, 4.9, 4.9, 5.1, 5.1, null, 3.9, 3.9, 4.1, 4.1, null, 2.9, 2.9, 3.1, 3.1, null, 1.9, 1.9, 2.1, 2.1, null, 0.9, 0.9, 1.1, 1.1, null, -0.1, -0.1, 0.1, 0.1]}, {\"fill\": \"toself\", \"fillcolor\": \"rgb(44, 160, 44)\", \"hoverinfo\": \"name\", \"legendgroup\": \"rgb(44, 160, 44)\", \"mode\": \"none\", \"name\": \"Machine003\", \"showlegend\": true, \"type\": \"scatter\", \"x\": [\"2020-05-23T19:59:57.713123\", \"2020-05-23T20:06:57.713123\", \"2020-05-23T20:06:57.713123\", \"2020-05-23T19:59:57.713123\", \"2020-05-23T19:59:57.713123\", \"2020-05-23T19:52:57.713123\", \"2020-05-23T19:59:57.713123\", \"2020-05-23T19:59:57.713123\", \"2020-05-23T19:52:57.713123\", \"2020-05-23T19:52:57.713123\", \"2020-05-23T20:19:57.713123\", \"2020-05-23T20:21:57.713123\", \"2020-05-23T20:21:57.713123\", \"2020-05-23T20:19:57.713123\", \"2020-05-23T20:19:57.713123\", \"2020-05-23T19:47:57.713123\", \"2020-05-23T19:51:57.713123\", \"2020-05-23T19:51:57.713123\", \"2020-05-23T19:47:57.713123\", \"2020-05-23T19:47:57.713123\", \"2020-05-23T20:34:57.713123\", \"2020-05-23T20:35:57.713123\", \"2020-05-23T20:35:57.713123\", \"2020-05-23T20:34:57.713123\", \"2020-05-23T20:34:57.713123\", \"2020-05-23T20:06:57.713123\", \"2020-05-23T20:14:57.713123\", \"2020-05-23T20:14:57.713123\", \"2020-05-23T20:06:57.713123\", \"2020-05-23T20:06:57.713123\", \"2020-05-23T20:14:57.713123\", \"2020-05-23T20:19:57.713123\", \"2020-05-23T20:19:57.713123\", \"2020-05-23T20:14:57.713123\", \"2020-05-23T20:14:57.713123\", \"2020-05-23T20:29:57.713123\", \"2020-05-23T20:34:57.713123\", \"2020-05-23T20:34:57.713123\", \"2020-05-23T20:29:57.713123\", \"2020-05-23T20:29:57.713123\", \"2020-05-23T20:21:57.713123\", \"2020-05-23T20:29:57.713123\", \"2020-05-23T20:29:57.713123\", \"2020-05-23T20:21:57.713123\"], \"y\": [7.9, 7.9, 8.1, 8.1, null, 6.9, 6.9, 7.1, 7.1, null, 5.9, 5.9, 6.1, 6.1, null, 4.9, 4.9, 5.1, 5.1, null, 3.9, 3.9, 4.1, 4.1, null, 2.9, 2.9, 3.1, 3.1, null, 1.9, 1.9, 2.1, 2.1, null, 0.9, 0.9, 1.1, 1.1, null, -0.1, -0.1, 0.1, 0.1]}, {\"legendgroup\": \"rgb(255, 127, 14)\", \"marker\": {\"color\": \"rgb(255, 127, 14)\", \"opacity\": 0, \"size\": 1}, \"mode\": \"markers\", \"name\": \"\", \"showlegend\": false, \"text\": [null, null, null, null, null, null, null, null, null, null, null, null, null, null, null, null, null, null], \"type\": \"scatter\", \"x\": [\"2020-05-23T19:52:57.713123\", \"2020-05-23T19:55:57.713123\", \"2020-05-23T19:48:57.713123\", \"2020-05-23T19:52:57.713123\", \"2020-05-23T20:03:57.713123\", \"2020-05-23T20:04:57.713123\", \"2020-05-23T19:46:57.713123\", \"2020-05-23T19:47:57.713123\", \"2020-05-23T20:24:57.713123\", \"2020-05-23T20:25:57.713123\", \"2020-05-23T19:56:57.713123\", \"2020-05-23T19:58:57.713123\", \"2020-05-23T20:00:57.713123\", \"2020-05-23T20:03:57.713123\", \"2020-05-23T20:19:57.713123\", \"2020-05-23T20:22:57.713123\", \"2020-05-23T20:11:57.713123\", \"2020-05-23T20:12:57.713123\"], \"y\": [8, 8, 7, 7, 6, 6, 5, 5, 4, 4, 3, 3, 2, 2, 1, 1, 0, 0]}, {\"legendgroup\": \"rgb(31, 119, 180)\", \"marker\": {\"color\": \"rgb(31, 119, 180)\", \"opacity\": 0, \"size\": 1}, \"mode\": \"markers\", \"name\": \"\", \"showlegend\": false, \"text\": [null, null, null, null, null, null, null, null, null, null, null, null, null, null, null, null, null, null], \"type\": \"scatter\", \"x\": [\"2020-05-23T19:48:57.713123\", \"2020-05-23T19:51:57.713123\", \"2020-05-23T19:46:57.713123\", \"2020-05-23T19:48:57.713123\", \"2020-05-23T20:00:57.713123\", \"2020-05-23T20:02:57.713123\", \"2020-05-23T19:45:57.713123\", \"2020-05-23T19:46:57.713123\", \"2020-05-23T20:19:57.713123\", \"2020-05-23T20:24:57.713123\", \"2020-05-23T19:51:57.713123\", \"2020-05-23T19:56:57.713123\", \"2020-05-23T19:56:57.713123\", \"2020-05-23T20:00:57.713123\", \"2020-05-23T20:11:57.713123\", \"2020-05-23T20:19:57.713123\", \"2020-05-23T20:02:57.713123\", \"2020-05-23T20:11:57.713123\"], \"y\": [8, 8, 7, 7, 6, 6, 5, 5, 4, 4, 3, 3, 2, 2, 1, 1, 0, 0]}, {\"legendgroup\": \"rgb(44, 160, 44)\", \"marker\": {\"color\": \"rgb(44, 160, 44)\", \"opacity\": 0, \"size\": 1}, \"mode\": \"markers\", \"name\": \"\", \"showlegend\": false, \"text\": [null, null, null, null, null, null, null, null, null, null, null, null, null, null, null, null, null, null], \"type\": \"scatter\", \"x\": [\"2020-05-23T19:59:57.713123\", \"2020-05-23T20:06:57.713123\", \"2020-05-23T19:52:57.713123\", \"2020-05-23T19:59:57.713123\", \"2020-05-23T20:19:57.713123\", \"2020-05-23T20:21:57.713123\", \"2020-05-23T19:47:57.713123\", \"2020-05-23T19:51:57.713123\", \"2020-05-23T20:34:57.713123\", \"2020-05-23T20:35:57.713123\", \"2020-05-23T20:06:57.713123\", \"2020-05-23T20:14:57.713123\", \"2020-05-23T20:14:57.713123\", \"2020-05-23T20:19:57.713123\", \"2020-05-23T20:29:57.713123\", \"2020-05-23T20:34:57.713123\", \"2020-05-23T20:21:57.713123\", \"2020-05-23T20:29:57.713123\"], \"y\": [8, 8, 7, 7, 6, 6, 5, 5, 4, 4, 3, 3, 2, 2, 1, 1, 0, 0]}],\n",
       "                        {\"height\": 600, \"hovermode\": \"closest\", \"showlegend\": true, \"template\": {\"data\": {\"bar\": [{\"error_x\": {\"color\": \"#2a3f5f\"}, \"error_y\": {\"color\": \"#2a3f5f\"}, \"marker\": {\"line\": {\"color\": \"#E5ECF6\", \"width\": 0.5}}, \"type\": \"bar\"}], \"barpolar\": [{\"marker\": {\"line\": {\"color\": \"#E5ECF6\", \"width\": 0.5}}, \"type\": \"barpolar\"}], \"carpet\": [{\"aaxis\": {\"endlinecolor\": \"#2a3f5f\", \"gridcolor\": \"white\", \"linecolor\": \"white\", \"minorgridcolor\": \"white\", \"startlinecolor\": \"#2a3f5f\"}, \"baxis\": {\"endlinecolor\": \"#2a3f5f\", \"gridcolor\": \"white\", \"linecolor\": \"white\", \"minorgridcolor\": \"white\", \"startlinecolor\": \"#2a3f5f\"}, \"type\": \"carpet\"}], \"choropleth\": [{\"colorbar\": {\"outlinewidth\": 0, \"ticks\": \"\"}, \"type\": \"choropleth\"}], \"contour\": [{\"colorbar\": {\"outlinewidth\": 0, \"ticks\": \"\"}, \"colorscale\": [[0.0, \"#0d0887\"], [0.1111111111111111, \"#46039f\"], [0.2222222222222222, \"#7201a8\"], [0.3333333333333333, \"#9c179e\"], [0.4444444444444444, \"#bd3786\"], [0.5555555555555556, \"#d8576b\"], [0.6666666666666666, \"#ed7953\"], [0.7777777777777778, \"#fb9f3a\"], [0.8888888888888888, \"#fdca26\"], [1.0, \"#f0f921\"]], \"type\": \"contour\"}], \"contourcarpet\": [{\"colorbar\": {\"outlinewidth\": 0, \"ticks\": \"\"}, \"type\": \"contourcarpet\"}], \"heatmap\": [{\"colorbar\": {\"outlinewidth\": 0, \"ticks\": \"\"}, \"colorscale\": [[0.0, \"#0d0887\"], [0.1111111111111111, \"#46039f\"], [0.2222222222222222, \"#7201a8\"], [0.3333333333333333, \"#9c179e\"], [0.4444444444444444, \"#bd3786\"], [0.5555555555555556, \"#d8576b\"], [0.6666666666666666, \"#ed7953\"], [0.7777777777777778, \"#fb9f3a\"], [0.8888888888888888, \"#fdca26\"], [1.0, \"#f0f921\"]], \"type\": \"heatmap\"}], \"heatmapgl\": [{\"colorbar\": {\"outlinewidth\": 0, \"ticks\": \"\"}, \"colorscale\": [[0.0, \"#0d0887\"], [0.1111111111111111, \"#46039f\"], [0.2222222222222222, \"#7201a8\"], [0.3333333333333333, \"#9c179e\"], [0.4444444444444444, \"#bd3786\"], [0.5555555555555556, \"#d8576b\"], [0.6666666666666666, \"#ed7953\"], [0.7777777777777778, \"#fb9f3a\"], [0.8888888888888888, \"#fdca26\"], [1.0, \"#f0f921\"]], \"type\": \"heatmapgl\"}], \"histogram\": [{\"marker\": {\"colorbar\": {\"outlinewidth\": 0, \"ticks\": \"\"}}, \"type\": \"histogram\"}], \"histogram2d\": [{\"colorbar\": {\"outlinewidth\": 0, \"ticks\": \"\"}, \"colorscale\": [[0.0, \"#0d0887\"], [0.1111111111111111, \"#46039f\"], [0.2222222222222222, \"#7201a8\"], [0.3333333333333333, \"#9c179e\"], [0.4444444444444444, \"#bd3786\"], [0.5555555555555556, \"#d8576b\"], [0.6666666666666666, \"#ed7953\"], [0.7777777777777778, \"#fb9f3a\"], [0.8888888888888888, \"#fdca26\"], [1.0, \"#f0f921\"]], \"type\": \"histogram2d\"}], \"histogram2dcontour\": [{\"colorbar\": {\"outlinewidth\": 0, \"ticks\": \"\"}, \"colorscale\": [[0.0, \"#0d0887\"], [0.1111111111111111, \"#46039f\"], [0.2222222222222222, \"#7201a8\"], [0.3333333333333333, \"#9c179e\"], [0.4444444444444444, \"#bd3786\"], [0.5555555555555556, \"#d8576b\"], [0.6666666666666666, \"#ed7953\"], [0.7777777777777778, \"#fb9f3a\"], [0.8888888888888888, \"#fdca26\"], [1.0, \"#f0f921\"]], \"type\": \"histogram2dcontour\"}], \"mesh3d\": [{\"colorbar\": {\"outlinewidth\": 0, \"ticks\": \"\"}, \"type\": \"mesh3d\"}], \"parcoords\": [{\"line\": {\"colorbar\": {\"outlinewidth\": 0, \"ticks\": \"\"}}, \"type\": \"parcoords\"}], \"pie\": [{\"automargin\": true, \"type\": \"pie\"}], \"scatter\": [{\"marker\": {\"colorbar\": {\"outlinewidth\": 0, \"ticks\": \"\"}}, \"type\": \"scatter\"}], \"scatter3d\": [{\"line\": {\"colorbar\": {\"outlinewidth\": 0, \"ticks\": \"\"}}, \"marker\": {\"colorbar\": {\"outlinewidth\": 0, \"ticks\": \"\"}}, \"type\": \"scatter3d\"}], \"scattercarpet\": [{\"marker\": {\"colorbar\": {\"outlinewidth\": 0, \"ticks\": \"\"}}, \"type\": \"scattercarpet\"}], \"scattergeo\": [{\"marker\": {\"colorbar\": {\"outlinewidth\": 0, \"ticks\": \"\"}}, \"type\": \"scattergeo\"}], \"scattergl\": [{\"marker\": {\"colorbar\": {\"outlinewidth\": 0, \"ticks\": \"\"}}, \"type\": \"scattergl\"}], \"scattermapbox\": [{\"marker\": {\"colorbar\": {\"outlinewidth\": 0, \"ticks\": \"\"}}, \"type\": \"scattermapbox\"}], \"scatterpolar\": [{\"marker\": {\"colorbar\": {\"outlinewidth\": 0, \"ticks\": \"\"}}, \"type\": \"scatterpolar\"}], \"scatterpolargl\": [{\"marker\": {\"colorbar\": {\"outlinewidth\": 0, \"ticks\": \"\"}}, \"type\": \"scatterpolargl\"}], \"scatterternary\": [{\"marker\": {\"colorbar\": {\"outlinewidth\": 0, \"ticks\": \"\"}}, \"type\": \"scatterternary\"}], \"surface\": [{\"colorbar\": {\"outlinewidth\": 0, \"ticks\": \"\"}, \"colorscale\": [[0.0, \"#0d0887\"], [0.1111111111111111, \"#46039f\"], [0.2222222222222222, \"#7201a8\"], [0.3333333333333333, \"#9c179e\"], [0.4444444444444444, \"#bd3786\"], [0.5555555555555556, \"#d8576b\"], [0.6666666666666666, \"#ed7953\"], [0.7777777777777778, \"#fb9f3a\"], [0.8888888888888888, \"#fdca26\"], [1.0, \"#f0f921\"]], \"type\": \"surface\"}], \"table\": [{\"cells\": {\"fill\": {\"color\": \"#EBF0F8\"}, \"line\": {\"color\": \"white\"}}, \"header\": {\"fill\": {\"color\": \"#C8D4E3\"}, \"line\": {\"color\": \"white\"}}, \"type\": \"table\"}]}, \"layout\": {\"annotationdefaults\": {\"arrowcolor\": \"#2a3f5f\", \"arrowhead\": 0, \"arrowwidth\": 1}, \"coloraxis\": {\"colorbar\": {\"outlinewidth\": 0, \"ticks\": \"\"}}, \"colorscale\": {\"diverging\": [[0, \"#8e0152\"], [0.1, \"#c51b7d\"], [0.2, \"#de77ae\"], [0.3, \"#f1b6da\"], [0.4, \"#fde0ef\"], [0.5, \"#f7f7f7\"], [0.6, \"#e6f5d0\"], [0.7, \"#b8e186\"], [0.8, \"#7fbc41\"], [0.9, \"#4d9221\"], [1, \"#276419\"]], \"sequential\": [[0.0, \"#0d0887\"], [0.1111111111111111, \"#46039f\"], [0.2222222222222222, \"#7201a8\"], [0.3333333333333333, \"#9c179e\"], [0.4444444444444444, \"#bd3786\"], [0.5555555555555556, \"#d8576b\"], [0.6666666666666666, \"#ed7953\"], [0.7777777777777778, \"#fb9f3a\"], [0.8888888888888888, \"#fdca26\"], [1.0, \"#f0f921\"]], \"sequentialminus\": [[0.0, \"#0d0887\"], [0.1111111111111111, \"#46039f\"], [0.2222222222222222, \"#7201a8\"], [0.3333333333333333, \"#9c179e\"], [0.4444444444444444, \"#bd3786\"], [0.5555555555555556, \"#d8576b\"], [0.6666666666666666, \"#ed7953\"], [0.7777777777777778, \"#fb9f3a\"], [0.8888888888888888, \"#fdca26\"], [1.0, \"#f0f921\"]]}, \"colorway\": [\"#636efa\", \"#EF553B\", \"#00cc96\", \"#ab63fa\", \"#FFA15A\", \"#19d3f3\", \"#FF6692\", \"#B6E880\", \"#FF97FF\", \"#FECB52\"], \"font\": {\"color\": \"#2a3f5f\"}, \"geo\": {\"bgcolor\": \"white\", \"lakecolor\": \"white\", \"landcolor\": \"#E5ECF6\", \"showlakes\": true, \"showland\": true, \"subunitcolor\": \"white\"}, \"hoverlabel\": {\"align\": \"left\"}, \"hovermode\": \"closest\", \"mapbox\": {\"style\": \"light\"}, \"paper_bgcolor\": \"white\", \"plot_bgcolor\": \"#E5ECF6\", \"polar\": {\"angularaxis\": {\"gridcolor\": \"white\", \"linecolor\": \"white\", \"ticks\": \"\"}, \"bgcolor\": \"#E5ECF6\", \"radialaxis\": {\"gridcolor\": \"white\", \"linecolor\": \"white\", \"ticks\": \"\"}}, \"scene\": {\"xaxis\": {\"backgroundcolor\": \"#E5ECF6\", \"gridcolor\": \"white\", \"gridwidth\": 2, \"linecolor\": \"white\", \"showbackground\": true, \"ticks\": \"\", \"zerolinecolor\": \"white\"}, \"yaxis\": {\"backgroundcolor\": \"#E5ECF6\", \"gridcolor\": \"white\", \"gridwidth\": 2, \"linecolor\": \"white\", \"showbackground\": true, \"ticks\": \"\", \"zerolinecolor\": \"white\"}, \"zaxis\": {\"backgroundcolor\": \"#E5ECF6\", \"gridcolor\": \"white\", \"gridwidth\": 2, \"linecolor\": \"white\", \"showbackground\": true, \"ticks\": \"\", \"zerolinecolor\": \"white\"}}, \"shapedefaults\": {\"line\": {\"color\": \"#2a3f5f\"}}, \"ternary\": {\"aaxis\": {\"gridcolor\": \"white\", \"linecolor\": \"white\", \"ticks\": \"\"}, \"baxis\": {\"gridcolor\": \"white\", \"linecolor\": \"white\", \"ticks\": \"\"}, \"bgcolor\": \"#E5ECF6\", \"caxis\": {\"gridcolor\": \"white\", \"linecolor\": \"white\", \"ticks\": \"\"}}, \"title\": {\"x\": 0.05}, \"xaxis\": {\"automargin\": true, \"gridcolor\": \"white\", \"linecolor\": \"white\", \"ticks\": \"\", \"title\": {\"standoff\": 15}, \"zerolinecolor\": \"white\", \"zerolinewidth\": 2}, \"yaxis\": {\"automargin\": true, \"gridcolor\": \"white\", \"linecolor\": \"white\", \"ticks\": \"\", \"title\": {\"standoff\": 15}, \"zerolinecolor\": \"white\", \"zerolinewidth\": 2}}}, \"title\": {\"font\": {\"size\": 24}, \"text\": \" Makespan: 50.00 Scheduling:[4 2 1 6 7 3 9 8 5]\", \"x\": 0.5, \"xanchor\": \"center\", \"y\": 0.75, \"yanchor\": \"top\"}, \"xaxis\": {\"rangeselector\": {\"buttons\": [{\"count\": 7, \"label\": \"1w\", \"step\": \"day\", \"stepmode\": \"backward\"}, {\"count\": 1, \"label\": \"1m\", \"step\": \"month\", \"stepmode\": \"backward\"}, {\"count\": 6, \"label\": \"6m\", \"step\": \"month\", \"stepmode\": \"backward\"}, {\"count\": 1, \"label\": \"YTD\", \"step\": \"year\", \"stepmode\": \"todate\"}, {\"count\": 1, \"label\": \"1y\", \"step\": \"year\", \"stepmode\": \"backward\"}, {\"step\": \"all\"}]}, \"showgrid\": true, \"type\": \"date\", \"zeroline\": false}, \"yaxis\": {\"autorange\": false, \"range\": [-1, 10], \"showgrid\": true, \"ticktext\": [\"Task009\", \"Task008\", \"Task007\", \"Task006\", \"Task005\", \"Task004\", \"Task003\", \"Task002\", \"Task001\"], \"tickvals\": [0, 1, 2, 3, 4, 5, 6, 7, 8], \"zeroline\": false}},\n",
       "                        {\"responsive\": true}\n",
       "                    ).then(function(){\n",
       "                            \n",
       "var gd = document.getElementById('4f88478d-b7fe-4067-b399-ef43adf42e57');\n",
       "var x = new MutationObserver(function (mutations, observer) {{\n",
       "        var display = window.getComputedStyle(gd).display;\n",
       "        if (!display || display === 'none') {{\n",
       "            console.log([gd, 'removed!']);\n",
       "            Plotly.purge(gd);\n",
       "            observer.disconnect();\n",
       "        }}\n",
       "}});\n",
       "\n",
       "// Listen for the removal of the full notebook cells\n",
       "var notebookContainer = gd.closest('#notebook-container');\n",
       "if (notebookContainer) {{\n",
       "    x.observe(notebookContainer, {childList: true});\n",
       "}}\n",
       "\n",
       "// Listen for the clearing of the current output cell\n",
       "var outputEl = gd.closest('.output');\n",
       "if (outputEl) {{\n",
       "    x.observe(outputEl, {childList: true});\n",
       "}}\n",
       "\n",
       "                        })\n",
       "                };\n",
       "                });\n",
       "            </script>\n",
       "        </div>"
      ]
     },
     "metadata": {},
     "output_type": "display_data"
    }
   ],
   "source": [
    "problem.plot(dict_01)"
   ]
  },
  {
   "cell_type": "code",
   "execution_count": 191,
   "metadata": {},
   "outputs": [
    {
     "data": {
      "text/html": [
       "<div>\n",
       "<style scoped>\n",
       "    .dataframe tbody tr th:only-of-type {\n",
       "        vertical-align: middle;\n",
       "    }\n",
       "\n",
       "    .dataframe tbody tr th {\n",
       "        vertical-align: top;\n",
       "    }\n",
       "\n",
       "    .dataframe thead th {\n",
       "        text-align: right;\n",
       "    }\n",
       "</style>\n",
       "<table border=\"1\" class=\"dataframe\">\n",
       "  <thead>\n",
       "    <tr style=\"text-align: right;\">\n",
       "      <th></th>\n",
       "      <th>Task</th>\n",
       "      <th>Start</th>\n",
       "      <th>Finish</th>\n",
       "      <th>Complete</th>\n",
       "      <th>Resource</th>\n",
       "    </tr>\n",
       "  </thead>\n",
       "  <tbody>\n",
       "    <tr>\n",
       "      <th>0</th>\n",
       "      <td>Job A</td>\n",
       "      <td>2009-01-01</td>\n",
       "      <td>2009-02-26</td>\n",
       "      <td>23</td>\n",
       "      <td>A</td>\n",
       "    </tr>\n",
       "    <tr>\n",
       "      <th>1</th>\n",
       "      <td>Job B</td>\n",
       "      <td>2009-03-05</td>\n",
       "      <td>2009-04-15</td>\n",
       "      <td>55</td>\n",
       "      <td>A</td>\n",
       "    </tr>\n",
       "    <tr>\n",
       "      <th>2</th>\n",
       "      <td>Job C</td>\n",
       "      <td>2009-02-20 12:40:00</td>\n",
       "      <td>2009-05-30 15:12:44</td>\n",
       "      <td>97</td>\n",
       "      <td>C</td>\n",
       "    </tr>\n",
       "    <tr>\n",
       "      <th>3</th>\n",
       "      <td>Job D</td>\n",
       "      <td>2009-03-10</td>\n",
       "      <td>2009-04-30</td>\n",
       "      <td>11</td>\n",
       "      <td>B</td>\n",
       "    </tr>\n",
       "    <tr>\n",
       "      <th>4</th>\n",
       "      <td>Job E</td>\n",
       "      <td>2009-02-25</td>\n",
       "      <td>2009-06-30</td>\n",
       "      <td>14</td>\n",
       "      <td>A</td>\n",
       "    </tr>\n",
       "  </tbody>\n",
       "</table>\n",
       "</div>"
      ],
      "text/plain": [
       "    Task                Start               Finish  Complete Resource\n",
       "0  Job A           2009-01-01           2009-02-26        23        A\n",
       "1  Job B           2009-03-05           2009-04-15        55        A\n",
       "2  Job C  2009-02-20 12:40:00  2009-05-30 15:12:44        97        C\n",
       "3  Job D           2009-03-10           2009-04-30        11        B\n",
       "4  Job E           2009-02-25           2009-06-30        14        A"
      ]
     },
     "execution_count": 191,
     "metadata": {},
     "output_type": "execute_result"
    }
   ],
   "source": [
    "df"
   ]
  },
  {
   "cell_type": "code",
   "execution_count": 190,
   "metadata": {},
   "outputs": [
    {
     "data": {
      "application/vnd.plotly.v1+json": {
       "config": {
        "plotlyServerURL": "https://plot.ly"
       },
       "data": [
        {
         "fill": "toself",
         "fillcolor": "rgb(103.80000000000001, 153.75, 136.75)",
         "hoverinfo": "name",
         "legendgroup": "rgb(103.80000000000001, 153.75, 136.75)",
         "mode": "none",
         "name": "55",
         "showlegend": false,
         "type": "scatter",
         "x": [
          "2009-03-05",
          "2009-04-15",
          "2009-04-15",
          "2009-03-05"
         ],
         "y": [
          0.8,
          0.8,
          1.2,
          1.2
         ]
        },
        {
         "fill": "toself",
         "fillcolor": "rgb(144.12, 223.04999999999998, 189.25)",
         "hoverinfo": "name",
         "legendgroup": "rgb(144.12, 223.04999999999998, 189.25)",
         "mode": "none",
         "name": "97",
         "showlegend": false,
         "type": "scatter",
         "x": [
          "2009-02-20 12:40:00",
          "2009-05-30 15:12:44",
          "2009-05-30 15:12:44",
          "2009-02-20 12:40:00"
         ],
         "y": [
          1.8,
          1.8,
          2.2,
          2.2
         ]
        },
        {
         "fill": "toself",
         "fillcolor": "rgb(61.56, 81.15, 81.75)",
         "hoverinfo": "name",
         "legendgroup": "rgb(61.56, 81.15, 81.75)",
         "mode": "none",
         "name": "11",
         "showlegend": false,
         "type": "scatter",
         "x": [
          "2009-03-10",
          "2009-04-30",
          "2009-04-30",
          "2009-03-10"
         ],
         "y": [
          2.8,
          2.8,
          3.2,
          3.2
         ]
        },
        {
         "fill": "toself",
         "fillcolor": "rgb(64.44, 86.1, 85.5)",
         "hoverinfo": "name",
         "legendgroup": "rgb(64.44, 86.1, 85.5)",
         "mode": "none",
         "name": "14",
         "showlegend": false,
         "type": "scatter",
         "x": [
          "2009-02-25",
          "2009-06-30",
          "2009-06-30",
          "2009-02-25"
         ],
         "y": [
          3.8,
          3.8,
          4.2,
          4.2
         ]
        },
        {
         "fill": "toself",
         "fillcolor": "rgb(73.08, 100.95, 96.75)",
         "hoverinfo": "name",
         "legendgroup": "rgb(73.08, 100.95, 96.75)",
         "mode": "none",
         "name": "23",
         "showlegend": false,
         "type": "scatter",
         "x": [
          "2009-01-01",
          "2009-02-26",
          "2009-02-26",
          "2009-01-01"
         ],
         "y": [
          -0.2,
          -0.2,
          0.2,
          0.2
         ]
        },
        {
         "legendgroup": "rgb(103.80000000000001, 153.75, 136.75)",
         "marker": {
          "color": "rgb(103.80000000000001, 153.75, 136.75)",
          "opacity": 0,
          "size": 1
         },
         "mode": "markers",
         "name": "",
         "showlegend": false,
         "text": [
          null,
          null
         ],
         "type": "scatter",
         "x": [
          "2009-03-05",
          "2009-04-15"
         ],
         "y": [
          1,
          1
         ]
        },
        {
         "legendgroup": "rgb(144.12, 223.04999999999998, 189.25)",
         "marker": {
          "color": "rgb(144.12, 223.04999999999998, 189.25)",
          "opacity": 0,
          "size": 1
         },
         "mode": "markers",
         "name": "",
         "showlegend": false,
         "text": [
          null,
          null
         ],
         "type": "scatter",
         "x": [
          "2009-02-20 12:40:00",
          "2009-05-30 15:12:44"
         ],
         "y": [
          2,
          2
         ]
        },
        {
         "legendgroup": "rgb(61.56, 81.15, 81.75)",
         "marker": {
          "color": "rgb(61.56, 81.15, 81.75)",
          "opacity": 0,
          "size": 1
         },
         "mode": "markers",
         "name": "",
         "showlegend": false,
         "text": [
          null,
          null
         ],
         "type": "scatter",
         "x": [
          "2009-03-10",
          "2009-04-30"
         ],
         "y": [
          3,
          3
         ]
        },
        {
         "legendgroup": "rgb(64.44, 86.1, 85.5)",
         "marker": {
          "color": "rgb(64.44, 86.1, 85.5)",
          "opacity": 0,
          "size": 1
         },
         "mode": "markers",
         "name": "",
         "showlegend": false,
         "text": [
          null,
          null
         ],
         "type": "scatter",
         "x": [
          "2009-02-25",
          "2009-06-30"
         ],
         "y": [
          4,
          4
         ]
        },
        {
         "legendgroup": "rgb(73.08, 100.95, 96.75)",
         "marker": {
          "cmax": 100,
          "cmin": 0,
          "color": "rgb(73.08, 100.95, 96.75)",
          "colorscale": [
           [
            0,
            "rgb(51.0, 63.0, 68.0)"
           ],
           [
            1,
            "rgb(147.0, 228.0, 193.0)"
           ]
          ],
          "opacity": 0,
          "showscale": true,
          "size": 1
         },
         "mode": "markers",
         "name": "",
         "showlegend": false,
         "text": [
          null,
          null
         ],
         "type": "scatter",
         "x": [
          "2009-01-01",
          "2009-02-26"
         ],
         "y": [
          0,
          0
         ]
        }
       ],
       "layout": {
        "height": 600,
        "hovermode": "closest",
        "showlegend": false,
        "template": {
         "data": {
          "bar": [
           {
            "error_x": {
             "color": "#2a3f5f"
            },
            "error_y": {
             "color": "#2a3f5f"
            },
            "marker": {
             "line": {
              "color": "#E5ECF6",
              "width": 0.5
             }
            },
            "type": "bar"
           }
          ],
          "barpolar": [
           {
            "marker": {
             "line": {
              "color": "#E5ECF6",
              "width": 0.5
             }
            },
            "type": "barpolar"
           }
          ],
          "carpet": [
           {
            "aaxis": {
             "endlinecolor": "#2a3f5f",
             "gridcolor": "white",
             "linecolor": "white",
             "minorgridcolor": "white",
             "startlinecolor": "#2a3f5f"
            },
            "baxis": {
             "endlinecolor": "#2a3f5f",
             "gridcolor": "white",
             "linecolor": "white",
             "minorgridcolor": "white",
             "startlinecolor": "#2a3f5f"
            },
            "type": "carpet"
           }
          ],
          "choropleth": [
           {
            "colorbar": {
             "outlinewidth": 0,
             "ticks": ""
            },
            "type": "choropleth"
           }
          ],
          "contour": [
           {
            "colorbar": {
             "outlinewidth": 0,
             "ticks": ""
            },
            "colorscale": [
             [
              0,
              "#0d0887"
             ],
             [
              0.1111111111111111,
              "#46039f"
             ],
             [
              0.2222222222222222,
              "#7201a8"
             ],
             [
              0.3333333333333333,
              "#9c179e"
             ],
             [
              0.4444444444444444,
              "#bd3786"
             ],
             [
              0.5555555555555556,
              "#d8576b"
             ],
             [
              0.6666666666666666,
              "#ed7953"
             ],
             [
              0.7777777777777778,
              "#fb9f3a"
             ],
             [
              0.8888888888888888,
              "#fdca26"
             ],
             [
              1,
              "#f0f921"
             ]
            ],
            "type": "contour"
           }
          ],
          "contourcarpet": [
           {
            "colorbar": {
             "outlinewidth": 0,
             "ticks": ""
            },
            "type": "contourcarpet"
           }
          ],
          "heatmap": [
           {
            "colorbar": {
             "outlinewidth": 0,
             "ticks": ""
            },
            "colorscale": [
             [
              0,
              "#0d0887"
             ],
             [
              0.1111111111111111,
              "#46039f"
             ],
             [
              0.2222222222222222,
              "#7201a8"
             ],
             [
              0.3333333333333333,
              "#9c179e"
             ],
             [
              0.4444444444444444,
              "#bd3786"
             ],
             [
              0.5555555555555556,
              "#d8576b"
             ],
             [
              0.6666666666666666,
              "#ed7953"
             ],
             [
              0.7777777777777778,
              "#fb9f3a"
             ],
             [
              0.8888888888888888,
              "#fdca26"
             ],
             [
              1,
              "#f0f921"
             ]
            ],
            "type": "heatmap"
           }
          ],
          "heatmapgl": [
           {
            "colorbar": {
             "outlinewidth": 0,
             "ticks": ""
            },
            "colorscale": [
             [
              0,
              "#0d0887"
             ],
             [
              0.1111111111111111,
              "#46039f"
             ],
             [
              0.2222222222222222,
              "#7201a8"
             ],
             [
              0.3333333333333333,
              "#9c179e"
             ],
             [
              0.4444444444444444,
              "#bd3786"
             ],
             [
              0.5555555555555556,
              "#d8576b"
             ],
             [
              0.6666666666666666,
              "#ed7953"
             ],
             [
              0.7777777777777778,
              "#fb9f3a"
             ],
             [
              0.8888888888888888,
              "#fdca26"
             ],
             [
              1,
              "#f0f921"
             ]
            ],
            "type": "heatmapgl"
           }
          ],
          "histogram": [
           {
            "marker": {
             "colorbar": {
              "outlinewidth": 0,
              "ticks": ""
             }
            },
            "type": "histogram"
           }
          ],
          "histogram2d": [
           {
            "colorbar": {
             "outlinewidth": 0,
             "ticks": ""
            },
            "colorscale": [
             [
              0,
              "#0d0887"
             ],
             [
              0.1111111111111111,
              "#46039f"
             ],
             [
              0.2222222222222222,
              "#7201a8"
             ],
             [
              0.3333333333333333,
              "#9c179e"
             ],
             [
              0.4444444444444444,
              "#bd3786"
             ],
             [
              0.5555555555555556,
              "#d8576b"
             ],
             [
              0.6666666666666666,
              "#ed7953"
             ],
             [
              0.7777777777777778,
              "#fb9f3a"
             ],
             [
              0.8888888888888888,
              "#fdca26"
             ],
             [
              1,
              "#f0f921"
             ]
            ],
            "type": "histogram2d"
           }
          ],
          "histogram2dcontour": [
           {
            "colorbar": {
             "outlinewidth": 0,
             "ticks": ""
            },
            "colorscale": [
             [
              0,
              "#0d0887"
             ],
             [
              0.1111111111111111,
              "#46039f"
             ],
             [
              0.2222222222222222,
              "#7201a8"
             ],
             [
              0.3333333333333333,
              "#9c179e"
             ],
             [
              0.4444444444444444,
              "#bd3786"
             ],
             [
              0.5555555555555556,
              "#d8576b"
             ],
             [
              0.6666666666666666,
              "#ed7953"
             ],
             [
              0.7777777777777778,
              "#fb9f3a"
             ],
             [
              0.8888888888888888,
              "#fdca26"
             ],
             [
              1,
              "#f0f921"
             ]
            ],
            "type": "histogram2dcontour"
           }
          ],
          "mesh3d": [
           {
            "colorbar": {
             "outlinewidth": 0,
             "ticks": ""
            },
            "type": "mesh3d"
           }
          ],
          "parcoords": [
           {
            "line": {
             "colorbar": {
              "outlinewidth": 0,
              "ticks": ""
             }
            },
            "type": "parcoords"
           }
          ],
          "pie": [
           {
            "automargin": true,
            "type": "pie"
           }
          ],
          "scatter": [
           {
            "marker": {
             "colorbar": {
              "outlinewidth": 0,
              "ticks": ""
             }
            },
            "type": "scatter"
           }
          ],
          "scatter3d": [
           {
            "line": {
             "colorbar": {
              "outlinewidth": 0,
              "ticks": ""
             }
            },
            "marker": {
             "colorbar": {
              "outlinewidth": 0,
              "ticks": ""
             }
            },
            "type": "scatter3d"
           }
          ],
          "scattercarpet": [
           {
            "marker": {
             "colorbar": {
              "outlinewidth": 0,
              "ticks": ""
             }
            },
            "type": "scattercarpet"
           }
          ],
          "scattergeo": [
           {
            "marker": {
             "colorbar": {
              "outlinewidth": 0,
              "ticks": ""
             }
            },
            "type": "scattergeo"
           }
          ],
          "scattergl": [
           {
            "marker": {
             "colorbar": {
              "outlinewidth": 0,
              "ticks": ""
             }
            },
            "type": "scattergl"
           }
          ],
          "scattermapbox": [
           {
            "marker": {
             "colorbar": {
              "outlinewidth": 0,
              "ticks": ""
             }
            },
            "type": "scattermapbox"
           }
          ],
          "scatterpolar": [
           {
            "marker": {
             "colorbar": {
              "outlinewidth": 0,
              "ticks": ""
             }
            },
            "type": "scatterpolar"
           }
          ],
          "scatterpolargl": [
           {
            "marker": {
             "colorbar": {
              "outlinewidth": 0,
              "ticks": ""
             }
            },
            "type": "scatterpolargl"
           }
          ],
          "scatterternary": [
           {
            "marker": {
             "colorbar": {
              "outlinewidth": 0,
              "ticks": ""
             }
            },
            "type": "scatterternary"
           }
          ],
          "surface": [
           {
            "colorbar": {
             "outlinewidth": 0,
             "ticks": ""
            },
            "colorscale": [
             [
              0,
              "#0d0887"
             ],
             [
              0.1111111111111111,
              "#46039f"
             ],
             [
              0.2222222222222222,
              "#7201a8"
             ],
             [
              0.3333333333333333,
              "#9c179e"
             ],
             [
              0.4444444444444444,
              "#bd3786"
             ],
             [
              0.5555555555555556,
              "#d8576b"
             ],
             [
              0.6666666666666666,
              "#ed7953"
             ],
             [
              0.7777777777777778,
              "#fb9f3a"
             ],
             [
              0.8888888888888888,
              "#fdca26"
             ],
             [
              1,
              "#f0f921"
             ]
            ],
            "type": "surface"
           }
          ],
          "table": [
           {
            "cells": {
             "fill": {
              "color": "#EBF0F8"
             },
             "line": {
              "color": "white"
             }
            },
            "header": {
             "fill": {
              "color": "#C8D4E3"
             },
             "line": {
              "color": "white"
             }
            },
            "type": "table"
           }
          ]
         },
         "layout": {
          "annotationdefaults": {
           "arrowcolor": "#2a3f5f",
           "arrowhead": 0,
           "arrowwidth": 1
          },
          "coloraxis": {
           "colorbar": {
            "outlinewidth": 0,
            "ticks": ""
           }
          },
          "colorscale": {
           "diverging": [
            [
             0,
             "#8e0152"
            ],
            [
             0.1,
             "#c51b7d"
            ],
            [
             0.2,
             "#de77ae"
            ],
            [
             0.3,
             "#f1b6da"
            ],
            [
             0.4,
             "#fde0ef"
            ],
            [
             0.5,
             "#f7f7f7"
            ],
            [
             0.6,
             "#e6f5d0"
            ],
            [
             0.7,
             "#b8e186"
            ],
            [
             0.8,
             "#7fbc41"
            ],
            [
             0.9,
             "#4d9221"
            ],
            [
             1,
             "#276419"
            ]
           ],
           "sequential": [
            [
             0,
             "#0d0887"
            ],
            [
             0.1111111111111111,
             "#46039f"
            ],
            [
             0.2222222222222222,
             "#7201a8"
            ],
            [
             0.3333333333333333,
             "#9c179e"
            ],
            [
             0.4444444444444444,
             "#bd3786"
            ],
            [
             0.5555555555555556,
             "#d8576b"
            ],
            [
             0.6666666666666666,
             "#ed7953"
            ],
            [
             0.7777777777777778,
             "#fb9f3a"
            ],
            [
             0.8888888888888888,
             "#fdca26"
            ],
            [
             1,
             "#f0f921"
            ]
           ],
           "sequentialminus": [
            [
             0,
             "#0d0887"
            ],
            [
             0.1111111111111111,
             "#46039f"
            ],
            [
             0.2222222222222222,
             "#7201a8"
            ],
            [
             0.3333333333333333,
             "#9c179e"
            ],
            [
             0.4444444444444444,
             "#bd3786"
            ],
            [
             0.5555555555555556,
             "#d8576b"
            ],
            [
             0.6666666666666666,
             "#ed7953"
            ],
            [
             0.7777777777777778,
             "#fb9f3a"
            ],
            [
             0.8888888888888888,
             "#fdca26"
            ],
            [
             1,
             "#f0f921"
            ]
           ]
          },
          "colorway": [
           "#636efa",
           "#EF553B",
           "#00cc96",
           "#ab63fa",
           "#FFA15A",
           "#19d3f3",
           "#FF6692",
           "#B6E880",
           "#FF97FF",
           "#FECB52"
          ],
          "font": {
           "color": "#2a3f5f"
          },
          "geo": {
           "bgcolor": "white",
           "lakecolor": "white",
           "landcolor": "#E5ECF6",
           "showlakes": true,
           "showland": true,
           "subunitcolor": "white"
          },
          "hoverlabel": {
           "align": "left"
          },
          "hovermode": "closest",
          "mapbox": {
           "style": "light"
          },
          "paper_bgcolor": "white",
          "plot_bgcolor": "#E5ECF6",
          "polar": {
           "angularaxis": {
            "gridcolor": "white",
            "linecolor": "white",
            "ticks": ""
           },
           "bgcolor": "#E5ECF6",
           "radialaxis": {
            "gridcolor": "white",
            "linecolor": "white",
            "ticks": ""
           }
          },
          "scene": {
           "xaxis": {
            "backgroundcolor": "#E5ECF6",
            "gridcolor": "white",
            "gridwidth": 2,
            "linecolor": "white",
            "showbackground": true,
            "ticks": "",
            "zerolinecolor": "white"
           },
           "yaxis": {
            "backgroundcolor": "#E5ECF6",
            "gridcolor": "white",
            "gridwidth": 2,
            "linecolor": "white",
            "showbackground": true,
            "ticks": "",
            "zerolinecolor": "white"
           },
           "zaxis": {
            "backgroundcolor": "#E5ECF6",
            "gridcolor": "white",
            "gridwidth": 2,
            "linecolor": "white",
            "showbackground": true,
            "ticks": "",
            "zerolinecolor": "white"
           }
          },
          "shapedefaults": {
           "line": {
            "color": "#2a3f5f"
           }
          },
          "ternary": {
           "aaxis": {
            "gridcolor": "white",
            "linecolor": "white",
            "ticks": ""
           },
           "baxis": {
            "gridcolor": "white",
            "linecolor": "white",
            "ticks": ""
           },
           "bgcolor": "#E5ECF6",
           "caxis": {
            "gridcolor": "white",
            "linecolor": "white",
            "ticks": ""
           }
          },
          "title": {
           "x": 0.05
          },
          "xaxis": {
           "automargin": true,
           "gridcolor": "white",
           "linecolor": "white",
           "ticks": "",
           "title": {
            "standoff": 15
           },
           "zerolinecolor": "white",
           "zerolinewidth": 2
          },
          "yaxis": {
           "automargin": true,
           "gridcolor": "white",
           "linecolor": "white",
           "ticks": "",
           "title": {
            "standoff": 15
           },
           "zerolinecolor": "white",
           "zerolinewidth": 2
          }
         }
        },
        "title": {
         "text": "Gantt Chart"
        },
        "xaxis": {
         "rangeselector": {
          "buttons": [
           {
            "count": 7,
            "label": "1w",
            "step": "day",
            "stepmode": "backward"
           },
           {
            "count": 1,
            "label": "1m",
            "step": "month",
            "stepmode": "backward"
           },
           {
            "count": 6,
            "label": "6m",
            "step": "month",
            "stepmode": "backward"
           },
           {
            "count": 1,
            "label": "YTD",
            "step": "year",
            "stepmode": "todate"
           },
           {
            "count": 1,
            "label": "1y",
            "step": "year",
            "stepmode": "backward"
           },
           {
            "step": "all"
           }
          ]
         },
         "showgrid": true,
         "type": "date",
         "zeroline": false
        },
        "yaxis": {
         "autorange": false,
         "range": [
          -1,
          6
         ],
         "showgrid": true,
         "ticktext": [
          "Job A",
          "Job B",
          "Job C",
          "Job D",
          "Job E"
         ],
         "tickvals": [
          0,
          1,
          2,
          3,
          4
         ],
         "zeroline": false
        }
       }
      },
      "text/html": [
       "<div>\n",
       "        \n",
       "        \n",
       "            <div id=\"68400e0f-6ce9-4b57-b666-50507645afd0\" class=\"plotly-graph-div\" style=\"height:600px; width:100%;\"></div>\n",
       "            <script type=\"text/javascript\">\n",
       "                require([\"plotly\"], function(Plotly) {\n",
       "                    window.PLOTLYENV=window.PLOTLYENV || {};\n",
       "                    \n",
       "                if (document.getElementById(\"68400e0f-6ce9-4b57-b666-50507645afd0\")) {\n",
       "                    Plotly.newPlot(\n",
       "                        '68400e0f-6ce9-4b57-b666-50507645afd0',\n",
       "                        [{\"fill\": \"toself\", \"fillcolor\": \"rgb(103.80000000000001, 153.75, 136.75)\", \"hoverinfo\": \"name\", \"legendgroup\": \"rgb(103.80000000000001, 153.75, 136.75)\", \"mode\": \"none\", \"name\": \"55\", \"showlegend\": false, \"type\": \"scatter\", \"x\": [\"2009-03-05\", \"2009-04-15\", \"2009-04-15\", \"2009-03-05\"], \"y\": [0.8, 0.8, 1.2, 1.2]}, {\"fill\": \"toself\", \"fillcolor\": \"rgb(144.12, 223.04999999999998, 189.25)\", \"hoverinfo\": \"name\", \"legendgroup\": \"rgb(144.12, 223.04999999999998, 189.25)\", \"mode\": \"none\", \"name\": \"97\", \"showlegend\": false, \"type\": \"scatter\", \"x\": [\"2009-02-20 12:40:00\", \"2009-05-30 15:12:44\", \"2009-05-30 15:12:44\", \"2009-02-20 12:40:00\"], \"y\": [1.8, 1.8, 2.2, 2.2]}, {\"fill\": \"toself\", \"fillcolor\": \"rgb(61.56, 81.15, 81.75)\", \"hoverinfo\": \"name\", \"legendgroup\": \"rgb(61.56, 81.15, 81.75)\", \"mode\": \"none\", \"name\": \"11\", \"showlegend\": false, \"type\": \"scatter\", \"x\": [\"2009-03-10\", \"2009-04-30\", \"2009-04-30\", \"2009-03-10\"], \"y\": [2.8, 2.8, 3.2, 3.2]}, {\"fill\": \"toself\", \"fillcolor\": \"rgb(64.44, 86.1, 85.5)\", \"hoverinfo\": \"name\", \"legendgroup\": \"rgb(64.44, 86.1, 85.5)\", \"mode\": \"none\", \"name\": \"14\", \"showlegend\": false, \"type\": \"scatter\", \"x\": [\"2009-02-25\", \"2009-06-30\", \"2009-06-30\", \"2009-02-25\"], \"y\": [3.8, 3.8, 4.2, 4.2]}, {\"fill\": \"toself\", \"fillcolor\": \"rgb(73.08, 100.95, 96.75)\", \"hoverinfo\": \"name\", \"legendgroup\": \"rgb(73.08, 100.95, 96.75)\", \"mode\": \"none\", \"name\": \"23\", \"showlegend\": false, \"type\": \"scatter\", \"x\": [\"2009-01-01\", \"2009-02-26\", \"2009-02-26\", \"2009-01-01\"], \"y\": [-0.2, -0.2, 0.2, 0.2]}, {\"legendgroup\": \"rgb(103.80000000000001, 153.75, 136.75)\", \"marker\": {\"color\": \"rgb(103.80000000000001, 153.75, 136.75)\", \"opacity\": 0, \"size\": 1}, \"mode\": \"markers\", \"name\": \"\", \"showlegend\": false, \"text\": [null, null], \"type\": \"scatter\", \"x\": [\"2009-03-05\", \"2009-04-15\"], \"y\": [1, 1]}, {\"legendgroup\": \"rgb(144.12, 223.04999999999998, 189.25)\", \"marker\": {\"color\": \"rgb(144.12, 223.04999999999998, 189.25)\", \"opacity\": 0, \"size\": 1}, \"mode\": \"markers\", \"name\": \"\", \"showlegend\": false, \"text\": [null, null], \"type\": \"scatter\", \"x\": [\"2009-02-20 12:40:00\", \"2009-05-30 15:12:44\"], \"y\": [2, 2]}, {\"legendgroup\": \"rgb(61.56, 81.15, 81.75)\", \"marker\": {\"color\": \"rgb(61.56, 81.15, 81.75)\", \"opacity\": 0, \"size\": 1}, \"mode\": \"markers\", \"name\": \"\", \"showlegend\": false, \"text\": [null, null], \"type\": \"scatter\", \"x\": [\"2009-03-10\", \"2009-04-30\"], \"y\": [3, 3]}, {\"legendgroup\": \"rgb(64.44, 86.1, 85.5)\", \"marker\": {\"color\": \"rgb(64.44, 86.1, 85.5)\", \"opacity\": 0, \"size\": 1}, \"mode\": \"markers\", \"name\": \"\", \"showlegend\": false, \"text\": [null, null], \"type\": \"scatter\", \"x\": [\"2009-02-25\", \"2009-06-30\"], \"y\": [4, 4]}, {\"legendgroup\": \"rgb(73.08, 100.95, 96.75)\", \"marker\": {\"cmax\": 100, \"cmin\": 0, \"color\": \"rgb(73.08, 100.95, 96.75)\", \"colorscale\": [[0, \"rgb(51.0, 63.0, 68.0)\"], [1, \"rgb(147.0, 228.0, 193.0)\"]], \"opacity\": 0, \"showscale\": true, \"size\": 1}, \"mode\": \"markers\", \"name\": \"\", \"showlegend\": false, \"text\": [null, null], \"type\": \"scatter\", \"x\": [\"2009-01-01\", \"2009-02-26\"], \"y\": [0, 0]}],\n",
       "                        {\"height\": 600, \"hovermode\": \"closest\", \"showlegend\": false, \"template\": {\"data\": {\"bar\": [{\"error_x\": {\"color\": \"#2a3f5f\"}, \"error_y\": {\"color\": \"#2a3f5f\"}, \"marker\": {\"line\": {\"color\": \"#E5ECF6\", \"width\": 0.5}}, \"type\": \"bar\"}], \"barpolar\": [{\"marker\": {\"line\": {\"color\": \"#E5ECF6\", \"width\": 0.5}}, \"type\": \"barpolar\"}], \"carpet\": [{\"aaxis\": {\"endlinecolor\": \"#2a3f5f\", \"gridcolor\": \"white\", \"linecolor\": \"white\", \"minorgridcolor\": \"white\", \"startlinecolor\": \"#2a3f5f\"}, \"baxis\": {\"endlinecolor\": \"#2a3f5f\", \"gridcolor\": \"white\", \"linecolor\": \"white\", \"minorgridcolor\": \"white\", \"startlinecolor\": \"#2a3f5f\"}, \"type\": \"carpet\"}], \"choropleth\": [{\"colorbar\": {\"outlinewidth\": 0, \"ticks\": \"\"}, \"type\": \"choropleth\"}], \"contour\": [{\"colorbar\": {\"outlinewidth\": 0, \"ticks\": \"\"}, \"colorscale\": [[0.0, \"#0d0887\"], [0.1111111111111111, \"#46039f\"], [0.2222222222222222, \"#7201a8\"], [0.3333333333333333, \"#9c179e\"], [0.4444444444444444, \"#bd3786\"], [0.5555555555555556, \"#d8576b\"], [0.6666666666666666, \"#ed7953\"], [0.7777777777777778, \"#fb9f3a\"], [0.8888888888888888, \"#fdca26\"], [1.0, \"#f0f921\"]], \"type\": \"contour\"}], \"contourcarpet\": [{\"colorbar\": {\"outlinewidth\": 0, \"ticks\": \"\"}, \"type\": \"contourcarpet\"}], \"heatmap\": [{\"colorbar\": {\"outlinewidth\": 0, \"ticks\": \"\"}, \"colorscale\": [[0.0, \"#0d0887\"], [0.1111111111111111, \"#46039f\"], [0.2222222222222222, \"#7201a8\"], [0.3333333333333333, \"#9c179e\"], [0.4444444444444444, \"#bd3786\"], [0.5555555555555556, \"#d8576b\"], [0.6666666666666666, \"#ed7953\"], [0.7777777777777778, \"#fb9f3a\"], [0.8888888888888888, \"#fdca26\"], [1.0, \"#f0f921\"]], \"type\": \"heatmap\"}], \"heatmapgl\": [{\"colorbar\": {\"outlinewidth\": 0, \"ticks\": \"\"}, \"colorscale\": [[0.0, \"#0d0887\"], [0.1111111111111111, \"#46039f\"], [0.2222222222222222, \"#7201a8\"], [0.3333333333333333, \"#9c179e\"], [0.4444444444444444, \"#bd3786\"], [0.5555555555555556, \"#d8576b\"], [0.6666666666666666, \"#ed7953\"], [0.7777777777777778, \"#fb9f3a\"], [0.8888888888888888, \"#fdca26\"], [1.0, \"#f0f921\"]], \"type\": \"heatmapgl\"}], \"histogram\": [{\"marker\": {\"colorbar\": {\"outlinewidth\": 0, \"ticks\": \"\"}}, \"type\": \"histogram\"}], \"histogram2d\": [{\"colorbar\": {\"outlinewidth\": 0, \"ticks\": \"\"}, \"colorscale\": [[0.0, \"#0d0887\"], [0.1111111111111111, \"#46039f\"], [0.2222222222222222, \"#7201a8\"], [0.3333333333333333, \"#9c179e\"], [0.4444444444444444, \"#bd3786\"], [0.5555555555555556, \"#d8576b\"], [0.6666666666666666, \"#ed7953\"], [0.7777777777777778, \"#fb9f3a\"], [0.8888888888888888, \"#fdca26\"], [1.0, \"#f0f921\"]], \"type\": \"histogram2d\"}], \"histogram2dcontour\": [{\"colorbar\": {\"outlinewidth\": 0, \"ticks\": \"\"}, \"colorscale\": [[0.0, \"#0d0887\"], [0.1111111111111111, \"#46039f\"], [0.2222222222222222, \"#7201a8\"], [0.3333333333333333, \"#9c179e\"], [0.4444444444444444, \"#bd3786\"], [0.5555555555555556, \"#d8576b\"], [0.6666666666666666, \"#ed7953\"], [0.7777777777777778, \"#fb9f3a\"], [0.8888888888888888, \"#fdca26\"], [1.0, \"#f0f921\"]], \"type\": \"histogram2dcontour\"}], \"mesh3d\": [{\"colorbar\": {\"outlinewidth\": 0, \"ticks\": \"\"}, \"type\": \"mesh3d\"}], \"parcoords\": [{\"line\": {\"colorbar\": {\"outlinewidth\": 0, \"ticks\": \"\"}}, \"type\": \"parcoords\"}], \"pie\": [{\"automargin\": true, \"type\": \"pie\"}], \"scatter\": [{\"marker\": {\"colorbar\": {\"outlinewidth\": 0, \"ticks\": \"\"}}, \"type\": \"scatter\"}], \"scatter3d\": [{\"line\": {\"colorbar\": {\"outlinewidth\": 0, \"ticks\": \"\"}}, \"marker\": {\"colorbar\": {\"outlinewidth\": 0, \"ticks\": \"\"}}, \"type\": \"scatter3d\"}], \"scattercarpet\": [{\"marker\": {\"colorbar\": {\"outlinewidth\": 0, \"ticks\": \"\"}}, \"type\": \"scattercarpet\"}], \"scattergeo\": [{\"marker\": {\"colorbar\": {\"outlinewidth\": 0, \"ticks\": \"\"}}, \"type\": \"scattergeo\"}], \"scattergl\": [{\"marker\": {\"colorbar\": {\"outlinewidth\": 0, \"ticks\": \"\"}}, \"type\": \"scattergl\"}], \"scattermapbox\": [{\"marker\": {\"colorbar\": {\"outlinewidth\": 0, \"ticks\": \"\"}}, \"type\": \"scattermapbox\"}], \"scatterpolar\": [{\"marker\": {\"colorbar\": {\"outlinewidth\": 0, \"ticks\": \"\"}}, \"type\": \"scatterpolar\"}], \"scatterpolargl\": [{\"marker\": {\"colorbar\": {\"outlinewidth\": 0, \"ticks\": \"\"}}, \"type\": \"scatterpolargl\"}], \"scatterternary\": [{\"marker\": {\"colorbar\": {\"outlinewidth\": 0, \"ticks\": \"\"}}, \"type\": \"scatterternary\"}], \"surface\": [{\"colorbar\": {\"outlinewidth\": 0, \"ticks\": \"\"}, \"colorscale\": [[0.0, \"#0d0887\"], [0.1111111111111111, \"#46039f\"], [0.2222222222222222, \"#7201a8\"], [0.3333333333333333, \"#9c179e\"], [0.4444444444444444, \"#bd3786\"], [0.5555555555555556, \"#d8576b\"], [0.6666666666666666, \"#ed7953\"], [0.7777777777777778, \"#fb9f3a\"], [0.8888888888888888, \"#fdca26\"], [1.0, \"#f0f921\"]], \"type\": \"surface\"}], \"table\": [{\"cells\": {\"fill\": {\"color\": \"#EBF0F8\"}, \"line\": {\"color\": \"white\"}}, \"header\": {\"fill\": {\"color\": \"#C8D4E3\"}, \"line\": {\"color\": \"white\"}}, \"type\": \"table\"}]}, \"layout\": {\"annotationdefaults\": {\"arrowcolor\": \"#2a3f5f\", \"arrowhead\": 0, \"arrowwidth\": 1}, \"coloraxis\": {\"colorbar\": {\"outlinewidth\": 0, \"ticks\": \"\"}}, \"colorscale\": {\"diverging\": [[0, \"#8e0152\"], [0.1, \"#c51b7d\"], [0.2, \"#de77ae\"], [0.3, \"#f1b6da\"], [0.4, \"#fde0ef\"], [0.5, \"#f7f7f7\"], [0.6, \"#e6f5d0\"], [0.7, \"#b8e186\"], [0.8, \"#7fbc41\"], [0.9, \"#4d9221\"], [1, \"#276419\"]], \"sequential\": [[0.0, \"#0d0887\"], [0.1111111111111111, \"#46039f\"], [0.2222222222222222, \"#7201a8\"], [0.3333333333333333, \"#9c179e\"], [0.4444444444444444, \"#bd3786\"], [0.5555555555555556, \"#d8576b\"], [0.6666666666666666, \"#ed7953\"], [0.7777777777777778, \"#fb9f3a\"], [0.8888888888888888, \"#fdca26\"], [1.0, \"#f0f921\"]], \"sequentialminus\": [[0.0, \"#0d0887\"], [0.1111111111111111, \"#46039f\"], [0.2222222222222222, \"#7201a8\"], [0.3333333333333333, \"#9c179e\"], [0.4444444444444444, \"#bd3786\"], [0.5555555555555556, \"#d8576b\"], [0.6666666666666666, \"#ed7953\"], [0.7777777777777778, \"#fb9f3a\"], [0.8888888888888888, \"#fdca26\"], [1.0, \"#f0f921\"]]}, \"colorway\": [\"#636efa\", \"#EF553B\", \"#00cc96\", \"#ab63fa\", \"#FFA15A\", \"#19d3f3\", \"#FF6692\", \"#B6E880\", \"#FF97FF\", \"#FECB52\"], \"font\": {\"color\": \"#2a3f5f\"}, \"geo\": {\"bgcolor\": \"white\", \"lakecolor\": \"white\", \"landcolor\": \"#E5ECF6\", \"showlakes\": true, \"showland\": true, \"subunitcolor\": \"white\"}, \"hoverlabel\": {\"align\": \"left\"}, \"hovermode\": \"closest\", \"mapbox\": {\"style\": \"light\"}, \"paper_bgcolor\": \"white\", \"plot_bgcolor\": \"#E5ECF6\", \"polar\": {\"angularaxis\": {\"gridcolor\": \"white\", \"linecolor\": \"white\", \"ticks\": \"\"}, \"bgcolor\": \"#E5ECF6\", \"radialaxis\": {\"gridcolor\": \"white\", \"linecolor\": \"white\", \"ticks\": \"\"}}, \"scene\": {\"xaxis\": {\"backgroundcolor\": \"#E5ECF6\", \"gridcolor\": \"white\", \"gridwidth\": 2, \"linecolor\": \"white\", \"showbackground\": true, \"ticks\": \"\", \"zerolinecolor\": \"white\"}, \"yaxis\": {\"backgroundcolor\": \"#E5ECF6\", \"gridcolor\": \"white\", \"gridwidth\": 2, \"linecolor\": \"white\", \"showbackground\": true, \"ticks\": \"\", \"zerolinecolor\": \"white\"}, \"zaxis\": {\"backgroundcolor\": \"#E5ECF6\", \"gridcolor\": \"white\", \"gridwidth\": 2, \"linecolor\": \"white\", \"showbackground\": true, \"ticks\": \"\", \"zerolinecolor\": \"white\"}}, \"shapedefaults\": {\"line\": {\"color\": \"#2a3f5f\"}}, \"ternary\": {\"aaxis\": {\"gridcolor\": \"white\", \"linecolor\": \"white\", \"ticks\": \"\"}, \"baxis\": {\"gridcolor\": \"white\", \"linecolor\": \"white\", \"ticks\": \"\"}, \"bgcolor\": \"#E5ECF6\", \"caxis\": {\"gridcolor\": \"white\", \"linecolor\": \"white\", \"ticks\": \"\"}}, \"title\": {\"x\": 0.05}, \"xaxis\": {\"automargin\": true, \"gridcolor\": \"white\", \"linecolor\": \"white\", \"ticks\": \"\", \"title\": {\"standoff\": 15}, \"zerolinecolor\": \"white\", \"zerolinewidth\": 2}, \"yaxis\": {\"automargin\": true, \"gridcolor\": \"white\", \"linecolor\": \"white\", \"ticks\": \"\", \"title\": {\"standoff\": 15}, \"zerolinecolor\": \"white\", \"zerolinewidth\": 2}}}, \"title\": {\"text\": \"Gantt Chart\"}, \"xaxis\": {\"rangeselector\": {\"buttons\": [{\"count\": 7, \"label\": \"1w\", \"step\": \"day\", \"stepmode\": \"backward\"}, {\"count\": 1, \"label\": \"1m\", \"step\": \"month\", \"stepmode\": \"backward\"}, {\"count\": 6, \"label\": \"6m\", \"step\": \"month\", \"stepmode\": \"backward\"}, {\"count\": 1, \"label\": \"YTD\", \"step\": \"year\", \"stepmode\": \"todate\"}, {\"count\": 1, \"label\": \"1y\", \"step\": \"year\", \"stepmode\": \"backward\"}, {\"step\": \"all\"}]}, \"showgrid\": true, \"type\": \"date\", \"zeroline\": false}, \"yaxis\": {\"autorange\": false, \"range\": [-1, 6], \"showgrid\": true, \"ticktext\": [\"Job A\", \"Job B\", \"Job C\", \"Job D\", \"Job E\"], \"tickvals\": [0, 1, 2, 3, 4], \"zeroline\": false}},\n",
       "                        {\"responsive\": true}\n",
       "                    ).then(function(){\n",
       "                            \n",
       "var gd = document.getElementById('68400e0f-6ce9-4b57-b666-50507645afd0');\n",
       "var x = new MutationObserver(function (mutations, observer) {{\n",
       "        var display = window.getComputedStyle(gd).display;\n",
       "        if (!display || display === 'none') {{\n",
       "            console.log([gd, 'removed!']);\n",
       "            Plotly.purge(gd);\n",
       "            observer.disconnect();\n",
       "        }}\n",
       "}});\n",
       "\n",
       "// Listen for the removal of the full notebook cells\n",
       "var notebookContainer = gd.closest('#notebook-container');\n",
       "if (notebookContainer) {{\n",
       "    x.observe(notebookContainer, {childList: true});\n",
       "}}\n",
       "\n",
       "// Listen for the clearing of the current output cell\n",
       "var outputEl = gd.closest('.output');\n",
       "if (outputEl) {{\n",
       "    x.observe(outputEl, {childList: true});\n",
       "}}\n",
       "\n",
       "                        })\n",
       "                };\n",
       "                });\n",
       "            </script>\n",
       "        </div>"
      ]
     },
     "metadata": {},
     "output_type": "display_data"
    }
   ],
   "source": [
    "import plotly.figure_factory as ff\n",
    "\n",
    "import pandas as pd\n",
    "df = pd.read_csv('https://raw.githubusercontent.com/plotly/datasets/master/gantt_example.csv')\n",
    "\n",
    "fig = ff.create_gantt(df, colors=['#333F44', '#93e4c1'], index_col='Complete',\n",
    "                      show_colorbar=True, bar_width=0.2, showgrid_x=True, showgrid_y=True)\n",
    "fig.show()\n"
   ]
  },
  {
   "cell_type": "code",
   "execution_count": 5,
   "metadata": {},
   "outputs": [],
   "source": [
    "dict_problems = { 'Problem 01': \n",
    "                 {'tasks':5\n",
    "                  , 'machines':3\n",
    "                  , 'processing_time':[[5,1,2],[4,3,7],[8,1,5],[2,4,6],[9,7,3]]\n",
    "                  , 'scheduling':[1,0,3,4,2]},\n",
    "                 'Problem 02': \n",
    "                {'tasks':6\n",
    "                 ,'machines':4\n",
    "                 ,'processing_time':[\n",
    "                     [25,45,52,40],\n",
    "                     [7, 41, 22, 66],\n",
    "                     [41, 55, 33, 21],\n",
    "                     [74, 12, 24, 48],\n",
    "                     [7, 15, 72, 52],\n",
    "                     [12, 14, 22, 32]]\n",
    "                 ,'scheduling':[1,2,3,4,5,6]},\n",
    "                 'Problem 03': \n",
    "                 {'tasks':4\n",
    "                  ,'machines':3\n",
    "                  ,'processing_times':[ [5,4,7],[2,1,8],[9,3,6],[2,7,4]]\n",
    "                  ,'scheduling':[1,2,3,4]\n",
    "                 }\n",
    "                }\n",
    "\n",
    "{'Name': 'Name38522366',\n",
    " 'Number of Tasks': 9,\n",
    " 'Number of Machines': 3,\n",
    " 'Processing Time': array([[3, 3, 7],\n",
    "        [2, 4, 7],\n",
    "        [2, 1, 2],\n",
    "        [1, 1, 4],\n",
    "        [5, 1, 1],\n",
    "        [5, 2, 8],\n",
    "        [4, 3, 5],\n",
    "        [8, 3, 5],\n",
    "        [9, 1, 8]]),\n",
    " 'Start Time': array([[ 3.,  7., 14.],\n",
    "        [ 1.,  3.,  7.],\n",
    "        [15., 18., 34.],\n",
    "        [ 0.,  1.,  2.],\n",
    "        [34., 39., 49.],\n",
    "        [ 6., 11., 21.],\n",
    "        [11., 15., 29.],\n",
    "        [26., 34., 44.],\n",
    "        [17., 26., 36.]]),\n",
    " 'End Time': array([[ 6., 10., 21.],\n",
    "        [ 3.,  7., 14.],\n",
    "        [17., 19., 36.],\n",
    "        [ 1.,  2.,  6.],\n",
    "        [39., 40., 50.],\n",
    "        [11., 13., 29.],\n",
    "        [15., 18., 34.],\n",
    "        [34., 37., 49.],\n",
    "        [26., 27., 44.]]),\n",
    " 'Free Time': array([0., 0., 0.]),\n",
    " 'Scheduling': array([4, 2, 1, 6, 7, 3, 9, 8, 5], dtype=int64),\n",
    " 'Objective Function': {'Makespan': 50.0, 'Completion Time': 129.0},\n",
    " 'Method': 'Brute Force',\n",
    " 'Flow Shop Object': None}\n",
    "{'Name': 'Name38522366',\n",
    " 'Number of Tasks': 11,\n",
    " 'Number of Machines': 3,\n",
    " 'Processing Time': array([[7, 9, 7],\n",
    "        [6, 8, 7],\n",
    "        [8, 6, 6],\n",
    "        [5, 6, 6],\n",
    "        [5, 5, 6],\n",
    "        [8, 9, 5],\n",
    "        [5, 9, 6],\n",
    "        [8, 7, 9],\n",
    "        [7, 9, 5],\n",
    "        [5, 6, 8],\n",
    "        [9, 9, 9]]),\n",
    " 'Start Time': array([[43., 55., 64.],\n",
    "        [28., 38., 48.],\n",
    "        [57., 73., 79.],\n",
    "        [23., 32., 42.],\n",
    "        [18., 27., 36.],\n",
    "        [65., 79., 88.],\n",
    "        [ 5., 11., 20.],\n",
    "        [10., 20., 27.],\n",
    "        [50., 64., 73.],\n",
    "        [ 0.,  5., 11.],\n",
    "        [34., 46., 55.]]),\n",
    " 'End Time': array([[50., 64., 71.],\n",
    "        [34., 46., 55.],\n",
    "        [65., 79., 85.],\n",
    "        [28., 38., 48.],\n",
    "        [23., 32., 42.],\n",
    "        [73., 88., 93.],\n",
    "        [10., 20., 26.],\n",
    "        [18., 27., 36.],\n",
    "        [57., 73., 78.],\n",
    "        [ 5., 11., 19.],\n",
    "        [43., 55., 64.]]),\n",
    " 'Free Time': array([0., 0., 0.]),\n",
    " 'Scheduling': array([10,  7,  8,  5,  4,  2, 11,  1,  9,  3,  6], dtype=int64),\n",
    " 'Objective Function': {'Makespan': 93.0, 'Completion Time': 254.0},\n",
    " 'Method': 'Brute Force',\n",
    " 'Flow Shop Object': None}\n",
    "{'Name': 'Name38522366',\n",
    " 'Number of Tasks': 9,\n",
    " 'Number of Machines': 4,\n",
    " 'Processing Time': array([[3, 3, 7, 2],\n",
    "        [4, 7, 2, 1],\n",
    "        [2, 1, 1, 4],\n",
    "        [5, 1, 1, 5],\n",
    "        [2, 8, 4, 3],\n",
    "        [5, 8, 3, 5],\n",
    "        [9, 1, 8, 4],\n",
    "        [5, 7, 2, 6],\n",
    "        [7, 3, 2, 9]]),\n",
    " 'Start Time': array([[11., 15., 18., 28.],\n",
    "        [38., 42., 49., 51.],\n",
    "        [ 0.,  2.,  3.,  4.],\n",
    "        [24., 34., 37., 42.],\n",
    "        [ 2.,  4., 12., 16.],\n",
    "        [19., 26., 34., 37.],\n",
    "        [29., 38., 39., 47.],\n",
    "        [14., 19., 26., 30.],\n",
    "        [ 4., 12., 16., 19.]]),\n",
    " 'End Time': array([[14., 18., 25., 30.],\n",
    "        [42., 49., 51., 52.],\n",
    "        [ 2.,  3.,  4.,  8.],\n",
    "        [29., 35., 38., 47.],\n",
    "        [ 4., 12., 16., 19.],\n",
    "        [24., 34., 37., 42.],\n",
    "        [38., 39., 47., 51.],\n",
    "        [19., 26., 28., 36.],\n",
    "        [11., 15., 18., 28.]]),\n",
    " 'Free Time': array([0., 0., 0., 0.]),\n",
    " 'Scheduling': array([3, 5, 9, 1, 8, 6, 4, 7, 2], dtype=int64),\n",
    " 'Objective Function': {'Makespan': 52.0, 'Completion Time': 194.0},\n",
    " 'Method': 'Brute Force',\n",
    " 'Flow Shop Object': <__main__.FlowShopPermutational at 0x235d510b548>}"
   ]
  },
  {
   "cell_type": "code",
   "execution_count": null,
   "metadata": {},
   "outputs": [],
   "source": [
    "class container():\n",
    "    def __init__(self, width, height, grid):\n",
    "        self.width = width\n",
    "        self.height = height\n",
    "        self.grid = np.zeros(width)\n",
    "        "
   ]
  },
  {
   "cell_type": "code",
   "execution_count": 2,
   "metadata": {},
   "outputs": [
    {
     "data": {
      "text/plain": [
       "array([0., 0., 0., 0., 0., 0., 0., 0., 0., 0.])"
      ]
     },
     "execution_count": 2,
     "metadata": {},
     "output_type": "execute_result"
    }
   ],
   "source": [
    "np.zeros(10)"
   ]
  }
 ],
 "metadata": {
  "kernelspec": {
   "display_name": "Python 3",
   "language": "python",
   "name": "python3"
  },
  "language_info": {
   "codemirror_mode": {
    "name": "ipython",
    "version": 3
   },
   "file_extension": ".py",
   "mimetype": "text/x-python",
   "name": "python",
   "nbconvert_exporter": "python",
   "pygments_lexer": "ipython3",
   "version": "3.7.6"
  }
 },
 "nbformat": 4,
 "nbformat_minor": 2
}
